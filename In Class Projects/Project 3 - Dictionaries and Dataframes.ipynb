{
 "cells": [
  {
   "cell_type": "markdown",
   "metadata": {},
   "source": [
    "# Project 3 - Dictionaries and Dataframes\n",
    "\n",
    "Dictionaries are a data structure that do not assume an index value for the data stored in the structures. \n",
    "\n",
    "Dictionaries take the general form:\n",
    "\n",
    "> my_dictionary - (key:obj)\n",
    "\n",
    "To call the object that is linked to the key, \n",
    "\n",
    "> my_dictionary[key] will output the object, [obj]"
   ]
  },
  {
   "cell_type": "code",
   "execution_count": 1,
   "metadata": {},
   "outputs": [
    {
     "data": {
      "text/plain": [
       "{}"
      ]
     },
     "execution_count": 1,
     "metadata": {},
     "output_type": "execute_result"
    }
   ],
   "source": [
    "dct = {}\n",
    "dct"
   ]
  },
  {
   "cell_type": "code",
   "execution_count": 2,
   "metadata": {},
   "outputs": [
    {
     "data": {
      "text/plain": [
       "({'run': {}}, {'walk': {}})"
      ]
     },
     "execution_count": 2,
     "metadata": {},
     "output_type": "execute_result"
    }
   ],
   "source": [
    "dct = {\"run\": {}}, {\"walk\":{}}\n",
    "\n",
    "dct"
   ]
  },
  {
   "cell_type": "code",
   "execution_count": 3,
   "metadata": {},
   "outputs": [
    {
     "data": {
      "text/plain": [
       "{'run': 'to move swiftly by foot', 'walk': 'to move slowly by foot'}"
      ]
     },
     "execution_count": 3,
     "metadata": {},
     "output_type": "execute_result"
    }
   ],
   "source": [
    "dct = {\"run\": \"to move swiftly by foot\", \n",
    "       \"walk\": \"to move slowly by foot\"}\n",
    "dct"
   ]
  },
  {
   "cell_type": "code",
   "execution_count": 4,
   "metadata": {},
   "outputs": [
    {
     "data": {
      "text/plain": [
       "{'run': {'verb': 'to move swiftly by foot',\n",
       "  'noun': 'refers to a period of time while one was running'},\n",
       " 'walk': {'verb': 'to move slowly, leisurely by foot',\n",
       "  'noun': 'refers to a period of time while one was walking'}}"
      ]
     },
     "execution_count": 4,
     "metadata": {},
     "output_type": "execute_result"
    }
   ],
   "source": [
    "dct = {\"run\": {\"verb\" :\"to move swiftly by foot\",\n",
    "                \"noun\" : \"refers to a period of time while one was running\"},\n",
    "      \"walk\":{\"verb\" :\"to move slowly, leisurely by foot\",\n",
    "                \"noun\" : \"refers to a period of time while one was walking\"}\n",
    "      }\n",
    "dct"
   ]
  },
  {
   "cell_type": "markdown",
   "metadata": {},
   "source": [
    "### You can import pandas to create a dataframe of your dictionary"
   ]
  },
  {
   "cell_type": "code",
   "execution_count": 5,
   "metadata": {},
   "outputs": [
    {
     "data": {
      "text/html": [
       "<div>\n",
       "<style scoped>\n",
       "    .dataframe tbody tr th:only-of-type {\n",
       "        vertical-align: middle;\n",
       "    }\n",
       "\n",
       "    .dataframe tbody tr th {\n",
       "        vertical-align: top;\n",
       "    }\n",
       "\n",
       "    .dataframe thead th {\n",
       "        text-align: right;\n",
       "    }\n",
       "</style>\n",
       "<table border=\"1\" class=\"dataframe\">\n",
       "  <thead>\n",
       "    <tr style=\"text-align: right;\">\n",
       "      <th></th>\n",
       "      <th>run</th>\n",
       "      <th>walk</th>\n",
       "    </tr>\n",
       "  </thead>\n",
       "  <tbody>\n",
       "    <tr>\n",
       "      <th>verb</th>\n",
       "      <td>to move swiftly by foot</td>\n",
       "      <td>to move slowly, leisurely by foot</td>\n",
       "    </tr>\n",
       "    <tr>\n",
       "      <th>noun</th>\n",
       "      <td>refers to a period of time while one was running</td>\n",
       "      <td>refers to a period of time while one was walking</td>\n",
       "    </tr>\n",
       "  </tbody>\n",
       "</table>\n",
       "</div>"
      ],
      "text/plain": [
       "                                                   run  \\\n",
       "verb                           to move swiftly by foot   \n",
       "noun  refers to a period of time while one was running   \n",
       "\n",
       "                                                  walk  \n",
       "verb                 to move slowly, leisurely by foot  \n",
       "noun  refers to a period of time while one was walking  "
      ]
     },
     "execution_count": 5,
     "metadata": {},
     "output_type": "execute_result"
    }
   ],
   "source": [
    "import pandas as pd\n",
    "df = pd.DataFrame(dct)\n",
    "df"
   ]
  },
  {
   "cell_type": "code",
   "execution_count": 6,
   "metadata": {},
   "outputs": [
    {
     "data": {
      "text/plain": [
       "{'Caden': {},\n",
       " 'Jacob K': {},\n",
       " 'Finnian': {},\n",
       " 'Genesis': {},\n",
       " 'Sam': {},\n",
       " 'Proma': {},\n",
       " 'Zach': {},\n",
       " 'Jacob R': {},\n",
       " 'Brandon': {},\n",
       " 'Gabe': {},\n",
       " 'Drew': {},\n",
       " 'Isaac': {},\n",
       " 'Kodjo': {}}"
      ]
     },
     "execution_count": 6,
     "metadata": {},
     "output_type": "execute_result"
    }
   ],
   "source": [
    "dct = {\"Caden\":{},\n",
    "      \"Jacob K\":{},\n",
    "      \"Finnian\":{},\n",
    "      \"Genesis\":{},\n",
    "      \"Sam\":{},\n",
    "      \"Proma\":{},\n",
    "      \"Zach\":{},\n",
    "      \"Jacob R\":{},\n",
    "      \"Brandon\":{},\n",
    "      \"Gabe\": {},\n",
    "      \"Drew\":{},\n",
    "      \"Isaac\":{},\n",
    "      \"Kodjo\":{}}\n",
    "dct"
   ]
  },
  {
   "cell_type": "code",
   "execution_count": 7,
   "metadata": {},
   "outputs": [
    {
     "data": {
      "text/plain": [
       "{'Caden': {'Age': 19, 'Interesting Fact': 'Played hockey in highschool'},\n",
       " 'Jacob P': {'Age': 21,\n",
       "  'Interesting Fact': 'Dr. Caton thought my last name was Keterson'},\n",
       " 'Finnian': {'Age': 21, 'Interesting Fact': 'Wrestled in highschool'},\n",
       " 'Genesis': {'Age': 20, 'Interesting Fact': 'Tore both of her ACLs'},\n",
       " 'Sam': {'Age': 23, 'Interesting Fact': 'Likes beige'},\n",
       " 'Proma': {'Age': 24,\n",
       "  'Interesting Fact': 'Learned classical dancing for 10 years'},\n",
       " 'Zach': {'Age': 20, 'Interesting Fact': 'Does track and field at NDSU'},\n",
       " 'Jacob R': {'Age': 20,\n",
       "  'Interesting Fact': 'Plays classic rock on the guitar'},\n",
       " 'Brandon': {'Age': 23,\n",
       "  'Interesting Fact': 'Used to play baseball in highschool'},\n",
       " 'Gabe': {'Age': 23, 'Interesting Fact': 'Double major for his undergrad'},\n",
       " 'Drew': {'Age': 49,\n",
       "  'Interesting Fact': 'Air force veteren and he freed willy'},\n",
       " 'Isaac': {'Age': 21, 'Interesting Fact': 'Going to Europe in the summer'},\n",
       " 'Kodjo': {'Age': 30, 'Interesting Fact': 'Wife is a soldier'}}"
      ]
     },
     "execution_count": 7,
     "metadata": {},
     "output_type": "execute_result"
    }
   ],
   "source": [
    "dct = {\"Caden\":{\"Age\":19,\n",
    "               \"Interesting Fact\":\"Played hockey in highschool\"},\n",
    "      \"Jacob P\":{\"Age\":21,\n",
    "               \"Interesting Fact\":\"Dr. Caton thought my last name was Keterson\"},\n",
    "      \"Finnian\":{\"Age\":21,\n",
    "               \"Interesting Fact\":\"Wrestled in highschool\"},\n",
    "      \"Genesis\":{\"Age\":20,\n",
    "               \"Interesting Fact\":\"Tore both of her ACLs\"},\n",
    "      \"Sam\":{\"Age\":23,\n",
    "               \"Interesting Fact\":\"Likes beige\"},\n",
    "      \"Proma\":{\"Age\":24,\n",
    "               \"Interesting Fact\":\"Learned classical dancing for 10 years\"},\n",
    "      \"Zach\":{\"Age\":20,\n",
    "               \"Interesting Fact\":\"Does track and field at NDSU\"},\n",
    "      \"Jacob R\":{\"Age\":20,\n",
    "               \"Interesting Fact\":\"Plays classic rock on the guitar\"},\n",
    "      \"Brandon\":{\"Age\":23,\n",
    "               \"Interesting Fact\":\"Used to play baseball in highschool\"},\n",
    "      \"Gabe\": {\"Age\":23,\n",
    "               \"Interesting Fact\":\"Double major for his undergrad\"},\n",
    "      \"Drew\":{\"Age\":49,\n",
    "               \"Interesting Fact\":\"Air force veteren and he freed willy\"},\n",
    "      \"Isaac\":{\"Age\":21,\n",
    "               \"Interesting Fact\":\"Going to Europe in the summer\"},\n",
    "      \"Kodjo\":{\"Age\":30,\n",
    "               \"Interesting Fact\":\"Wife is a soldier\"}}\n",
    "dct"
   ]
  },
  {
   "cell_type": "code",
   "execution_count": 8,
   "metadata": {},
   "outputs": [
    {
     "data": {
      "text/html": [
       "<div>\n",
       "<style scoped>\n",
       "    .dataframe tbody tr th:only-of-type {\n",
       "        vertical-align: middle;\n",
       "    }\n",
       "\n",
       "    .dataframe tbody tr th {\n",
       "        vertical-align: top;\n",
       "    }\n",
       "\n",
       "    .dataframe thead th {\n",
       "        text-align: right;\n",
       "    }\n",
       "</style>\n",
       "<table border=\"1\" class=\"dataframe\">\n",
       "  <thead>\n",
       "    <tr style=\"text-align: right;\">\n",
       "      <th></th>\n",
       "      <th>Age</th>\n",
       "      <th>Interesting Fact</th>\n",
       "    </tr>\n",
       "  </thead>\n",
       "  <tbody>\n",
       "    <tr>\n",
       "      <th>Caden</th>\n",
       "      <td>19</td>\n",
       "      <td>Played hockey in highschool</td>\n",
       "    </tr>\n",
       "    <tr>\n",
       "      <th>Jacob P</th>\n",
       "      <td>21</td>\n",
       "      <td>Dr. Caton thought my last name was Keterson</td>\n",
       "    </tr>\n",
       "    <tr>\n",
       "      <th>Finnian</th>\n",
       "      <td>21</td>\n",
       "      <td>Wrestled in highschool</td>\n",
       "    </tr>\n",
       "    <tr>\n",
       "      <th>Genesis</th>\n",
       "      <td>20</td>\n",
       "      <td>Tore both of her ACLs</td>\n",
       "    </tr>\n",
       "    <tr>\n",
       "      <th>Sam</th>\n",
       "      <td>23</td>\n",
       "      <td>Likes beige</td>\n",
       "    </tr>\n",
       "    <tr>\n",
       "      <th>Proma</th>\n",
       "      <td>24</td>\n",
       "      <td>Learned classical dancing for 10 years</td>\n",
       "    </tr>\n",
       "    <tr>\n",
       "      <th>Zach</th>\n",
       "      <td>20</td>\n",
       "      <td>Does track and field at NDSU</td>\n",
       "    </tr>\n",
       "    <tr>\n",
       "      <th>Jacob R</th>\n",
       "      <td>20</td>\n",
       "      <td>Plays classic rock on the guitar</td>\n",
       "    </tr>\n",
       "    <tr>\n",
       "      <th>Brandon</th>\n",
       "      <td>23</td>\n",
       "      <td>Used to play baseball in highschool</td>\n",
       "    </tr>\n",
       "    <tr>\n",
       "      <th>Gabe</th>\n",
       "      <td>23</td>\n",
       "      <td>Double major for his undergrad</td>\n",
       "    </tr>\n",
       "    <tr>\n",
       "      <th>Drew</th>\n",
       "      <td>49</td>\n",
       "      <td>Air force veteren and he freed willy</td>\n",
       "    </tr>\n",
       "    <tr>\n",
       "      <th>Isaac</th>\n",
       "      <td>21</td>\n",
       "      <td>Going to Europe in the summer</td>\n",
       "    </tr>\n",
       "    <tr>\n",
       "      <th>Kodjo</th>\n",
       "      <td>30</td>\n",
       "      <td>Wife is a soldier</td>\n",
       "    </tr>\n",
       "  </tbody>\n",
       "</table>\n",
       "</div>"
      ],
      "text/plain": [
       "        Age                             Interesting Fact\n",
       "Caden    19                  Played hockey in highschool\n",
       "Jacob P  21  Dr. Caton thought my last name was Keterson\n",
       "Finnian  21                       Wrestled in highschool\n",
       "Genesis  20                        Tore both of her ACLs\n",
       "Sam      23                                  Likes beige\n",
       "Proma    24       Learned classical dancing for 10 years\n",
       "Zach     20                 Does track and field at NDSU\n",
       "Jacob R  20             Plays classic rock on the guitar\n",
       "Brandon  23          Used to play baseball in highschool\n",
       "Gabe     23               Double major for his undergrad\n",
       "Drew     49         Air force veteren and he freed willy\n",
       "Isaac    21                Going to Europe in the summer\n",
       "Kodjo    30                            Wife is a soldier"
      ]
     },
     "execution_count": 8,
     "metadata": {},
     "output_type": "execute_result"
    }
   ],
   "source": [
    "df = pd.DataFrame(dct).T\n",
    "df\n",
    "# .T will transpose data"
   ]
  },
  {
   "cell_type": "code",
   "execution_count": 9,
   "metadata": {},
   "outputs": [
    {
     "data": {
      "text/plain": [
       "Caden      19\n",
       "Jacob P    21\n",
       "Finnian    21\n",
       "Genesis    20\n",
       "Sam        23\n",
       "Proma      24\n",
       "Zach       20\n",
       "Jacob R    20\n",
       "Brandon    23\n",
       "Gabe       23\n",
       "Drew       49\n",
       "Isaac      21\n",
       "Kodjo      30\n",
       "Name: Age, dtype: object"
      ]
     },
     "execution_count": 9,
     "metadata": {},
     "output_type": "execute_result"
    }
   ],
   "source": [
    "# call the column\n",
    "df[\"Age\"]"
   ]
  },
  {
   "cell_type": "code",
   "execution_count": 10,
   "metadata": {},
   "outputs": [
    {
     "data": {
      "text/plain": [
       "Age                                               20\n",
       "Interesting Fact    Plays classic rock on the guitar\n",
       "Name: Jacob R, dtype: object"
      ]
     },
     "execution_count": 10,
     "metadata": {},
     "output_type": "execute_result"
    }
   ],
   "source": [
    "# call the row\n",
    "df.loc[\"Jacob R\"]"
   ]
  },
  {
   "cell_type": "code",
   "execution_count": 11,
   "metadata": {},
   "outputs": [
    {
     "data": {
      "text/plain": [
       "20"
      ]
     },
     "execution_count": 11,
     "metadata": {},
     "output_type": "execute_result"
    }
   ],
   "source": [
    "# call a cell\n",
    "df.loc[\"Jacob R\", \"Age\"]"
   ]
  },
  {
   "cell_type": "code",
   "execution_count": 12,
   "metadata": {},
   "outputs": [
    {
     "data": {
      "text/plain": [
       "{'Caden': {'Age': 19, 'Interesting Fact': 'Played hockey in highschool'},\n",
       " 'Jacob P': {'Age': 21,\n",
       "  'Interesting Fact': 'Dr. Caton thought my last name was Keterson'},\n",
       " 'Finnian': {'Age': 21, 'Interesting Fact': 'Wrestled in highschool'},\n",
       " 'Genesis': {'Age': 20, 'Interesting Fact': 'Tore both of her ACLs'},\n",
       " 'Sam': {'Age': 23, 'Interesting Fact': 'Likes beige'},\n",
       " 'Proma': {'Age': 24,\n",
       "  'Interesting Fact': 'Learned classical dancing for 10 years'},\n",
       " 'Zach': {'Age': 20, 'Interesting Fact': 'Does track and field at NDSU'},\n",
       " 'Jacob R': {'Age': 20,\n",
       "  'Interesting Fact': 'Plays classic rock on the guitar'},\n",
       " 'Brandon': {'Age': 23,\n",
       "  'Interesting Fact': 'Used to play baseball in highschool'},\n",
       " 'Gabe': {'Age': 23, 'Interesting Fact': 'Double major for his undergrad'},\n",
       " 'Drew': {'Age': 49,\n",
       "  'Interesting Fact': 'Air force veteren and he freed willy'},\n",
       " 'Isaac': {'Age': 21, 'Interesting Fact': 'Going to Europe in the summer'},\n",
       " 'Kodjo': {'Age': 30, 'Interesting Fact': 'Wife is a soldier'},\n",
       " 'Dr. Caton': {'Age': None, 'Interesting Fact': 'He used to ride dirtbike'}}"
      ]
     },
     "execution_count": 12,
     "metadata": {},
     "output_type": "execute_result"
    }
   ],
   "source": [
    "#adding a object to a dictionary\n",
    "dct[\"Dr. Caton\"] = {}\n",
    "dct[\"Dr. Caton\"][\"Age\"] = None\n",
    "dct[\"Dr. Caton\"][\"Interesting Fact\"] = \"He used to ride dirtbike\"\n",
    "dct"
   ]
  },
  {
   "cell_type": "code",
   "execution_count": 13,
   "metadata": {},
   "outputs": [
    {
     "data": {
      "text/html": [
       "<div>\n",
       "<style scoped>\n",
       "    .dataframe tbody tr th:only-of-type {\n",
       "        vertical-align: middle;\n",
       "    }\n",
       "\n",
       "    .dataframe tbody tr th {\n",
       "        vertical-align: top;\n",
       "    }\n",
       "\n",
       "    .dataframe thead th {\n",
       "        text-align: right;\n",
       "    }\n",
       "</style>\n",
       "<table border=\"1\" class=\"dataframe\">\n",
       "  <thead>\n",
       "    <tr style=\"text-align: right;\">\n",
       "      <th></th>\n",
       "      <th>Age</th>\n",
       "      <th>Interesting Fact</th>\n",
       "    </tr>\n",
       "  </thead>\n",
       "  <tbody>\n",
       "    <tr>\n",
       "      <th>Caden</th>\n",
       "      <td>19</td>\n",
       "      <td>Played hockey in highschool</td>\n",
       "    </tr>\n",
       "    <tr>\n",
       "      <th>Jacob P</th>\n",
       "      <td>21</td>\n",
       "      <td>Dr. Caton thought my last name was Keterson</td>\n",
       "    </tr>\n",
       "    <tr>\n",
       "      <th>Finnian</th>\n",
       "      <td>21</td>\n",
       "      <td>Wrestled in highschool</td>\n",
       "    </tr>\n",
       "    <tr>\n",
       "      <th>Genesis</th>\n",
       "      <td>20</td>\n",
       "      <td>Tore both of her ACLs</td>\n",
       "    </tr>\n",
       "    <tr>\n",
       "      <th>Sam</th>\n",
       "      <td>23</td>\n",
       "      <td>Likes beige</td>\n",
       "    </tr>\n",
       "    <tr>\n",
       "      <th>Proma</th>\n",
       "      <td>24</td>\n",
       "      <td>Learned classical dancing for 10 years</td>\n",
       "    </tr>\n",
       "    <tr>\n",
       "      <th>Zach</th>\n",
       "      <td>20</td>\n",
       "      <td>Does track and field at NDSU</td>\n",
       "    </tr>\n",
       "    <tr>\n",
       "      <th>Jacob R</th>\n",
       "      <td>20</td>\n",
       "      <td>Plays classic rock on the guitar</td>\n",
       "    </tr>\n",
       "    <tr>\n",
       "      <th>Brandon</th>\n",
       "      <td>23</td>\n",
       "      <td>Used to play baseball in highschool</td>\n",
       "    </tr>\n",
       "    <tr>\n",
       "      <th>Gabe</th>\n",
       "      <td>23</td>\n",
       "      <td>Double major for his undergrad</td>\n",
       "    </tr>\n",
       "    <tr>\n",
       "      <th>Drew</th>\n",
       "      <td>49</td>\n",
       "      <td>Air force veteren and he freed willy</td>\n",
       "    </tr>\n",
       "    <tr>\n",
       "      <th>Isaac</th>\n",
       "      <td>21</td>\n",
       "      <td>Going to Europe in the summer</td>\n",
       "    </tr>\n",
       "    <tr>\n",
       "      <th>Kodjo</th>\n",
       "      <td>30</td>\n",
       "      <td>Wife is a soldier</td>\n",
       "    </tr>\n",
       "    <tr>\n",
       "      <th>Dr. Caton</th>\n",
       "      <td>None</td>\n",
       "      <td>He used to ride dirtbike</td>\n",
       "    </tr>\n",
       "  </tbody>\n",
       "</table>\n",
       "</div>"
      ],
      "text/plain": [
       "            Age                             Interesting Fact\n",
       "Caden        19                  Played hockey in highschool\n",
       "Jacob P      21  Dr. Caton thought my last name was Keterson\n",
       "Finnian      21                       Wrestled in highschool\n",
       "Genesis      20                        Tore both of her ACLs\n",
       "Sam          23                                  Likes beige\n",
       "Proma        24       Learned classical dancing for 10 years\n",
       "Zach         20                 Does track and field at NDSU\n",
       "Jacob R      20             Plays classic rock on the guitar\n",
       "Brandon      23          Used to play baseball in highschool\n",
       "Gabe         23               Double major for his undergrad\n",
       "Drew         49         Air force veteren and he freed willy\n",
       "Isaac        21                Going to Europe in the summer\n",
       "Kodjo        30                            Wife is a soldier\n",
       "Dr. Caton  None                     He used to ride dirtbike"
      ]
     },
     "execution_count": 13,
     "metadata": {},
     "output_type": "execute_result"
    }
   ],
   "source": [
    "pd.DataFrame(dct).T"
   ]
  },
  {
   "cell_type": "code",
   "execution_count": 14,
   "metadata": {},
   "outputs": [
    {
     "data": {
      "text/html": [
       "<div>\n",
       "<style scoped>\n",
       "    .dataframe tbody tr th:only-of-type {\n",
       "        vertical-align: middle;\n",
       "    }\n",
       "\n",
       "    .dataframe tbody tr th {\n",
       "        vertical-align: top;\n",
       "    }\n",
       "\n",
       "    .dataframe thead th {\n",
       "        text-align: right;\n",
       "    }\n",
       "</style>\n",
       "<table border=\"1\" class=\"dataframe\">\n",
       "  <thead>\n",
       "    <tr style=\"text-align: right;\">\n",
       "      <th></th>\n",
       "      <th>Age</th>\n",
       "      <th>Interesting Fact</th>\n",
       "    </tr>\n",
       "  </thead>\n",
       "  <tbody>\n",
       "    <tr>\n",
       "      <th>Caden</th>\n",
       "      <td>19</td>\n",
       "      <td>Played hockey in highschool</td>\n",
       "    </tr>\n",
       "    <tr>\n",
       "      <th>Jacob P</th>\n",
       "      <td>21</td>\n",
       "      <td>Dr. Caton thought my last name was Keterson</td>\n",
       "    </tr>\n",
       "    <tr>\n",
       "      <th>Finnian</th>\n",
       "      <td>21</td>\n",
       "      <td>Wrestled in highschool</td>\n",
       "    </tr>\n",
       "    <tr>\n",
       "      <th>Genesis</th>\n",
       "      <td>20</td>\n",
       "      <td>Tore both of her ACLs</td>\n",
       "    </tr>\n",
       "    <tr>\n",
       "      <th>Sam</th>\n",
       "      <td>23</td>\n",
       "      <td>Likes beige</td>\n",
       "    </tr>\n",
       "    <tr>\n",
       "      <th>Proma</th>\n",
       "      <td>24</td>\n",
       "      <td>Learned classical dancing for 10 years</td>\n",
       "    </tr>\n",
       "    <tr>\n",
       "      <th>Zach</th>\n",
       "      <td>20</td>\n",
       "      <td>Does track and field at NDSU</td>\n",
       "    </tr>\n",
       "    <tr>\n",
       "      <th>Jacob R</th>\n",
       "      <td>20</td>\n",
       "      <td>Plays classic rock on the guitar</td>\n",
       "    </tr>\n",
       "    <tr>\n",
       "      <th>Brandon</th>\n",
       "      <td>23</td>\n",
       "      <td>Used to play baseball in highschool</td>\n",
       "    </tr>\n",
       "    <tr>\n",
       "      <th>Gabe</th>\n",
       "      <td>23</td>\n",
       "      <td>Double major for his undergrad</td>\n",
       "    </tr>\n",
       "    <tr>\n",
       "      <th>Drew</th>\n",
       "      <td>49</td>\n",
       "      <td>Air force veteren and he freed willy</td>\n",
       "    </tr>\n",
       "    <tr>\n",
       "      <th>Isaac</th>\n",
       "      <td>21</td>\n",
       "      <td>Going to Europe in the summer</td>\n",
       "    </tr>\n",
       "    <tr>\n",
       "      <th>Kodjo</th>\n",
       "      <td>30</td>\n",
       "      <td>Wife is a soldier</td>\n",
       "    </tr>\n",
       "    <tr>\n",
       "      <th>Dr. Caton</th>\n",
       "      <td>None</td>\n",
       "      <td>He used to ride dirtbike</td>\n",
       "    </tr>\n",
       "    <tr>\n",
       "      <th>Joe Biden</th>\n",
       "      <td>78</td>\n",
       "      <td>Likes to play mariokart with his grandchildren</td>\n",
       "    </tr>\n",
       "  </tbody>\n",
       "</table>\n",
       "</div>"
      ],
      "text/plain": [
       "            Age                                Interesting Fact\n",
       "Caden        19                     Played hockey in highschool\n",
       "Jacob P      21     Dr. Caton thought my last name was Keterson\n",
       "Finnian      21                          Wrestled in highschool\n",
       "Genesis      20                           Tore both of her ACLs\n",
       "Sam          23                                     Likes beige\n",
       "Proma        24          Learned classical dancing for 10 years\n",
       "Zach         20                    Does track and field at NDSU\n",
       "Jacob R      20                Plays classic rock on the guitar\n",
       "Brandon      23             Used to play baseball in highschool\n",
       "Gabe         23                  Double major for his undergrad\n",
       "Drew         49            Air force veteren and he freed willy\n",
       "Isaac        21                   Going to Europe in the summer\n",
       "Kodjo        30                               Wife is a soldier\n",
       "Dr. Caton  None                        He used to ride dirtbike\n",
       "Joe Biden    78  Likes to play mariokart with his grandchildren"
      ]
     },
     "execution_count": 14,
     "metadata": {},
     "output_type": "execute_result"
    }
   ],
   "source": [
    "dct[\"Joe Biden\"] = {\"Age\":78,\n",
    "                  \"Interesting Fact\": \"Likes to play mariokart with his grandchildren\"}\n",
    "class_df = pd.DataFrame(dct).T\n",
    "class_df"
   ]
  },
  {
   "cell_type": "code",
   "execution_count": 15,
   "metadata": {},
   "outputs": [
    {
     "data": {
      "text/plain": [
       "Age                 object\n",
       "Interesting Fact    object\n",
       "dtype: object"
      ]
     },
     "execution_count": 15,
     "metadata": {},
     "output_type": "execute_result"
    }
   ],
   "source": [
    "class_df.dtypes"
   ]
  },
  {
   "cell_type": "code",
   "execution_count": 16,
   "metadata": {},
   "outputs": [
    {
     "data": {
      "text/plain": [
       "{'William Nganje': {'Website': 'https://www.ndsu.edu/agecon/faculty/william_nganje/#c622350',\n",
       "  'Areas of Specialization': 'Risk management; financial analysis; economics of obesity, food safety and food terrorism; experimental economics; and consumer choice theory',\n",
       "  'Bio': 'NA'},\n",
       " 'David Bullock': {'Website': 'https://www.ndsu.edu/agecon/faculty/bullock/#c622728',\n",
       "  'Areas of Specialization': 'futures and options markets, over-the-counter derivatives, trading, risk management, agrifinance, Monte Carlo simulation, and Big Data',\n",
       "  'Bio': 'Dr. David W. Bullock is a Research Associate Professor affiliated with the Center for Trading and Risk at NDSU.  His research interests include futures and options markets, over-the-counter derivatives, trading, risk management, agrifinance, Monte Carlo simulation, and Big Data applications in agriculture.  His academic research in option portfolio theory has been published in both the Journal of Economics and Business and the International Review of Economics and Finance.  Additionally, he was the primary contributor behind the AgriBank Insights publication series which won a National AgriMarketing Association (NAMA) award for the best company publication in 2016. Before coming to NDSU in January 2018, Dr. Bullock held numerous positions for over 25 years in the government and private sectors including the Senior Economist at AgriBank FCB – the regional Farm Credit System funding bank for the Upper Midwest region, Director of Research and Senior Foods Economist at Fortune 500 commodity risk management firm INTL FCStone Inc., the Senior Dairy Analyst at Informa Economics, a Risk Management Specialist with the Minnesota Department of Agriculture, and the Senior Economist at the Minneapolis Grain Exchange. David began his academic career as an Assistant Professor and Extension Marketing Economist at Montana State University after graduating from Iowa State University with a Ph.D. in agricultural economics with fields in agricultural price analysis and econometrics in 1989.  Prior to entering ISU, he received bachelor’s (1982) and master’s (1984) degrees in agricultural economics from Northwest Missouri State University. Dr. Bullock is originally from the small northwestern Missouri farming community of Lathrop which is located 40 miles north of the Kansas City metropolitan area.  While in high school, he served as a regional state Vice-President in the Future Farmers of America (FFA) during his senior year.'},\n",
       " 'James Caton': {'Website': 'https://www.ndsu.edu/centers/pcpe/about/directory/james_caton/',\n",
       "  'Areas of Specialization': 'Entrepreneurship, Institutions, Macroeconomics, Computation',\n",
       "  'Bio': \"James Caton is a faculty fellow at the NDSU Center for the Study of Public Choice and Private Enterprise (PCPE) and an assistant professor in the NDSU Department of Agribusiness and Applied Economics. He teaches undergraduate courses in the areas of macroeconomics, international trade, and computation. He specializes in research related to entrepreneurship, agent-based computational economics, market process theory, and monetary economics. His research has been published in the Southern Economic Journal, Erasmus Journal for Philosophy and Economics, Journal of Entrepreneurship and Public Policy and other academic publications. He co-edited Macroeconomics, a two volume set of essays and primary sources that represent the core of macroeconomic thought. He is also a regular contributor to the American Institute for Economic Research's Sound Money Project, which conducts research and promotes awareness about monetary stability and financial privacy. He resides in Fargo with his wife, Ingrid, and their children.\"},\n",
       " 'David Englund': {'Website': 'https://www.ndsu.edu/agecon/faculty/englund/#c622903',\n",
       "  'Areas of Specialization': 'Teaches Economic Principles, Led NDSU NAMA to National Champions',\n",
       "  'Bio': 'David Englund is a lecturer in the department.  He came to the department with 16 years of teaching experience, having taught Principles of Microeconomics, Principles of Macroeconomics, Money and Banking, Consumer Behavior, Selected Topics in Business, and several other classes.  He also had 10 years’ experience advising student NAMA chapters, having been awarded the Outstanding Advisor of the Year for a Developing Chapter in 2002, and the Outstanding Advisor of the Year award in 2009.\\nDavid primarily teaches Survey of Economics, Principles of Microeconomics, Skills for Academic Success, Agricultural Marketing, and NAMA (co-teaches).  He joined the NAMA team in the 2014-2015 school year as a co-advisor and helped coach the student team to a 3rd place finish in the national student marketing plan competition at the national conference.\\nSome of David’s outside interests are jogging, photography, and writing fiction novels.  His latest release, Camouflaged Encounters has received positive reviews.'},\n",
       " 'Erik Hanson': {'Website': 'https://www.ndsu.edu/agecon/faculty/hanson/#c622905',\n",
       "  'Areas of Specialization': 'Ag Management, Ag Finance',\n",
       "  'Bio': 'Erik Hanson is an Assistant Professor in the Department of Agricultural and Applied Economics. He teaches courses on agribusiness management and agricultural finance. Erik completed his Ph.D. at the University of Minnesota in 2016. Prior to that, Erik completed a master’s degree at the University of Illinois (2013) and a bachelor’s degree at Minnesota State University Moorhead (2011).'},\n",
       " 'Ronald Haugen': {'Website': 'https://www.ndsu.edu/agecon/about_us/faculty/ron_haugen/#c654700',\n",
       "  'Areas of Specialization': 'Farm management including: crop budgets, crop insurance, farm programs, custom farm rates, land rents, machinery economics, commodity price projections and agricultural income taxes.',\n",
       "  'Bio': 'Ron Haugen is an Extension Farm Management Specialist. He has been in the department since 1991. He computes the North Dakota Land Valuation Model.'},\n",
       " 'Robert Hearne': {'Website': 'https://www.ndsu.edu/agecon/faculty/hearne/#c622909',\n",
       "  'Areas of Specialization': 'Water resources management institutions, water markets, protected area management, and the economic valuation of environmental goods and services.',\n",
       "  'Bio': 'Dr. Bob Hearne has been in the Department of Agribusiness and Applied Economics since 2002. He has professional experience in Europe, Asia, Latin America, and Asia.'},\n",
       " 'Jeremy Jackson': {'Website': 'https://www.ndsu.edu/centers/pcpe/about/directory/jeremy_jackson/',\n",
       "  'Areas of Specialization': 'His research covers diverse topics, including public choice and the political economy; the social consequences of economic freedom; happiness and well-being; and philanthropy and nonprofits.',\n",
       "  'Bio': 'Jeremy Jackson is director of the Center for the Study of Public Choice and Private Enterprise, scholar at the Challey Institute for Global Innovation and Growth, and professor of economics in the Department of Agribusiness and Applied Economics at North Dakota State University.'},\n",
       " 'Prithviraj Lakkakula': {'Website': 'https://www.ndsu.edu/agecon/faculty/prithviraj_lakkakula/#c623441',\n",
       "  'Areas of Specialization': '',\n",
       "  'Bio': ''},\n",
       " 'Siew Lim': {'Website': 'https://www.ndsu.edu/agecon/faculty/lim/#c624837',\n",
       "  'Areas of Specialization': 'Her current research is in applied microeconomics, production economics, industrial organization, transportation and regional development. Her recent research works include transportation and  regional development.',\n",
       "  'Bio': 'Siew Hoon Lim is an associate professor of economics.'},\n",
       " 'Raymond March': {'Website': 'https://www.ndsu.edu/centers/pcpe/about/directory/raymond_march/',\n",
       "  'Areas of Specialization': 'His research examines the public and private provision and governance of health care in the United States, particularly in pharmaceutical markets.',\n",
       "  'Bio': 'Raymond March is a scholar at the Challey Institute for Global Innovation and Growth with the Center for the Study of Public Choice and Private Enterprise and an assistant professor of economics in the Department of Agribusiness and Applied Economics at North Dakota State University.'},\n",
       " 'Dragan Miljkovic': {'Website': 'https://www.ndsu.edu/agecon/faculty/miljkovic/#c625001',\n",
       "  'Areas of Specialization': 'Research areas of interest include agricultural price analysis, international economics, and agricultural and food policy including human nutrition, obesity, and food safety.',\n",
       "  'Bio': 'Dragan Miljkovic is professor of agricultural economics in the Department of Agribusiness & Applied Economics at North Dakota State University. Dr. Miljkovic holds B.S. and M.S. degrees in Economics from the University of Belgrade, and Ph.D. in Agricultural Economics from the University of Illinois at Urbana-Champaign.'},\n",
       " 'Frayne Olson': {'Website': 'https://www.ndsu.edu/agecon/faculty/olson/#c625016',\n",
       "  'Areas of Specialization': 'Research in evaluating crop marketing strategies, crop outlook and price analysis, and the economics of crop contracting.',\n",
       "  'Bio': 'Dr. Frayne Olson is the Crop Economist/Marketing Specialist with the North Dakota State University Extension and Director of the Quentin Burdick Center for Cooperatives.'},\n",
       " 'Bryon Parman': {'Website': 'https://www.ndsu.edu/agecon/faculty/parman/#c654590',\n",
       "  'Areas of Specialization': '',\n",
       "  'Bio': ''},\n",
       " 'Tim Petry': {'Website': 'https://www.ndsu.edu/agecon/faculty/petry/#c625018',\n",
       "  'Areas of Specialization': 'Livestock Marketing Economist',\n",
       "  'Bio': 'Tim Petry was raised on a livestock ranch in Northwestern North Dakota. He graduated from North Dakota State University with a major in Agricultural Economics in 1969 and served two years in the US Army.'},\n",
       " 'Xudong Rao': {'Website': 'https://www.ndsu.edu/agecon/faculty/rao/#c629066',\n",
       "  'Areas of Specialization': 'Farm and Agribusiness Management, Risk Analysis, Efficiency and Productivity, Technology Adoption, Food and Agricultural Policy, International Agricultural Development.',\n",
       "  'Bio': 'Assistant Professor, Department of Agribusiness and Applied Economics, North Dakota State University.'},\n",
       " 'Veeshan Rayamajhee': {'Website': 'https://www.ndsu.edu/centers/pcpe/about/directory/veeshan_rayamajhee/',\n",
       "  'Areas of Specialization': 'His research combines insights from Public Choice and New Institutional Economics to understand individual and collective responses to covariate shocks.',\n",
       "  'Bio': 'Veeshan Rayamajhee is a scholar at the Challey Institute for Global Innovation and Growth with the Center for the Study of Public Choice and Private Enterprise and an assistant professor of economics in the Department of Agribusiness and Applied Economics at North Dakota State University.'},\n",
       " 'David Ripplinger': {'Website': 'https://www.ndsu.edu/agecon/faculty/ripplinger/#c629078',\n",
       "  'Areas of Specialization': 'David conducts research and provides support to farmers and the bioenergy industry.',\n",
       "  'Bio': 'David Ripplinger is an Associate Professor in the Department of Agribusiness and Applied Economics at North Dakota State University and bioproducts/bioenergy economics specialist with NDSU Extension.'},\n",
       " 'David Roberts': {'Website': 'https://www.ndsu.edu/agecon/faculty/roberts/#c629137',\n",
       "  'Areas of Specialization': 'His research focuses on the impacts of agricultural production methods on the environment and natural resources. David is particularly interested in the economics of precision agriculture technologies and the response of cropping patterns and land use change to emerging biofuels policy at the Federal level.',\n",
       "  'Bio': 'David Roberts is an Assistant Professor of Agribusiness and Applied Economics at North Dakota State University.'},\n",
       " 'Kristi Schweiss': {'Website': 'https://www.ndsu.edu/agecon/faculty/schweiss/#c629139',\n",
       "  'Areas of Specialization': '',\n",
       "  'Bio': ''},\n",
       " 'Anupa Sharma': {'Website': 'https://www.ndsu.edu/agecon/faculty/sharma/#c629150',\n",
       "  'Areas of Specialization': 'Develops quantitative methods to address issues pertinent to International Trade.',\n",
       "  'Bio': 'Anupa Sharma is an Assistant Professor in the Department of Agribusiness and Applied Economics at North Dakota State University. She also serves as the Assistant Director for the Center for Agricultural Policy and Trade Studies (CAPTS).'},\n",
       " 'Cheryl Wachenheim': {'Website': 'https://www.ndsu.edu/agecon/faculty/wachenheim/#c629162',\n",
       "  'Areas of Specialization': 'Research interests focus on eliciting perceptions and valuations from consumers, firms, students and other stakeholders and decision makers.  Analysis then allows for identification of high-value marketing and management strategies.',\n",
       "  'Bio': 'Cheryl Wachenheim is a Professor in the Department of Agribusiness and Applied Economics at North Dakota State University.'},\n",
       " 'William Wilson': {'Website': 'https://www.ndsu.edu/agecon/faculty/wilson/#c629178',\n",
       "  'Areas of Specialization': 'His focus is risk and strategy as applied to agriculture and agribusiness with a particular focus on agtechnology development and commercialization, procurement, transportation and logistics, international marketing and competition.',\n",
       "  'Bio': 'Dr. William W. Wilson received his PhD in Agricultural Economics from the University of Manitoba in 1980. Since then he has been a Professor at North Dakota State University in Agribusiness and Applied Economics with periodic sabbaticals at Stanford University. Recently, he was named as a University Distinguished Professor at NDSU which an honorary position is, and a great achievement.'}}"
      ]
     },
     "execution_count": 16,
     "metadata": {},
     "output_type": "execute_result"
    }
   ],
   "source": [
    "faculty_dict =  {\"William Nganje\":{\"Website\":\"https://www.ndsu.edu/agecon/faculty/william_nganje/#c622350\", \n",
    "                                     \"Areas of Specialization\":\"Risk management; financial analysis; economics of obesity, food safety and food terrorism; experimental economics; and consumer choice theory\",\n",
    "                                     \"Bio\":\"NA\"},\n",
    "                 \"David Bullock\": {\"Website\":\"https://www.ndsu.edu/agecon/faculty/bullock/#c622728\",\n",
    "                                    \"Areas of Specialization\": \"futures and options markets, over-the-counter derivatives, trading, risk management, agrifinance, Monte Carlo simulation, and Big Data\",\n",
    "                                    \"Bio\":\"Dr. David W. Bullock is a Research Associate Professor affiliated with the Center for Trading and Risk at NDSU.  His research interests include futures and options markets, over-the-counter derivatives, trading, risk management, agrifinance, Monte Carlo simulation, and Big Data applications in agriculture.  His academic research in option portfolio theory has been published in both the Journal of Economics and Business and the International Review of Economics and Finance.  Additionally, he was the primary contributor behind the AgriBank Insights publication series which won a National AgriMarketing Association (NAMA) award for the best company publication in 2016. Before coming to NDSU in January 2018, Dr. Bullock held numerous positions for over 25 years in the government and private sectors including the Senior Economist at AgriBank FCB – the regional Farm Credit System funding bank for the Upper Midwest region, Director of Research and Senior Foods Economist at Fortune 500 commodity risk management firm INTL FCStone Inc., the Senior Dairy Analyst at Informa Economics, a Risk Management Specialist with the Minnesota Department of Agriculture, and the Senior Economist at the Minneapolis Grain Exchange. David began his academic career as an Assistant Professor and Extension Marketing Economist at Montana State University after graduating from Iowa State University with a Ph.D. in agricultural economics with fields in agricultural price analysis and econometrics in 1989.  Prior to entering ISU, he received bachelor’s (1982) and master’s (1984) degrees in agricultural economics from Northwest Missouri State University. Dr. Bullock is originally from the small northwestern Missouri farming community of Lathrop which is located 40 miles north of the Kansas City metropolitan area.  While in high school, he served as a regional state Vice-President in the Future Farmers of America (FFA) during his senior year.\"},\n",
    "                 \"James Caton\": {\"Website\":\"https://www.ndsu.edu/centers/pcpe/about/directory/james_caton/\",\n",
    "                                 \"Areas of Specialization\": \"Entrepreneurship, Institutions, Macroeconomics, Computation\",\n",
    "                                 \"Bio\":\"James Caton is a faculty fellow at the NDSU Center for the Study of Public Choice and Private Enterprise (PCPE) and an assistant professor in the NDSU Department of Agribusiness and Applied Economics. He teaches undergraduate courses in the areas of macroeconomics, international trade, and computation. He specializes in research related to entrepreneurship, agent-based computational economics, market process theory, and monetary economics. His research has been published in the Southern Economic Journal, Erasmus Journal for Philosophy and Economics, Journal of Entrepreneurship and Public Policy and other academic publications. He co-edited Macroeconomics, a two volume set of essays and primary sources that represent the core of macroeconomic thought. He is also a regular contributor to the American Institute for Economic Research's Sound Money Project, which conducts research and promotes awareness about monetary stability and financial privacy. He resides in Fargo with his wife, Ingrid, and their children.\"},\n",
    "                 \"David Englund\": {\"Website\":\"https://www.ndsu.edu/agecon/faculty/englund/#c622903\",\n",
    "                                 \"Areas of Specialization\": \"Teaches Economic Principles, Led NDSU NAMA to National Champions\",\n",
    "                                 \"Bio\":\"David Englund is a lecturer in the department.  He came to the department with 16 years of teaching experience, having taught Principles of Microeconomics, Principles of Macroeconomics, Money and Banking, Consumer Behavior, Selected Topics in Business, and several other classes.  He also had 10 years’ experience advising student NAMA chapters, having been awarded the Outstanding Advisor of the Year for a Developing Chapter in 2002, and the Outstanding Advisor of the Year award in 2009.\\nDavid primarily teaches Survey of Economics, Principles of Microeconomics, Skills for Academic Success, Agricultural Marketing, and NAMA (co-teaches).  He joined the NAMA team in the 2014-2015 school year as a co-advisor and helped coach the student team to a 3rd place finish in the national student marketing plan competition at the national conference.\\nSome of David’s outside interests are jogging, photography, and writing fiction novels.  His latest release, Camouflaged Encounters has received positive reviews.\"},\n",
    "                 \"Erik Hanson\": {\"Website\":\"https://www.ndsu.edu/agecon/faculty/hanson/#c622905\",\n",
    "                                 \"Areas of Specialization\": \"Ag Management, Ag Finance\",\n",
    "                                 \"Bio\":\"Erik Hanson is an Assistant Professor in the Department of Agricultural and Applied Economics. He teaches courses on agribusiness management and agricultural finance. Erik completed his Ph.D. at the University of Minnesota in 2016. Prior to that, Erik completed a master’s degree at the University of Illinois (2013) and a bachelor’s degree at Minnesota State University Moorhead (2011).\"},\n",
    "                 \"Ronald Haugen\": {\"Website\":\"https://www.ndsu.edu/agecon/about_us/faculty/ron_haugen/#c654700\",\n",
    "                                 \"Areas of Specialization\": \"Farm management including: crop budgets, crop insurance, farm programs, custom farm rates, land rents, machinery economics, commodity price projections and agricultural income taxes.\",\n",
    "                                 \"Bio\":\"Ron Haugen is an Extension Farm Management Specialist. He has been in the department since 1991. He computes the North Dakota Land Valuation Model.\"},\n",
    "                 \"Robert Hearne\": {\"Website\":\"https://www.ndsu.edu/agecon/faculty/hearne/#c622909\",\n",
    "                                 \"Areas of Specialization\": \"Water resources management institutions, water markets, protected area management, and the economic valuation of environmental goods and services.\",\n",
    "                                 \"Bio\":\"Dr. Bob Hearne has been in the Department of Agribusiness and Applied Economics since 2002. He has professional experience in Europe, Asia, Latin America, and Asia.\"},\n",
    "                 \"Jeremy Jackson\": {\"Website\":\"https://www.ndsu.edu/centers/pcpe/about/directory/jeremy_jackson/\",\n",
    "                                 \"Areas of Specialization\": \"His research covers diverse topics, including public choice and the political economy; the social consequences of economic freedom; happiness and well-being; and philanthropy and nonprofits.\",\n",
    "                                 \"Bio\":\"Jeremy Jackson is director of the Center for the Study of Public Choice and Private Enterprise, scholar at the Challey Institute for Global Innovation and Growth, and professor of economics in the Department of Agribusiness and Applied Economics at North Dakota State University.\"},\n",
    "                 \"Prithviraj Lakkakula\": {\"Website\":\"https://www.ndsu.edu/agecon/faculty/prithviraj_lakkakula/#c623441\",\n",
    "                                 \"Areas of Specialization\": \"\",\n",
    "                                 \"Bio\":\"\"},\n",
    "                 \"Siew Lim\": {\"Website\":\"https://www.ndsu.edu/agecon/faculty/lim/#c624837\",\n",
    "                                 \"Areas of Specialization\": \"Her current research is in applied microeconomics, production economics, industrial organization, transportation and regional development. Her recent research works include transportation and  regional development.\",\n",
    "                                 \"Bio\":\"Siew Hoon Lim is an associate professor of economics.\"},\n",
    "                 \"Raymond March\": {\"Website\":\"https://www.ndsu.edu/centers/pcpe/about/directory/raymond_march/\",\n",
    "                                 \"Areas of Specialization\": \"His research examines the public and private provision and governance of health care in the United States, particularly in pharmaceutical markets.\",\n",
    "                                 \"Bio\":\"Raymond March is a scholar at the Challey Institute for Global Innovation and Growth with the Center for the Study of Public Choice and Private Enterprise and an assistant professor of economics in the Department of Agribusiness and Applied Economics at North Dakota State University.\"},\n",
    "                 \"Dragan Miljkovic\": {\"Website\":\"https://www.ndsu.edu/agecon/faculty/miljkovic/#c625001\",\n",
    "                                 \"Areas of Specialization\": \"Research areas of interest include agricultural price analysis, international economics, and agricultural and food policy including human nutrition, obesity, and food safety.\",\n",
    "                                 \"Bio\":\"Dragan Miljkovic is professor of agricultural economics in the Department of Agribusiness & Applied Economics at North Dakota State University. Dr. Miljkovic holds B.S. and M.S. degrees in Economics from the University of Belgrade, and Ph.D. in Agricultural Economics from the University of Illinois at Urbana-Champaign.\"},\n",
    "                 \"Frayne Olson\": {\"Website\":\"https://www.ndsu.edu/agecon/faculty/olson/#c625016\",\n",
    "                                 \"Areas of Specialization\": \"Research in evaluating crop marketing strategies, crop outlook and price analysis, and the economics of crop contracting.\",\n",
    "                                 \"Bio\":\"Dr. Frayne Olson is the Crop Economist/Marketing Specialist with the North Dakota State University Extension and Director of the Quentin Burdick Center for Cooperatives.\"},\n",
    "                 \"Bryon Parman\": {\"Website\":\"https://www.ndsu.edu/agecon/faculty/parman/#c654590\",\n",
    "                                 \"Areas of Specialization\": \"\",\n",
    "                                 \"Bio\":\"\"},\n",
    "                 \"Tim Petry\": {\"Website\":\"https://www.ndsu.edu/agecon/faculty/petry/#c625018\",\n",
    "                                 \"Areas of Specialization\": \"Livestock Marketing Economist\",\n",
    "                                 \"Bio\":\"Tim Petry was raised on a livestock ranch in Northwestern North Dakota. He graduated from North Dakota State University with a major in Agricultural Economics in 1969 and served two years in the US Army.\"},\n",
    "                 \"Xudong Rao\": {\"Website\":\"https://www.ndsu.edu/agecon/faculty/rao/#c629066\",\n",
    "                                 \"Areas of Specialization\": \"Farm and Agribusiness Management, Risk Analysis, Efficiency and Productivity, Technology Adoption, Food and Agricultural Policy, International Agricultural Development.\",\n",
    "                                 \"Bio\":\"Assistant Professor, Department of Agribusiness and Applied Economics, North Dakota State University.\"},\n",
    "                 \"Veeshan Rayamajhee\": {\"Website\":\"https://www.ndsu.edu/centers/pcpe/about/directory/veeshan_rayamajhee/\",\n",
    "                                 \"Areas of Specialization\": \"His research combines insights from Public Choice and New Institutional Economics to understand individual and collective responses to covariate shocks.\",\n",
    "                                 \"Bio\":\"Veeshan Rayamajhee is a scholar at the Challey Institute for Global Innovation and Growth with the Center for the Study of Public Choice and Private Enterprise and an assistant professor of economics in the Department of Agribusiness and Applied Economics at North Dakota State University.\"},\n",
    "                 \"David Ripplinger\": {\"Website\":\"https://www.ndsu.edu/agecon/faculty/ripplinger/#c629078\",\n",
    "                                 \"Areas of Specialization\": \"David conducts research and provides support to farmers and the bioenergy industry.\",\n",
    "                                 \"Bio\":\"David Ripplinger is an Associate Professor in the Department of Agribusiness and Applied Economics at North Dakota State University and bioproducts/bioenergy economics specialist with NDSU Extension.\"},\n",
    "                 \"David Roberts\": {\"Website\":\"https://www.ndsu.edu/agecon/faculty/roberts/#c629137\",\n",
    "                                 \"Areas of Specialization\": \"His research focuses on the impacts of agricultural production methods on the environment and natural resources. David is particularly interested in the economics of precision agriculture technologies and the response of cropping patterns and land use change to emerging biofuels policy at the Federal level.\",\n",
    "                                 \"Bio\":\"David Roberts is an Assistant Professor of Agribusiness and Applied Economics at North Dakota State University.\"},\n",
    "                 \"Kristi Schweiss\": {\"Website\":\"https://www.ndsu.edu/agecon/faculty/schweiss/#c629139\",\n",
    "                                 \"Areas of Specialization\": \"\",\n",
    "                                 \"Bio\":\"\"},\n",
    "                 \"Anupa Sharma\": {\"Website\":\"https://www.ndsu.edu/agecon/faculty/sharma/#c629150\",\n",
    "                                 \"Areas of Specialization\": \"Develops quantitative methods to address issues pertinent to International Trade.\",\n",
    "                                 \"Bio\":\"Anupa Sharma is an Assistant Professor in the Department of Agribusiness and Applied Economics at North Dakota State University. She also serves as the Assistant Director for the Center for Agricultural Policy and Trade Studies (CAPTS).\"},\n",
    "                 \"Cheryl Wachenheim\": {\"Website\":\"https://www.ndsu.edu/agecon/faculty/wachenheim/#c629162\",\n",
    "                                 \"Areas of Specialization\": \"Research interests focus on eliciting perceptions and valuations from consumers, firms, students and other stakeholders and decision makers.  Analysis then allows for identification of high-value marketing and management strategies.\",\n",
    "                                 \"Bio\":\"Cheryl Wachenheim is a Professor in the Department of Agribusiness and Applied Economics at North Dakota State University.\"},\n",
    "                 \"William Wilson\": {\"Website\":\"https://www.ndsu.edu/agecon/faculty/wilson/#c629178\",\n",
    "                                 \"Areas of Specialization\": \"His focus is risk and strategy as applied to agriculture and agribusiness with a particular focus on agtechnology development and commercialization, procurement, transportation and logistics, international marketing and competition.\",\n",
    "                                 \"Bio\":\"Dr. William W. Wilson received his PhD in Agricultural Economics from the University of Manitoba in 1980. Since then he has been a Professor at North Dakota State University in Agribusiness and Applied Economics with periodic sabbaticals at Stanford University. Recently, he was named as a University Distinguished Professor at NDSU which an honorary position is, and a great achievement.\"},\n",
    "                 }\n",
    "faculty_dict"
   ]
  },
  {
   "cell_type": "code",
   "execution_count": 18,
   "metadata": {},
   "outputs": [
    {
     "data": {
      "text/html": [
       "<div>\n",
       "<style scoped>\n",
       "    .dataframe tbody tr th:only-of-type {\n",
       "        vertical-align: middle;\n",
       "    }\n",
       "\n",
       "    .dataframe tbody tr th {\n",
       "        vertical-align: top;\n",
       "    }\n",
       "\n",
       "    .dataframe thead th {\n",
       "        text-align: right;\n",
       "    }\n",
       "</style>\n",
       "<table border=\"1\" class=\"dataframe\">\n",
       "  <thead>\n",
       "    <tr style=\"text-align: right;\">\n",
       "      <th></th>\n",
       "      <th>Website</th>\n",
       "      <th>Areas of Specialization</th>\n",
       "      <th>Bio</th>\n",
       "    </tr>\n",
       "  </thead>\n",
       "  <tbody>\n",
       "    <tr>\n",
       "      <th>William Nganje</th>\n",
       "      <td>https://www.ndsu.edu/agecon/faculty/william_ng...</td>\n",
       "      <td>Risk management; financial analysis; economics...</td>\n",
       "      <td>NA</td>\n",
       "    </tr>\n",
       "    <tr>\n",
       "      <th>David Bullock</th>\n",
       "      <td>https://www.ndsu.edu/agecon/faculty/bullock/#c...</td>\n",
       "      <td>futures and options markets, over-the-counter ...</td>\n",
       "      <td>Dr. David W. Bullock is a Research Associate P...</td>\n",
       "    </tr>\n",
       "    <tr>\n",
       "      <th>James Caton</th>\n",
       "      <td>https://www.ndsu.edu/centers/pcpe/about/direct...</td>\n",
       "      <td>Entrepreneurship, Institutions, Macroeconomics...</td>\n",
       "      <td>James Caton is a faculty fellow at the NDSU Ce...</td>\n",
       "    </tr>\n",
       "    <tr>\n",
       "      <th>David Englund</th>\n",
       "      <td>https://www.ndsu.edu/agecon/faculty/englund/#c...</td>\n",
       "      <td>Teaches Economic Principles, Led NDSU NAMA to ...</td>\n",
       "      <td>David Englund is a lecturer in the department....</td>\n",
       "    </tr>\n",
       "    <tr>\n",
       "      <th>Erik Hanson</th>\n",
       "      <td>https://www.ndsu.edu/agecon/faculty/hanson/#c6...</td>\n",
       "      <td>Ag Management, Ag Finance</td>\n",
       "      <td>Erik Hanson is an Assistant Professor in the D...</td>\n",
       "    </tr>\n",
       "    <tr>\n",
       "      <th>Ronald Haugen</th>\n",
       "      <td>https://www.ndsu.edu/agecon/about_us/faculty/r...</td>\n",
       "      <td>Farm management including: crop budgets, crop ...</td>\n",
       "      <td>Ron Haugen is an Extension Farm Management Spe...</td>\n",
       "    </tr>\n",
       "    <tr>\n",
       "      <th>Robert Hearne</th>\n",
       "      <td>https://www.ndsu.edu/agecon/faculty/hearne/#c6...</td>\n",
       "      <td>Water resources management institutions, water...</td>\n",
       "      <td>Dr. Bob Hearne has been in the Department of A...</td>\n",
       "    </tr>\n",
       "    <tr>\n",
       "      <th>Jeremy Jackson</th>\n",
       "      <td>https://www.ndsu.edu/centers/pcpe/about/direct...</td>\n",
       "      <td>His research covers diverse topics, including ...</td>\n",
       "      <td>Jeremy Jackson is director of the Center for t...</td>\n",
       "    </tr>\n",
       "    <tr>\n",
       "      <th>Prithviraj Lakkakula</th>\n",
       "      <td>https://www.ndsu.edu/agecon/faculty/prithviraj...</td>\n",
       "      <td></td>\n",
       "      <td></td>\n",
       "    </tr>\n",
       "    <tr>\n",
       "      <th>Siew Lim</th>\n",
       "      <td>https://www.ndsu.edu/agecon/faculty/lim/#c624837</td>\n",
       "      <td>Her current research is in applied microeconom...</td>\n",
       "      <td>Siew Hoon Lim is an associate professor of eco...</td>\n",
       "    </tr>\n",
       "    <tr>\n",
       "      <th>Raymond March</th>\n",
       "      <td>https://www.ndsu.edu/centers/pcpe/about/direct...</td>\n",
       "      <td>His research examines the public and private p...</td>\n",
       "      <td>Raymond March is a scholar at the Challey Inst...</td>\n",
       "    </tr>\n",
       "    <tr>\n",
       "      <th>Dragan Miljkovic</th>\n",
       "      <td>https://www.ndsu.edu/agecon/faculty/miljkovic/...</td>\n",
       "      <td>Research areas of interest include agricultura...</td>\n",
       "      <td>Dragan Miljkovic is professor of agricultural ...</td>\n",
       "    </tr>\n",
       "    <tr>\n",
       "      <th>Frayne Olson</th>\n",
       "      <td>https://www.ndsu.edu/agecon/faculty/olson/#c62...</td>\n",
       "      <td>Research in evaluating crop marketing strategi...</td>\n",
       "      <td>Dr. Frayne Olson is the Crop Economist/Marketi...</td>\n",
       "    </tr>\n",
       "    <tr>\n",
       "      <th>Bryon Parman</th>\n",
       "      <td>https://www.ndsu.edu/agecon/faculty/parman/#c6...</td>\n",
       "      <td></td>\n",
       "      <td></td>\n",
       "    </tr>\n",
       "    <tr>\n",
       "      <th>Tim Petry</th>\n",
       "      <td>https://www.ndsu.edu/agecon/faculty/petry/#c62...</td>\n",
       "      <td>Livestock Marketing Economist</td>\n",
       "      <td>Tim Petry was raised on a livestock ranch in N...</td>\n",
       "    </tr>\n",
       "    <tr>\n",
       "      <th>Xudong Rao</th>\n",
       "      <td>https://www.ndsu.edu/agecon/faculty/rao/#c629066</td>\n",
       "      <td>Farm and Agribusiness Management, Risk Analysi...</td>\n",
       "      <td>Assistant Professor, Department of Agribusines...</td>\n",
       "    </tr>\n",
       "    <tr>\n",
       "      <th>Veeshan Rayamajhee</th>\n",
       "      <td>https://www.ndsu.edu/centers/pcpe/about/direct...</td>\n",
       "      <td>His research combines insights from Public Cho...</td>\n",
       "      <td>Veeshan Rayamajhee is a scholar at the Challey...</td>\n",
       "    </tr>\n",
       "    <tr>\n",
       "      <th>David Ripplinger</th>\n",
       "      <td>https://www.ndsu.edu/agecon/faculty/ripplinger...</td>\n",
       "      <td>David conducts research and provides support t...</td>\n",
       "      <td>David Ripplinger is an Associate Professor in ...</td>\n",
       "    </tr>\n",
       "    <tr>\n",
       "      <th>David Roberts</th>\n",
       "      <td>https://www.ndsu.edu/agecon/faculty/roberts/#c...</td>\n",
       "      <td>His research focuses on the impacts of agricul...</td>\n",
       "      <td>David Roberts is an Assistant Professor of Agr...</td>\n",
       "    </tr>\n",
       "    <tr>\n",
       "      <th>Kristi Schweiss</th>\n",
       "      <td>https://www.ndsu.edu/agecon/faculty/schweiss/#...</td>\n",
       "      <td></td>\n",
       "      <td></td>\n",
       "    </tr>\n",
       "    <tr>\n",
       "      <th>Anupa Sharma</th>\n",
       "      <td>https://www.ndsu.edu/agecon/faculty/sharma/#c6...</td>\n",
       "      <td>Develops quantitative methods to address issue...</td>\n",
       "      <td>Anupa Sharma is an Assistant Professor in the ...</td>\n",
       "    </tr>\n",
       "    <tr>\n",
       "      <th>Cheryl Wachenheim</th>\n",
       "      <td>https://www.ndsu.edu/agecon/faculty/wachenheim...</td>\n",
       "      <td>Research interests focus on eliciting percepti...</td>\n",
       "      <td>Cheryl Wachenheim is a Professor in the Depart...</td>\n",
       "    </tr>\n",
       "    <tr>\n",
       "      <th>William Wilson</th>\n",
       "      <td>https://www.ndsu.edu/agecon/faculty/wilson/#c6...</td>\n",
       "      <td>His focus is risk and strategy as applied to a...</td>\n",
       "      <td>Dr. William W. Wilson received his PhD in Agri...</td>\n",
       "    </tr>\n",
       "  </tbody>\n",
       "</table>\n",
       "</div>"
      ],
      "text/plain": [
       "                                                                Website  \\\n",
       "William Nganje        https://www.ndsu.edu/agecon/faculty/william_ng...   \n",
       "David Bullock         https://www.ndsu.edu/agecon/faculty/bullock/#c...   \n",
       "James Caton           https://www.ndsu.edu/centers/pcpe/about/direct...   \n",
       "David Englund         https://www.ndsu.edu/agecon/faculty/englund/#c...   \n",
       "Erik Hanson           https://www.ndsu.edu/agecon/faculty/hanson/#c6...   \n",
       "Ronald Haugen         https://www.ndsu.edu/agecon/about_us/faculty/r...   \n",
       "Robert Hearne         https://www.ndsu.edu/agecon/faculty/hearne/#c6...   \n",
       "Jeremy Jackson        https://www.ndsu.edu/centers/pcpe/about/direct...   \n",
       "Prithviraj Lakkakula  https://www.ndsu.edu/agecon/faculty/prithviraj...   \n",
       "Siew Lim               https://www.ndsu.edu/agecon/faculty/lim/#c624837   \n",
       "Raymond March         https://www.ndsu.edu/centers/pcpe/about/direct...   \n",
       "Dragan Miljkovic      https://www.ndsu.edu/agecon/faculty/miljkovic/...   \n",
       "Frayne Olson          https://www.ndsu.edu/agecon/faculty/olson/#c62...   \n",
       "Bryon Parman          https://www.ndsu.edu/agecon/faculty/parman/#c6...   \n",
       "Tim Petry             https://www.ndsu.edu/agecon/faculty/petry/#c62...   \n",
       "Xudong Rao             https://www.ndsu.edu/agecon/faculty/rao/#c629066   \n",
       "Veeshan Rayamajhee    https://www.ndsu.edu/centers/pcpe/about/direct...   \n",
       "David Ripplinger      https://www.ndsu.edu/agecon/faculty/ripplinger...   \n",
       "David Roberts         https://www.ndsu.edu/agecon/faculty/roberts/#c...   \n",
       "Kristi Schweiss       https://www.ndsu.edu/agecon/faculty/schweiss/#...   \n",
       "Anupa Sharma          https://www.ndsu.edu/agecon/faculty/sharma/#c6...   \n",
       "Cheryl Wachenheim     https://www.ndsu.edu/agecon/faculty/wachenheim...   \n",
       "William Wilson        https://www.ndsu.edu/agecon/faculty/wilson/#c6...   \n",
       "\n",
       "                                                Areas of Specialization  \\\n",
       "William Nganje        Risk management; financial analysis; economics...   \n",
       "David Bullock         futures and options markets, over-the-counter ...   \n",
       "James Caton           Entrepreneurship, Institutions, Macroeconomics...   \n",
       "David Englund         Teaches Economic Principles, Led NDSU NAMA to ...   \n",
       "Erik Hanson                                   Ag Management, Ag Finance   \n",
       "Ronald Haugen         Farm management including: crop budgets, crop ...   \n",
       "Robert Hearne         Water resources management institutions, water...   \n",
       "Jeremy Jackson        His research covers diverse topics, including ...   \n",
       "Prithviraj Lakkakula                                                      \n",
       "Siew Lim              Her current research is in applied microeconom...   \n",
       "Raymond March         His research examines the public and private p...   \n",
       "Dragan Miljkovic      Research areas of interest include agricultura...   \n",
       "Frayne Olson          Research in evaluating crop marketing strategi...   \n",
       "Bryon Parman                                                              \n",
       "Tim Petry                                 Livestock Marketing Economist   \n",
       "Xudong Rao            Farm and Agribusiness Management, Risk Analysi...   \n",
       "Veeshan Rayamajhee    His research combines insights from Public Cho...   \n",
       "David Ripplinger      David conducts research and provides support t...   \n",
       "David Roberts         His research focuses on the impacts of agricul...   \n",
       "Kristi Schweiss                                                           \n",
       "Anupa Sharma          Develops quantitative methods to address issue...   \n",
       "Cheryl Wachenheim     Research interests focus on eliciting percepti...   \n",
       "William Wilson        His focus is risk and strategy as applied to a...   \n",
       "\n",
       "                                                                    Bio  \n",
       "William Nganje                                                       NA  \n",
       "David Bullock         Dr. David W. Bullock is a Research Associate P...  \n",
       "James Caton           James Caton is a faculty fellow at the NDSU Ce...  \n",
       "David Englund         David Englund is a lecturer in the department....  \n",
       "Erik Hanson           Erik Hanson is an Assistant Professor in the D...  \n",
       "Ronald Haugen         Ron Haugen is an Extension Farm Management Spe...  \n",
       "Robert Hearne         Dr. Bob Hearne has been in the Department of A...  \n",
       "Jeremy Jackson        Jeremy Jackson is director of the Center for t...  \n",
       "Prithviraj Lakkakula                                                     \n",
       "Siew Lim              Siew Hoon Lim is an associate professor of eco...  \n",
       "Raymond March         Raymond March is a scholar at the Challey Inst...  \n",
       "Dragan Miljkovic      Dragan Miljkovic is professor of agricultural ...  \n",
       "Frayne Olson          Dr. Frayne Olson is the Crop Economist/Marketi...  \n",
       "Bryon Parman                                                             \n",
       "Tim Petry             Tim Petry was raised on a livestock ranch in N...  \n",
       "Xudong Rao            Assistant Professor, Department of Agribusines...  \n",
       "Veeshan Rayamajhee    Veeshan Rayamajhee is a scholar at the Challey...  \n",
       "David Ripplinger      David Ripplinger is an Associate Professor in ...  \n",
       "David Roberts         David Roberts is an Assistant Professor of Agr...  \n",
       "Kristi Schweiss                                                          \n",
       "Anupa Sharma          Anupa Sharma is an Assistant Professor in the ...  \n",
       "Cheryl Wachenheim     Cheryl Wachenheim is a Professor in the Depart...  \n",
       "William Wilson        Dr. William W. Wilson received his PhD in Agri...  "
      ]
     },
     "execution_count": 18,
     "metadata": {},
     "output_type": "execute_result"
    }
   ],
   "source": [
    "faculty_df = pd.DataFrame(faculty_dict).T\n",
    "faculty_df"
   ]
  },
  {
   "cell_type": "code",
   "execution_count": 19,
   "metadata": {},
   "outputs": [],
   "source": [
    "faculty_df.to_csv(\"facultyinfo.csv\")"
   ]
  },
  {
   "cell_type": "code",
   "execution_count": 20,
   "metadata": {},
   "outputs": [
    {
     "data": {
      "text/plain": [
       "\"James Caton is a faculty fellow at the NDSU Center for the Study of Public Choice and Private Enterprise (PCPE) and an assistant professor in the NDSU Department of Agribusiness and Applied Economics. He teaches undergraduate courses in the areas of macroeconomics, international trade, and computation. He specializes in research related to entrepreneurship, agent-based computational economics, market process theory, and monetary economics. His research has been published in the Southern Economic Journal, Erasmus Journal for Philosophy and Economics, Journal of Entrepreneurship and Public Policy and other academic publications. He co-edited Macroeconomics, a two volume set of essays and primary sources that represent the core of macroeconomic thought. He is also a regular contributor to the American Institute for Economic Research's Sound Money Project, which conducts research and promotes awareness about monetary stability and financial privacy. He resides in Fargo with his wife, Ingrid, and their children.\""
      ]
     },
     "execution_count": 20,
     "metadata": {},
     "output_type": "execute_result"
    }
   ],
   "source": [
    "faculty_df.loc[\"James Caton\"][\"Bio\"]"
   ]
  },
  {
   "cell_type": "code",
   "execution_count": 21,
   "metadata": {},
   "outputs": [
    {
     "data": {
      "text/plain": [
       "Index(['William Nganje', 'David Bullock', 'James Caton', 'David Englund',\n",
       "       'Erik Hanson', 'Ronald Haugen', 'Robert Hearne', 'Jeremy Jackson',\n",
       "       'Prithviraj Lakkakula', 'Siew Lim', 'Raymond March', 'Dragan Miljkovic',\n",
       "       'Frayne Olson', 'Bryon Parman', 'Tim Petry', 'Xudong Rao',\n",
       "       'Veeshan Rayamajhee', 'David Ripplinger', 'David Roberts',\n",
       "       'Kristi Schweiss', 'Anupa Sharma', 'Cheryl Wachenheim',\n",
       "       'William Wilson'],\n",
       "      dtype='object')"
      ]
     },
     "execution_count": 21,
     "metadata": {},
     "output_type": "execute_result"
    }
   ],
   "source": [
    "faculty_df.index"
   ]
  },
  {
   "cell_type": "code",
   "execution_count": 22,
   "metadata": {},
   "outputs": [
    {
     "data": {
      "text/plain": [
       "Index(['Website', 'Areas of Specialization', 'Bio'], dtype='object')"
      ]
     },
     "execution_count": 22,
     "metadata": {},
     "output_type": "execute_result"
    }
   ],
   "source": [
    "faculty_df.keys()"
   ]
  },
  {
   "cell_type": "code",
   "execution_count": 29,
   "metadata": {},
   "outputs": [
    {
     "name": "stdout",
     "output_type": "stream",
     "text": [
      "William Nganje\n",
      "David Bullock\n",
      "James Caton\n",
      "David Englund\n",
      "Erik Hanson\n",
      "Ronald Haugen\n",
      "Robert Hearne\n",
      "Jeremy Jackson\n",
      "Prithviraj Lakkakula\n",
      "Siew Lim\n",
      "Raymond March\n",
      "Dragan Miljkovic\n",
      "Frayne Olson\n",
      "Bryon Parman\n",
      "Tim Petry\n",
      "Xudong Rao\n",
      "Veeshan Rayamajhee\n",
      "David Ripplinger\n",
      "David Roberts\n",
      "Kristi Schweiss\n",
      "Anupa Sharma\n",
      "Cheryl Wachenheim\n",
      "William Wilson\n"
     ]
    }
   ],
   "source": [
    "index = faculty_df.index\n",
    "for ix in index:\n",
    "    print(ix)"
   ]
  },
  {
   "cell_type": "code",
   "execution_count": 28,
   "metadata": {
    "scrolled": false
   },
   "outputs": [
    {
     "name": "stdout",
     "output_type": "stream",
     "text": [
      "William Nganje\n",
      "https://www.ndsu.edu/agecon/faculty/william_nganje/#c622350\n",
      "Risk management; financial analysis; economics of obesity, food safety and food terrorism; experimental economics; and consumer choice theory\n",
      "NA\n",
      "David Bullock\n",
      "https://www.ndsu.edu/agecon/faculty/bullock/#c622728\n",
      "futures and options markets, over-the-counter derivatives, trading, risk management, agrifinance, Monte Carlo simulation, and Big Data\n",
      "Dr. David W. Bullock is a Research Associate Professor affiliated with the Center for Trading and Risk at NDSU.  His research interests include futures and options markets, over-the-counter derivatives, trading, risk management, agrifinance, Monte Carlo simulation, and Big Data applications in agriculture.  His academic research in option portfolio theory has been published in both the Journal of Economics and Business and the International Review of Economics and Finance.  Additionally, he was the primary contributor behind the AgriBank Insights publication series which won a National AgriMarketing Association (NAMA) award for the best company publication in 2016. Before coming to NDSU in January 2018, Dr. Bullock held numerous positions for over 25 years in the government and private sectors including the Senior Economist at AgriBank FCB – the regional Farm Credit System funding bank for the Upper Midwest region, Director of Research and Senior Foods Economist at Fortune 500 commodity risk management firm INTL FCStone Inc., the Senior Dairy Analyst at Informa Economics, a Risk Management Specialist with the Minnesota Department of Agriculture, and the Senior Economist at the Minneapolis Grain Exchange. David began his academic career as an Assistant Professor and Extension Marketing Economist at Montana State University after graduating from Iowa State University with a Ph.D. in agricultural economics with fields in agricultural price analysis and econometrics in 1989.  Prior to entering ISU, he received bachelor’s (1982) and master’s (1984) degrees in agricultural economics from Northwest Missouri State University. Dr. Bullock is originally from the small northwestern Missouri farming community of Lathrop which is located 40 miles north of the Kansas City metropolitan area.  While in high school, he served as a regional state Vice-President in the Future Farmers of America (FFA) during his senior year.\n",
      "James Caton\n",
      "https://www.ndsu.edu/centers/pcpe/about/directory/james_caton/\n",
      "Entrepreneurship, Institutions, Macroeconomics, Computation\n",
      "James Caton is a faculty fellow at the NDSU Center for the Study of Public Choice and Private Enterprise (PCPE) and an assistant professor in the NDSU Department of Agribusiness and Applied Economics. He teaches undergraduate courses in the areas of macroeconomics, international trade, and computation. He specializes in research related to entrepreneurship, agent-based computational economics, market process theory, and monetary economics. His research has been published in the Southern Economic Journal, Erasmus Journal for Philosophy and Economics, Journal of Entrepreneurship and Public Policy and other academic publications. He co-edited Macroeconomics, a two volume set of essays and primary sources that represent the core of macroeconomic thought. He is also a regular contributor to the American Institute for Economic Research's Sound Money Project, which conducts research and promotes awareness about monetary stability and financial privacy. He resides in Fargo with his wife, Ingrid, and their children.\n",
      "David Englund\n",
      "https://www.ndsu.edu/agecon/faculty/englund/#c622903\n",
      "Teaches Economic Principles, Led NDSU NAMA to National Champions\n",
      "David Englund is a lecturer in the department.  He came to the department with 16 years of teaching experience, having taught Principles of Microeconomics, Principles of Macroeconomics, Money and Banking, Consumer Behavior, Selected Topics in Business, and several other classes.  He also had 10 years’ experience advising student NAMA chapters, having been awarded the Outstanding Advisor of the Year for a Developing Chapter in 2002, and the Outstanding Advisor of the Year award in 2009.\n",
      "David primarily teaches Survey of Economics, Principles of Microeconomics, Skills for Academic Success, Agricultural Marketing, and NAMA (co-teaches).  He joined the NAMA team in the 2014-2015 school year as a co-advisor and helped coach the student team to a 3rd place finish in the national student marketing plan competition at the national conference.\n",
      "Some of David’s outside interests are jogging, photography, and writing fiction novels.  His latest release, Camouflaged Encounters has received positive reviews.\n",
      "Erik Hanson\n",
      "https://www.ndsu.edu/agecon/faculty/hanson/#c622905\n",
      "Ag Management, Ag Finance\n",
      "Erik Hanson is an Assistant Professor in the Department of Agricultural and Applied Economics. He teaches courses on agribusiness management and agricultural finance. Erik completed his Ph.D. at the University of Minnesota in 2016. Prior to that, Erik completed a master’s degree at the University of Illinois (2013) and a bachelor’s degree at Minnesota State University Moorhead (2011).\n",
      "Ronald Haugen\n",
      "https://www.ndsu.edu/agecon/about_us/faculty/ron_haugen/#c654700\n",
      "Farm management including: crop budgets, crop insurance, farm programs, custom farm rates, land rents, machinery economics, commodity price projections and agricultural income taxes.\n",
      "Ron Haugen is an Extension Farm Management Specialist. He has been in the department since 1991. He computes the North Dakota Land Valuation Model.\n",
      "Robert Hearne\n",
      "https://www.ndsu.edu/agecon/faculty/hearne/#c622909\n",
      "Water resources management institutions, water markets, protected area management, and the economic valuation of environmental goods and services.\n",
      "Dr. Bob Hearne has been in the Department of Agribusiness and Applied Economics since 2002. He has professional experience in Europe, Asia, Latin America, and Asia.\n",
      "Jeremy Jackson\n",
      "https://www.ndsu.edu/centers/pcpe/about/directory/jeremy_jackson/\n",
      "His research covers diverse topics, including public choice and the political economy; the social consequences of economic freedom; happiness and well-being; and philanthropy and nonprofits.\n",
      "Jeremy Jackson is director of the Center for the Study of Public Choice and Private Enterprise, scholar at the Challey Institute for Global Innovation and Growth, and professor of economics in the Department of Agribusiness and Applied Economics at North Dakota State University.\n",
      "Prithviraj Lakkakula\n",
      "https://www.ndsu.edu/agecon/faculty/prithviraj_lakkakula/#c623441\n",
      "\n",
      "\n",
      "Siew Lim\n",
      "https://www.ndsu.edu/agecon/faculty/lim/#c624837\n",
      "Her current research is in applied microeconomics, production economics, industrial organization, transportation and regional development. Her recent research works include transportation and  regional development.\n",
      "Siew Hoon Lim is an associate professor of economics.\n",
      "Raymond March\n",
      "https://www.ndsu.edu/centers/pcpe/about/directory/raymond_march/\n",
      "His research examines the public and private provision and governance of health care in the United States, particularly in pharmaceutical markets.\n",
      "Raymond March is a scholar at the Challey Institute for Global Innovation and Growth with the Center for the Study of Public Choice and Private Enterprise and an assistant professor of economics in the Department of Agribusiness and Applied Economics at North Dakota State University.\n",
      "Dragan Miljkovic\n",
      "https://www.ndsu.edu/agecon/faculty/miljkovic/#c625001\n",
      "Research areas of interest include agricultural price analysis, international economics, and agricultural and food policy including human nutrition, obesity, and food safety.\n",
      "Dragan Miljkovic is professor of agricultural economics in the Department of Agribusiness & Applied Economics at North Dakota State University. Dr. Miljkovic holds B.S. and M.S. degrees in Economics from the University of Belgrade, and Ph.D. in Agricultural Economics from the University of Illinois at Urbana-Champaign.\n",
      "Frayne Olson\n",
      "https://www.ndsu.edu/agecon/faculty/olson/#c625016\n",
      "Research in evaluating crop marketing strategies, crop outlook and price analysis, and the economics of crop contracting.\n",
      "Dr. Frayne Olson is the Crop Economist/Marketing Specialist with the North Dakota State University Extension and Director of the Quentin Burdick Center for Cooperatives.\n",
      "Bryon Parman\n",
      "https://www.ndsu.edu/agecon/faculty/parman/#c654590\n",
      "\n",
      "\n",
      "Tim Petry\n",
      "https://www.ndsu.edu/agecon/faculty/petry/#c625018\n",
      "Livestock Marketing Economist\n",
      "Tim Petry was raised on a livestock ranch in Northwestern North Dakota. He graduated from North Dakota State University with a major in Agricultural Economics in 1969 and served two years in the US Army.\n",
      "Xudong Rao\n",
      "https://www.ndsu.edu/agecon/faculty/rao/#c629066\n",
      "Farm and Agribusiness Management, Risk Analysis, Efficiency and Productivity, Technology Adoption, Food and Agricultural Policy, International Agricultural Development.\n",
      "Assistant Professor, Department of Agribusiness and Applied Economics, North Dakota State University.\n",
      "Veeshan Rayamajhee\n",
      "https://www.ndsu.edu/centers/pcpe/about/directory/veeshan_rayamajhee/\n",
      "His research combines insights from Public Choice and New Institutional Economics to understand individual and collective responses to covariate shocks.\n",
      "Veeshan Rayamajhee is a scholar at the Challey Institute for Global Innovation and Growth with the Center for the Study of Public Choice and Private Enterprise and an assistant professor of economics in the Department of Agribusiness and Applied Economics at North Dakota State University.\n",
      "David Ripplinger\n",
      "https://www.ndsu.edu/agecon/faculty/ripplinger/#c629078\n",
      "David conducts research and provides support to farmers and the bioenergy industry.\n",
      "David Ripplinger is an Associate Professor in the Department of Agribusiness and Applied Economics at North Dakota State University and bioproducts/bioenergy economics specialist with NDSU Extension.\n",
      "David Roberts\n",
      "https://www.ndsu.edu/agecon/faculty/roberts/#c629137\n",
      "His research focuses on the impacts of agricultural production methods on the environment and natural resources. David is particularly interested in the economics of precision agriculture technologies and the response of cropping patterns and land use change to emerging biofuels policy at the Federal level.\n",
      "David Roberts is an Assistant Professor of Agribusiness and Applied Economics at North Dakota State University.\n",
      "Kristi Schweiss\n",
      "https://www.ndsu.edu/agecon/faculty/schweiss/#c629139\n",
      "\n",
      "\n",
      "Anupa Sharma\n",
      "https://www.ndsu.edu/agecon/faculty/sharma/#c629150\n",
      "Develops quantitative methods to address issues pertinent to International Trade.\n",
      "Anupa Sharma is an Assistant Professor in the Department of Agribusiness and Applied Economics at North Dakota State University. She also serves as the Assistant Director for the Center for Agricultural Policy and Trade Studies (CAPTS).\n",
      "Cheryl Wachenheim\n",
      "https://www.ndsu.edu/agecon/faculty/wachenheim/#c629162\n",
      "Research interests focus on eliciting perceptions and valuations from consumers, firms, students and other stakeholders and decision makers.  Analysis then allows for identification of high-value marketing and management strategies.\n",
      "Cheryl Wachenheim is a Professor in the Department of Agribusiness and Applied Economics at North Dakota State University.\n",
      "William Wilson\n",
      "https://www.ndsu.edu/agecon/faculty/wilson/#c629178\n",
      "His focus is risk and strategy as applied to agriculture and agribusiness with a particular focus on agtechnology development and commercialization, procurement, transportation and logistics, international marketing and competition.\n",
      "Dr. William W. Wilson received his PhD in Agricultural Economics from the University of Manitoba in 1980. Since then he has been a Professor at North Dakota State University in Agribusiness and Applied Economics with periodic sabbaticals at Stanford University. Recently, he was named as a University Distinguished Professor at NDSU which an honorary position is, and a great achievement.\n"
     ]
    }
   ],
   "source": [
    "for ix in index:\n",
    "    print(ix)\n",
    "    for key in faculty_df.keys():\n",
    "        print(faculty_df.loc[ix][key])"
   ]
  },
  {
   "cell_type": "code",
   "execution_count": 31,
   "metadata": {},
   "outputs": [
    {
     "data": {
      "text/plain": [
       "True"
      ]
     },
     "execution_count": 31,
     "metadata": {},
     "output_type": "execute_result"
    }
   ],
   "source": [
    "lst = [\"a\",\"b\",\"c\"]\n",
    "\n",
    "\"a\" in lst"
   ]
  },
  {
   "cell_type": "code",
   "execution_count": 37,
   "metadata": {},
   "outputs": [
    {
     "data": {
      "text/html": [
       "<div>\n",
       "<style scoped>\n",
       "    .dataframe tbody tr th:only-of-type {\n",
       "        vertical-align: middle;\n",
       "    }\n",
       "\n",
       "    .dataframe tbody tr th {\n",
       "        vertical-align: top;\n",
       "    }\n",
       "\n",
       "    .dataframe thead th {\n",
       "        text-align: right;\n",
       "    }\n",
       "</style>\n",
       "<table border=\"1\" class=\"dataframe\">\n",
       "  <thead>\n",
       "    <tr style=\"text-align: right;\">\n",
       "      <th></th>\n",
       "      <th>Website</th>\n",
       "      <th>Areas of Specialization</th>\n",
       "      <th>Bio</th>\n",
       "    </tr>\n",
       "  </thead>\n",
       "  <tbody>\n",
       "    <tr>\n",
       "      <th>William Nganje</th>\n",
       "      <td>https://www.ndsu.edu/agecon/faculty/william_ng...</td>\n",
       "      <td>Risk management; financial analysis; economics...</td>\n",
       "      <td>NA</td>\n",
       "    </tr>\n",
       "    <tr>\n",
       "      <th>Xudong Rao</th>\n",
       "      <td>https://www.ndsu.edu/agecon/faculty/rao/#c629066</td>\n",
       "      <td>Farm and Agribusiness Management, Risk Analysi...</td>\n",
       "      <td>Assistant Professor, Department of Agribusines...</td>\n",
       "    </tr>\n",
       "  </tbody>\n",
       "</table>\n",
       "</div>"
      ],
      "text/plain": [
       "                                                          Website  \\\n",
       "William Nganje  https://www.ndsu.edu/agecon/faculty/william_ng...   \n",
       "Xudong Rao       https://www.ndsu.edu/agecon/faculty/rao/#c629066   \n",
       "\n",
       "                                          Areas of Specialization  \\\n",
       "William Nganje  Risk management; financial analysis; economics...   \n",
       "Xudong Rao      Farm and Agribusiness Management, Risk Analysi...   \n",
       "\n",
       "                                                              Bio  \n",
       "William Nganje                                                 NA  \n",
       "Xudong Rao      Assistant Professor, Department of Agribusines...  "
      ]
     },
     "execution_count": 37,
     "metadata": {},
     "output_type": "execute_result"
    }
   ],
   "source": [
    "faculty_df[faculty_df[\"Areas of Specialization\"].str.contains(\"Risk\")]"
   ]
  },
  {
   "cell_type": "code",
   "execution_count": 38,
   "metadata": {},
   "outputs": [
    {
     "data": {
      "text/html": [
       "<div>\n",
       "<style scoped>\n",
       "    .dataframe tbody tr th:only-of-type {\n",
       "        vertical-align: middle;\n",
       "    }\n",
       "\n",
       "    .dataframe tbody tr th {\n",
       "        vertical-align: top;\n",
       "    }\n",
       "\n",
       "    .dataframe thead th {\n",
       "        text-align: right;\n",
       "    }\n",
       "</style>\n",
       "<table border=\"1\" class=\"dataframe\">\n",
       "  <thead>\n",
       "    <tr style=\"text-align: right;\">\n",
       "      <th></th>\n",
       "      <th>Website</th>\n",
       "      <th>Areas of Specialization</th>\n",
       "      <th>Bio</th>\n",
       "    </tr>\n",
       "  </thead>\n",
       "  <tbody>\n",
       "    <tr>\n",
       "      <th>James Caton</th>\n",
       "      <td>https://www.ndsu.edu/centers/pcpe/about/direct...</td>\n",
       "      <td>Entrepreneurship, Institutions, Macroeconomics...</td>\n",
       "      <td>James Caton is a faculty fellow at the NDSU Ce...</td>\n",
       "    </tr>\n",
       "    <tr>\n",
       "      <th>David Roberts</th>\n",
       "      <td>https://www.ndsu.edu/agecon/faculty/roberts/#c...</td>\n",
       "      <td>His research focuses on the impacts of agricul...</td>\n",
       "      <td>David Roberts is an Assistant Professor of Agr...</td>\n",
       "    </tr>\n",
       "    <tr>\n",
       "      <th>William Wilson</th>\n",
       "      <td>https://www.ndsu.edu/agecon/faculty/wilson/#c6...</td>\n",
       "      <td>His focus is risk and strategy as applied to a...</td>\n",
       "      <td>Dr. William W. Wilson received his PhD in Agri...</td>\n",
       "    </tr>\n",
       "  </tbody>\n",
       "</table>\n",
       "</div>"
      ],
      "text/plain": [
       "                                                          Website  \\\n",
       "James Caton     https://www.ndsu.edu/centers/pcpe/about/direct...   \n",
       "David Roberts   https://www.ndsu.edu/agecon/faculty/roberts/#c...   \n",
       "William Wilson  https://www.ndsu.edu/agecon/faculty/wilson/#c6...   \n",
       "\n",
       "                                          Areas of Specialization  \\\n",
       "James Caton     Entrepreneurship, Institutions, Macroeconomics...   \n",
       "David Roberts   His research focuses on the impacts of agricul...   \n",
       "William Wilson  His focus is risk and strategy as applied to a...   \n",
       "\n",
       "                                                              Bio  \n",
       "James Caton     James Caton is a faculty fellow at the NDSU Ce...  \n",
       "David Roberts   David Roberts is an Assistant Professor of Agr...  \n",
       "William Wilson  Dr. William W. Wilson received his PhD in Agri...  "
      ]
     },
     "execution_count": 38,
     "metadata": {},
     "output_type": "execute_result"
    }
   ],
   "source": [
    "names = [\"James Caton\", \"William Wilson\", \"David Roberts\"]\n",
    "\n",
    "faculty_df[faculty_df.index.isin(names)]"
   ]
  },
  {
   "cell_type": "code",
   "execution_count": null,
   "metadata": {},
   "outputs": [],
   "source": []
  }
 ],
 "metadata": {
  "kernelspec": {
   "display_name": "Python 3",
   "language": "python",
   "name": "python3"
  },
  "language_info": {
   "codemirror_mode": {
    "name": "ipython",
    "version": 3
   },
   "file_extension": ".py",
   "mimetype": "text/x-python",
   "name": "python",
   "nbconvert_exporter": "python",
   "pygments_lexer": "ipython3",
   "version": "3.8.3"
  }
 },
 "nbformat": 4,
 "nbformat_minor": 4
}
