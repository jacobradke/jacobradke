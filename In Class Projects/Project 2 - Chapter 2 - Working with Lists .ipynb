{
 "cells": [
  {
   "cell_type": "markdown",
   "metadata": {},
   "source": [
    "# Project 2 - Chapter 2 - Working with Lists\n",
    "\n",
    "## Lists can hold any kind of object"
   ]
  },
  {
   "cell_type": "code",
   "execution_count": 1,
   "metadata": {},
   "outputs": [
    {
     "name": "stdout",
     "output_type": "stream",
     "text": [
      "[]\n",
      "[1, 3, 5, 7, 9]\n",
      "[1.0, 3.0, 5.0, 7.0, 9.0]\n",
      "['All the dates', 'many holidays']\n",
      "[3, 8.0, 'Here are some words']\n"
     ]
    }
   ],
   "source": [
    "empty_list = []\n",
    "int_list = [1,3,5,7,9]\n",
    "float_list = [1.0,3.0,5.0,7.0,9.0]\n",
    "string_list = [\"All the dates\", \"many holidays\"]\n",
    "mixed_list = [3,8.0,\"Here are some words\"]\n",
    "\n",
    "print(empty_list)\n",
    "print(int_list)\n",
    "print(float_list)\n",
    "print(string_list)\n",
    "print(mixed_list)"
   ]
  },
  {
   "cell_type": "markdown",
   "metadata": {},
   "source": [
    "Let's check the types of objects in the last list"
   ]
  },
  {
   "cell_type": "code",
   "execution_count": 2,
   "metadata": {},
   "outputs": [
    {
     "data": {
      "text/plain": [
       "list"
      ]
     },
     "execution_count": 2,
     "metadata": {},
     "output_type": "execute_result"
    }
   ],
   "source": [
    "type(mixed_list)"
   ]
  },
  {
   "cell_type": "markdown",
   "metadata": {},
   "source": [
    "To access elements in a list, you must call the index which starts from 0 and counts upward with each individual element. "
   ]
  },
  {
   "cell_type": "code",
   "execution_count": 3,
   "metadata": {},
   "outputs": [
    {
     "data": {
      "text/plain": [
       "(3, int)"
      ]
     },
     "execution_count": 3,
     "metadata": {},
     "output_type": "execute_result"
    }
   ],
   "source": [
    "mixed_list[0], type(mixed_list[0])"
   ]
  },
  {
   "cell_type": "code",
   "execution_count": 4,
   "metadata": {},
   "outputs": [
    {
     "data": {
      "text/plain": [
       "(8.0, float)"
      ]
     },
     "execution_count": 4,
     "metadata": {},
     "output_type": "execute_result"
    }
   ],
   "source": [
    "mixed_list[1], type(mixed_list[1])"
   ]
  },
  {
   "cell_type": "code",
   "execution_count": 5,
   "metadata": {},
   "outputs": [
    {
     "data": {
      "text/plain": [
       "('Here are some words', str)"
      ]
     },
     "execution_count": 5,
     "metadata": {},
     "output_type": "execute_result"
    }
   ],
   "source": [
    "mixed_list[2], type(mixed_list[2])"
   ]
  },
  {
   "cell_type": "markdown",
   "metadata": {},
   "source": [
    "### We are concatenating the lists"
   ]
  },
  {
   "cell_type": "code",
   "execution_count": 6,
   "metadata": {},
   "outputs": [],
   "source": [
    "list1 = [6,3,4,8,1,2]\n",
    "list2 = [11,44,12,56,32,13]\n",
    "\n",
    "join_lists = list1 + list2"
   ]
  },
  {
   "cell_type": "code",
   "execution_count": 7,
   "metadata": {},
   "outputs": [
    {
     "data": {
      "text/plain": [
       "[6, 3, 4, 8, 1, 2]"
      ]
     },
     "execution_count": 7,
     "metadata": {},
     "output_type": "execute_result"
    }
   ],
   "source": [
    "list1"
   ]
  },
  {
   "cell_type": "code",
   "execution_count": 8,
   "metadata": {},
   "outputs": [
    {
     "data": {
      "text/plain": [
       "[6, 3, 4, 8, 1, 2, 11, 44, 12, 56, 32, 13]"
      ]
     },
     "execution_count": 8,
     "metadata": {},
     "output_type": "execute_result"
    }
   ],
   "source": [
    "join_lists"
   ]
  },
  {
   "cell_type": "raw",
   "metadata": {},
   "source": [
    "Remember this is just like concatenating strings"
   ]
  },
  {
   "cell_type": "code",
   "execution_count": 9,
   "metadata": {},
   "outputs": [
    {
     "data": {
      "text/plain": [
       "'The words are stringsand you can concatenate them'"
      ]
     },
     "execution_count": 9,
     "metadata": {},
     "output_type": "execute_result"
    }
   ],
   "source": [
    "str1 = \"The words are strings\"\n",
    "str2 = \"and you can concatenate them\"\n",
    "\n",
    "join_strs = str1 + str2\n",
    "join_strs"
   ]
  },
  {
   "cell_type": "code",
   "execution_count": 10,
   "metadata": {},
   "outputs": [
    {
     "data": {
      "text/plain": [
       "'e'"
      ]
     },
     "execution_count": 10,
     "metadata": {},
     "output_type": "execute_result"
    }
   ],
   "source": [
    "join_strs[2]"
   ]
  },
  {
   "cell_type": "markdown",
   "metadata": {},
   "source": [
    "## List slices \n",
    "\n",
    "Suppose that you want to call a subset of a list or string. You can do this by using calling list[start:end] "
   ]
  },
  {
   "cell_type": "code",
   "execution_count": 11,
   "metadata": {},
   "outputs": [
    {
     "data": {
      "text/plain": [
       "[6, 3, 4, 8, 1, 2, 11, 44, 12, 56, 32, 13]"
      ]
     },
     "execution_count": 11,
     "metadata": {},
     "output_type": "execute_result"
    }
   ],
   "source": [
    "join_lists"
   ]
  },
  {
   "cell_type": "code",
   "execution_count": 12,
   "metadata": {},
   "outputs": [
    {
     "data": {
      "text/plain": [
       "[6, 3, 4, 8, 1, 2, 11]"
      ]
     },
     "execution_count": 12,
     "metadata": {},
     "output_type": "execute_result"
    }
   ],
   "source": [
    "join_lists[:7]\n",
    "\n",
    "#calls from 0 to 7"
   ]
  },
  {
   "cell_type": "code",
   "execution_count": 13,
   "metadata": {},
   "outputs": [
    {
     "data": {
      "text/plain": [
       "[6, 3, 4, 8, 1, 2, 11]"
      ]
     },
     "execution_count": 13,
     "metadata": {},
     "output_type": "execute_result"
    }
   ],
   "source": [
    "join_lists[0:7]\n",
    "\n",
    "#the same as above"
   ]
  },
  {
   "cell_type": "code",
   "execution_count": 14,
   "metadata": {},
   "outputs": [
    {
     "data": {
      "text/plain": [
       "'The words'"
      ]
     },
     "execution_count": 14,
     "metadata": {},
     "output_type": "execute_result"
    }
   ],
   "source": [
    "join_strs[:9]"
   ]
  },
  {
   "cell_type": "code",
   "execution_count": 15,
   "metadata": {},
   "outputs": [
    {
     "data": {
      "text/plain": [
       "'are stringsand you can concatenate them'"
      ]
     },
     "execution_count": 15,
     "metadata": {},
     "output_type": "execute_result"
    }
   ],
   "source": [
    "join_strs[10:]"
   ]
  },
  {
   "cell_type": "markdown",
   "metadata": {},
   "source": [
    "If you call list [-1], it will access the last element in the list."
   ]
  },
  {
   "cell_type": "markdown",
   "metadata": {},
   "source": [
    "You can count from the end of the list using the negative sign (-). If you count backward after the first colon, this will call all except for the last i elements for a command list[:(-)#]"
   ]
  },
  {
   "cell_type": "code",
   "execution_count": 16,
   "metadata": {},
   "outputs": [
    {
     "data": {
      "text/plain": [
       "(13, 'm')"
      ]
     },
     "execution_count": 16,
     "metadata": {},
     "output_type": "execute_result"
    }
   ],
   "source": [
    "join_lists[-1], join_strs[-1]"
   ]
  },
  {
   "cell_type": "code",
   "execution_count": 17,
   "metadata": {},
   "outputs": [
    {
     "data": {
      "text/plain": [
       "([6, 3, 4, 8, 1, 2, 11, 44, 12, 56, 32],\n",
       " 'The words are stringsand you can concatenate the')"
      ]
     },
     "execution_count": 17,
     "metadata": {},
     "output_type": "execute_result"
    }
   ],
   "source": [
    "join_lists[:-1], join_strs[:-1]"
   ]
  },
  {
   "cell_type": "code",
   "execution_count": 18,
   "metadata": {},
   "outputs": [
    {
     "data": {
      "text/plain": [
       "([6, 3, 4, 8, 1, 2, 11, 44], 'The words are stringsand you can concatenate ')"
      ]
     },
     "execution_count": 18,
     "metadata": {},
     "output_type": "execute_result"
    }
   ],
   "source": [
    "join_lists[:-4], join_strs[:-4]"
   ]
  },
  {
   "cell_type": "markdown",
   "metadata": {},
   "source": [
    "## For Loops\n",
    "\n",
    "The magical piece that allows computer to do things for you."
   ]
  },
  {
   "cell_type": "code",
   "execution_count": 19,
   "metadata": {},
   "outputs": [
    {
     "name": "stdout",
     "output_type": "stream",
     "text": [
      "List 1: [3, 5, 7, 9, 11]\n",
      "List 2: [13, 17, 30, 22, 10]\n",
      "0 3\n",
      "1 5\n",
      "2 7\n",
      "3 9\n",
      "4 11\n",
      "[3, 5, 7, 9, 11]\n",
      "0 13\n",
      "1 17\n",
      "2 30\n",
      "3 22\n",
      "4 10\n",
      "[3, 5, 7, 9, 11, 13, 17, 30, 22, 10] [3, 5, 7, 9, 11, 13, 17, 30, 22, 10]\n",
      "sum_list (append): [16, 22, 37, 31, 21]\n",
      "sum_list (insert): [21, 31, 37, 22, 16]\n"
     ]
    }
   ],
   "source": [
    "list1 = [3,5,7,9,11]\n",
    "list2 = [13,17,30,22,10]\n",
    "\n",
    "print (\"List 1:\", list1)\n",
    "print (\"List 2:\", list2)\n",
    "\n",
    "#create a blank list that we will use to generate the \n",
    "#results that we achieved using the + sign: concatenate.\n",
    "concat_list = []\n",
    "sum_list = []\n",
    "\n",
    "len_list1 = len(list1)\n",
    "len_list2 = len(list2)\n",
    "# first let's concatenate\n",
    "for i in range(0,len_list1):\n",
    "    concat_list.append(list1[i])\n",
    "    print(i, list1[i])\n",
    "print (concat_list)\n",
    "\n",
    "for i in range(0,len_list2):\n",
    "    concat_list.append(list2[i])\n",
    "    print(i,list2[i])\n",
    "\n",
    "print(concat_list, list1 + list2)\n",
    "\n",
    "if len_list1 == len_list2:\n",
    "    for i in range(len_list1):\n",
    "        sum_list.append(list1[i]+list2[i])\n",
    "print(\"sum_list (append):\", sum_list)\n",
    "sum_list = []\n",
    "if len_list1 == len_list2:\n",
    "    for i in range(len_list1):\n",
    "        #list.insert(index,value)\n",
    "        sum_list.insert(0, list1[i]+list2[i])\n",
    "        # if you replace 0 with \"i\" then it will append and not invert\n",
    "print(\"sum_list (insert):\", sum_list)\n",
    "#insert inverts your list"
   ]
  },
  {
   "cell_type": "code",
   "execution_count": 20,
   "metadata": {},
   "outputs": [
    {
     "data": {
      "text/plain": [
       "True"
      ]
     },
     "execution_count": 20,
     "metadata": {},
     "output_type": "execute_result"
    }
   ],
   "source": [
    "1==1"
   ]
  },
  {
   "cell_type": "code",
   "execution_count": 21,
   "metadata": {},
   "outputs": [
    {
     "data": {
      "text/plain": [
       "False"
      ]
     },
     "execution_count": 21,
     "metadata": {},
     "output_type": "execute_result"
    }
   ],
   "source": [
    "1!=1"
   ]
  },
  {
   "cell_type": "code",
   "execution_count": 22,
   "metadata": {},
   "outputs": [
    {
     "name": "stdout",
     "output_type": "stream",
     "text": [
      "that is a true statement\n"
     ]
    }
   ],
   "source": [
    "if 1==1:\n",
    "    print(\"that is a true statement\")"
   ]
  },
  {
   "cell_type": "code",
   "execution_count": 23,
   "metadata": {},
   "outputs": [
    {
     "name": "stdout",
     "output_type": "stream",
     "text": [
      "statement is false\n"
     ]
    }
   ],
   "source": [
    "if sum_list[i] == 17:\n",
    "    print(\"statment is true\")\n",
    "else:\n",
    "    print(\"statement is false\")"
   ]
  },
  {
   "cell_type": "code",
   "execution_count": 24,
   "metadata": {},
   "outputs": [
    {
     "name": "stdout",
     "output_type": "stream",
     "text": [
      "i == 0 i < 5: True\n",
      "i == 1 i < 5: True\n",
      "i == 2 i < 5: True\n",
      "i == 3 i < 5: True\n",
      "i == 4 i < 5: True\n",
      "i == 5 i < 5: False\n",
      "i == 6 i < 5: False\n",
      "i == 7 i < 5: False\n",
      "i == 8 i < 5: False\n",
      "i == 9 i < 5: False\n"
     ]
    }
   ],
   "source": [
    "for i in range(10):\n",
    "    print(\"i ==\", i, \"i < 5:\", i<5)"
   ]
  },
  {
   "cell_type": "code",
   "execution_count": 25,
   "metadata": {},
   "outputs": [
    {
     "name": "stdout",
     "output_type": "stream",
     "text": [
      "i == 21 i > 25 False\n",
      "i == 31 i > 25 True\n",
      "i == 37 i > 25 True\n",
      "i == 22 i > 25 False\n",
      "i == 16 i > 25 False\n"
     ]
    }
   ],
   "source": [
    "for i in sum_list:\n",
    "    print(\"i ==\", i, \"i > 25\", i>25)"
   ]
  },
  {
   "cell_type": "code",
   "execution_count": 26,
   "metadata": {},
   "outputs": [
    {
     "name": "stdout",
     "output_type": "stream",
     "text": [
      "[3, 6, 1, 7, 3]\n",
      "['Grape', 'Orange', 'Pear', 'Banana', 'Peach']\n",
      "[1, 3, 3, 6, 7] ['Banana', 'Grape', 'Orange', 'Peach', 'Pear']\n",
      "[7, 6, 3, 3, 1] ['Pear', 'Peach', 'Orange', 'Grape', 'Banana']\n"
     ]
    }
   ],
   "source": [
    "list1 = [3,6,1,7,3]\n",
    "list2 = [\"Grape\", \"Orange\", \"Pear\", \"Banana\", \"Peach\"]\n",
    "\n",
    "print(list1)\n",
    "print(list2)\n",
    "sorted_list1 = sorted(list1)#, reverse = True) to reverse it a different way\n",
    "sorted_list2 = sorted(list2)\n",
    "\n",
    "print(sorted_list1, sorted_list2)\n",
    "\n",
    "#ran backwards\n",
    "\n",
    "print(sorted_list1[::-1], sorted_list2[::-1])"
   ]
  },
  {
   "cell_type": "code",
   "execution_count": 27,
   "metadata": {},
   "outputs": [
    {
     "name": "stdout",
     "output_type": "stream",
     "text": [
      "TypeError: Unorderable types: str () < int ()\n",
      "['1', '2', '22', '9', '6']\n",
      "[1, 2, 22, 9, 6]\n",
      "sorted alpha_list: ['1', '2', '22', '6', '9']\n",
      "sorted num_list: [1, 2, 6, 9, 22]\n"
     ]
    }
   ],
   "source": [
    "list3 = [\"1\", 2,\"22\",9,\"6\"]\n",
    "try:\n",
    "    sorted_list3 = sorted(list3)\n",
    "except:\n",
    "    print(\"TypeError: Unorderable types: str () < int ()\")\n",
    "\n",
    "# generator function creates list using for loop within the list created\n",
    "alpha_list3 = [str(val) for val in list3] \n",
    "num_list3 = []\n",
    "for val in list3:\n",
    "    num_list3.append(int(val))\n",
    "print(alpha_list3)\n",
    "print(num_list3)\n",
    "\n",
    "print(\"sorted alpha_list:\",sorted(alpha_list3))\n",
    "print(\"sorted num_list:\", sorted(num_list3))"
   ]
  },
  {
   "cell_type": "markdown",
   "metadata": {},
   "source": [
    "You can nest loops, meaning that you can add a loop within a loop."
   ]
  },
  {
   "cell_type": "code",
   "execution_count": 28,
   "metadata": {},
   "outputs": [
    {
     "name": "stdout",
     "output_type": "stream",
     "text": [
      "j r\n",
      "0 0\n",
      "0 1\n",
      "0 2\n",
      "1 0\n",
      "1 1\n",
      "1 2\n",
      "2 0\n",
      "2 1\n",
      "2 2\n"
     ]
    }
   ],
   "source": [
    "print(\"j\", \"r\")\n",
    "for j in range (3):\n",
    "    for r in range (3):\n",
    "        print (j,r)"
   ]
  },
  {
   "cell_type": "code",
   "execution_count": 29,
   "metadata": {},
   "outputs": [
    {
     "name": "stdout",
     "output_type": "stream",
     "text": [
      "j r\n",
      "0 0\n",
      "0 1\n",
      "0 2\n",
      "1 0\n",
      "1 1\n",
      "1 2\n",
      "2 0\n",
      "2 1\n",
      "2 2\n",
      "3 0\n",
      "3 1\n",
      "3 2\n",
      "4 0\n",
      "4 1\n",
      "4 2\n"
     ]
    }
   ],
   "source": [
    "print(\"j\", \"r\")\n",
    "for j in range (5):\n",
    "    for r in range (3):\n",
    "        print (j,r)"
   ]
  },
  {
   "cell_type": "code",
   "execution_count": 30,
   "metadata": {},
   "outputs": [
    {
     "name": "stdout",
     "output_type": "stream",
     "text": [
      "j r\n",
      "0 0\n",
      "0 1\n",
      "0 2\n",
      "0 3\n",
      "0 4\n",
      "0 5\n",
      "1 0\n",
      "1 1\n",
      "1 2\n",
      "1 3\n",
      "1 4\n",
      "1 5\n",
      "2 0\n",
      "2 1\n",
      "2 2\n",
      "2 3\n",
      "2 4\n",
      "2 5\n"
     ]
    }
   ],
   "source": [
    "print(\"j\", \"r\")\n",
    "for j in range (3):\n",
    "    for r in range (6):\n",
    "        print (j,r)"
   ]
  },
  {
   "cell_type": "code",
   "execution_count": 31,
   "metadata": {},
   "outputs": [
    {
     "name": "stdout",
     "output_type": "stream",
     "text": [
      "j b r\n",
      "0 0 0\n",
      "0 0 1\n",
      "0 0 2\n",
      "0 1 0\n",
      "0 1 1\n",
      "0 1 2\n",
      "0 2 0\n",
      "0 2 1\n",
      "0 2 2\n",
      "1 0 0\n",
      "1 0 1\n",
      "1 0 2\n",
      "1 1 0\n",
      "1 1 1\n",
      "1 1 2\n",
      "1 2 0\n",
      "1 2 1\n",
      "1 2 2\n",
      "2 0 0\n",
      "2 0 1\n",
      "2 0 2\n",
      "2 1 0\n",
      "2 1 1\n",
      "2 1 2\n",
      "2 2 0\n",
      "2 2 1\n",
      "2 2 2\n"
     ]
    }
   ],
   "source": [
    "print(\"j\",\"b\", \"r\")\n",
    "for j in range (3):\n",
    "    for b in range (3):\n",
    "        for r in range(3):\n",
    "            print (j,b,r)"
   ]
  },
  {
   "cell_type": "code",
   "execution_count": 32,
   "metadata": {},
   "outputs": [
    {
     "name": "stdout",
     "output_type": "stream",
     "text": [
      "j b r\n",
      "0 0 0\n",
      "0 0 1\n",
      "0 0 2\n",
      "0 0 3\n",
      "0 0 4\n",
      "0 1 0\n",
      "0 1 1\n",
      "0 1 2\n",
      "0 1 3\n",
      "0 1 4\n",
      "0 2 0\n",
      "0 2 1\n",
      "0 2 2\n",
      "0 2 3\n",
      "0 2 4\n",
      "0 3 0\n",
      "0 3 1\n",
      "0 3 2\n",
      "0 3 3\n",
      "0 3 4\n",
      "1 0 0\n",
      "1 0 1\n",
      "1 0 2\n",
      "1 0 3\n",
      "1 0 4\n",
      "1 1 0\n",
      "1 1 1\n",
      "1 1 2\n",
      "1 1 3\n",
      "1 1 4\n",
      "1 2 0\n",
      "1 2 1\n",
      "1 2 2\n",
      "1 2 3\n",
      "1 2 4\n",
      "1 3 0\n",
      "1 3 1\n",
      "1 3 2\n",
      "1 3 3\n",
      "1 3 4\n",
      "2 0 0\n",
      "2 0 1\n",
      "2 0 2\n",
      "2 0 3\n",
      "2 0 4\n",
      "2 1 0\n",
      "2 1 1\n",
      "2 1 2\n",
      "2 1 3\n",
      "2 1 4\n",
      "2 2 0\n",
      "2 2 1\n",
      "2 2 2\n",
      "2 2 3\n",
      "2 2 4\n",
      "2 3 0\n",
      "2 3 1\n",
      "2 3 2\n",
      "2 3 3\n",
      "2 3 4\n",
      "[0, 1, 2]\n",
      "[0, 1, 2, 3]\n",
      "[0, 1, 2, 3, 4]\n"
     ]
    }
   ],
   "source": [
    "print(\"j\",\"b\", \"r\")\n",
    "j_list = list(range(3))\n",
    "b_list = list(range(4))\n",
    "r_list = list(range(5))\n",
    "for j in range (3):\n",
    "    for b in range (4):\n",
    "        for r in range(5):\n",
    "            print (j,b,r)\n",
    "\n",
    "print(j_list)\n",
    "print(b_list)\n",
    "print(r_list)"
   ]
  }
 ],
 "metadata": {
  "kernelspec": {
   "display_name": "Python 3",
   "language": "python",
   "name": "python3"
  },
  "language_info": {
   "codemirror_mode": {
    "name": "ipython",
    "version": 3
   },
   "file_extension": ".py",
   "mimetype": "text/x-python",
   "name": "python",
   "nbconvert_exporter": "python",
   "pygments_lexer": "ipython3",
   "version": "3.8.3"
  }
 },
 "nbformat": 4,
 "nbformat_minor": 4
}
