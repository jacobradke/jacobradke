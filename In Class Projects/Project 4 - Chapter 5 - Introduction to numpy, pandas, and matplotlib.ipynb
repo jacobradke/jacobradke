{
 "cells": [
  {
   "cell_type": "markdown",
   "metadata": {},
   "source": [
    "# Introduction to *numpy, pandas, and matplotlib*"
   ]
  },
  {
   "cell_type": "code",
   "execution_count": 1,
   "metadata": {},
   "outputs": [
    {
     "name": "stdout",
     "output_type": "stream",
     "text": [
      "[ 2  4  6  8 10]\n"
     ]
    }
   ],
   "source": [
    "import numpy as np\n",
    "array = np.array([2,4,6,8,10])\n",
    "print(array)"
   ]
  },
  {
   "cell_type": "code",
   "execution_count": 2,
   "metadata": {},
   "outputs": [
    {
     "data": {
      "text/plain": [
       "array([ 2,  4,  6,  8, 10])"
      ]
     },
     "execution_count": 2,
     "metadata": {},
     "output_type": "execute_result"
    }
   ],
   "source": [
    "array"
   ]
  },
  {
   "cell_type": "code",
   "execution_count": 3,
   "metadata": {},
   "outputs": [
    {
     "data": {
      "text/plain": [
       "numpy.ndarray"
      ]
     },
     "execution_count": 3,
     "metadata": {},
     "output_type": "execute_result"
    }
   ],
   "source": [
    "type(array)"
   ]
  },
  {
   "cell_type": "code",
   "execution_count": 4,
   "metadata": {},
   "outputs": [
    {
     "name": "stdout",
     "output_type": "stream",
     "text": [
      "2 <class 'numpy.int64'>\n",
      "4 <class 'numpy.int64'>\n",
      "6 <class 'numpy.int64'>\n",
      "8 <class 'numpy.int64'>\n",
      "10 <class 'numpy.int64'>\n"
     ]
    }
   ],
   "source": [
    "for val in array:\n",
    "    print(val, type(val))"
   ]
  },
  {
   "cell_type": "code",
   "execution_count": 7,
   "metadata": {},
   "outputs": [
    {
     "name": "stdout",
     "output_type": "stream",
     "text": [
      "[  0   1   2   3   4   5   6   7   8   9  10  11  12  13  14  15  16  17\n",
      "  18  19  20  21  22  23  24  25  26  27  28  29  30  31  32  33  34  35\n",
      "  36  37  38  39  40  41  42  43  44  45  46  47  48  49  50  51  52  53\n",
      "  54  55  56  57  58  59  60  61  62  63  64  65  66  67  68  69  70  71\n",
      "  72  73  74  75  76  77  78  79  80  81  82  83  84  85  86  87  88  89\n",
      "  90  91  92  93  94  95  96  97  98  99 100 101 102 103 104 105 106 107\n",
      " 108 109 110 111 112 113 114 115 116 117 118 119 120 121 122 123 124 125\n",
      " 126 127 128 129 130 131 132 133 134 135 136 137 138 139 140 141 142 143\n",
      " 144 145 146 147 148 149 150]\n"
     ]
    }
   ],
   "source": [
    "range_array = np.arange(0,151)\n",
    "print(range_array)"
   ]
  },
  {
   "cell_type": "markdown",
   "metadata": {},
   "source": [
    "## np.arange(start, end, interval)"
   ]
  },
  {
   "cell_type": "code",
   "execution_count": 8,
   "metadata": {},
   "outputs": [
    {
     "name": "stdout",
     "output_type": "stream",
     "text": [
      "[  0   5  10  15  20  25  30  35  40  45  50  55  60  65  70  75  80  85\n",
      "  90  95 100 105 110 115 120 125 130 135 140 145 150]\n"
     ]
    }
   ],
   "source": [
    "#when you want to count by a number you can put ,val in your range\n",
    "range_array = np.arange(0,151,5)\n",
    "print (range_array)"
   ]
  },
  {
   "cell_type": "markdown",
   "metadata": {},
   "source": [
    "## Forming an array with a list of different types of values \n",
    "\n",
    "in the last case float array, we check to see if the transformation of a list of all floats is the smae as the transformation of a mixed list of floats and ints."
   ]
  },
  {
   "cell_type": "code",
   "execution_count": 12,
   "metadata": {},
   "outputs": [
    {
     "name": "stdout",
     "output_type": "stream",
     "text": [
      "int_float_list\n",
      "1 <class 'int'>\n",
      "3.0 <class 'float'>\n",
      "4.1 <class 'float'>\n",
      "5 <class 'int'>\n",
      "6 <class 'int'>\n",
      "\n",
      "mystery_array\n",
      "1.0 <class 'numpy.float64'>\n",
      "3.0 <class 'numpy.float64'>\n",
      "4.1 <class 'numpy.float64'>\n",
      "5.0 <class 'numpy.float64'>\n",
      "6.0 <class 'numpy.float64'>\n",
      "\n",
      "float_array\n",
      "2.0 <class 'numpy.float64'>\n",
      "3.0 <class 'numpy.float64'>\n",
      "4.0 <class 'numpy.float64'>\n",
      "6.0 <class 'numpy.float64'>\n",
      "10.0 <class 'numpy.float64'>\n"
     ]
    }
   ],
   "source": [
    "int_float_list = [1,3.0,4.1,5,6]\n",
    "print(\"int_float_list\")\n",
    "for val in int_float_list:\n",
    "    print(val, type(val))\n",
    "mystery_array = np.array(int_float_list)\n",
    "print()\n",
    "print(\"mystery_array\")\n",
    "for val in mystery_array:\n",
    "    print(val, type(val))\n",
    "\n",
    "float_list = [2.,3.,4.,6.,10.]\n",
    "print()\n",
    "print(\"float_array\")\n",
    "float_array = np.array(float_list)\n",
    "for val in float_list_array:\n",
    "    print(val, type(val))"
   ]
  },
  {
   "cell_type": "markdown",
   "metadata": {},
   "source": [
    "## Two-dimensional lists and arrays"
   ]
  },
  {
   "cell_type": "code",
   "execution_count": 13,
   "metadata": {},
   "outputs": [
    {
     "data": {
      "text/plain": [
       "[[2, 4, 6, 8, 10], [0, 3, 6, 9, 12], [4, 8, 12, 16, 20]]"
      ]
     },
     "execution_count": 13,
     "metadata": {},
     "output_type": "execute_result"
    }
   ],
   "source": [
    "two_dem_list = [[2,4,6,8,10],[0,3,6,9,12], [4,8,12,16,20]]\n",
    "two_dem_list"
   ]
  },
  {
   "cell_type": "code",
   "execution_count": 16,
   "metadata": {},
   "outputs": [
    {
     "name": "stdout",
     "output_type": "stream",
     "text": [
      "[2, 4, 6, 8, 10]\n",
      "2\n",
      "4\n",
      "6\n",
      "8\n",
      "10\n",
      "[0, 3, 6, 9, 12]\n",
      "0\n",
      "3\n",
      "6\n",
      "9\n",
      "12\n",
      "[4, 8, 12, 16, 20]\n",
      "4\n",
      "8\n",
      "12\n",
      "16\n",
      "20\n"
     ]
    }
   ],
   "source": [
    "for lst in two_dem_list:\n",
    "    print(lst)\n",
    "    for val in lst:\n",
    "        print(val)"
   ]
  },
  {
   "cell_type": "code",
   "execution_count": 18,
   "metadata": {},
   "outputs": [
    {
     "name": "stdout",
     "output_type": "stream",
     "text": [
      "2\n",
      "4\n",
      "6\n",
      "8\n",
      "10\n",
      "0\n",
      "3\n",
      "6\n",
      "9\n",
      "12\n",
      "4\n",
      "8\n",
      "12\n",
      "16\n",
      "20\n"
     ]
    }
   ],
   "source": [
    "for lst in two_dem_list:\n",
    "#    print(lst) if you take this out its harder to see\n",
    "    for val in lst:\n",
    "        print(val)"
   ]
  },
  {
   "cell_type": "markdown",
   "metadata": {},
   "source": [
    "## Transform two_dem_list to two_dem_array using np.array(lst)"
   ]
  },
  {
   "cell_type": "code",
   "execution_count": 20,
   "metadata": {},
   "outputs": [
    {
     "name": "stdout",
     "output_type": "stream",
     "text": [
      "[[2, 4, 6, 8, 10], [0, 3, 6, 9, 12], [4, 8, 12, 16, 20]]\n"
     ]
    },
    {
     "data": {
      "text/plain": [
       "array([[ 2,  4,  6,  8, 10],\n",
       "       [ 0,  3,  6,  9, 12],\n",
       "       [ 4,  8, 12, 16, 20]])"
      ]
     },
     "execution_count": 20,
     "metadata": {},
     "output_type": "execute_result"
    }
   ],
   "source": [
    "two_dem_array = np.array(two_dem_list)\n",
    "print(two_dem_list)\n",
    "two_dem_array"
   ]
  },
  {
   "cell_type": "code",
   "execution_count": 22,
   "metadata": {},
   "outputs": [
    {
     "name": "stdout",
     "output_type": "stream",
     "text": [
      "[ 2  4  6  8 10]\n",
      "2\n",
      "4\n",
      "6\n",
      "8\n",
      "10\n",
      "[ 0  3  6  9 12]\n",
      "0\n",
      "3\n",
      "6\n",
      "9\n",
      "12\n",
      "[ 4  8 12 16 20]\n",
      "4\n",
      "8\n",
      "12\n",
      "16\n",
      "20\n"
     ]
    }
   ],
   "source": [
    "for array in two_dem_array:\n",
    "    print(array)\n",
    "    for val in array:\n",
    "        print(val)"
   ]
  },
  {
   "cell_type": "markdown",
   "metadata": {},
   "source": [
    "## Changing the values of elements in an array"
   ]
  },
  {
   "cell_type": "code",
   "execution_count": 29,
   "metadata": {},
   "outputs": [
    {
     "name": "stdout",
     "output_type": "stream",
     "text": [
      "Original Array:\n",
      "[[0. 0. 0.]\n",
      " [0. 0. 0.]\n",
      " [0. 0. 0.]]\n",
      "\n",
      "Updated Array:\n",
      "[[0. 0. 9.]\n",
      " [0. 0. 5.]\n",
      " [0. 2. 0.]]\n"
     ]
    }
   ],
   "source": [
    "array = np.zeros((3,3))\n",
    "print(\"Original Array:\", array, sep = \"\\n\")\n",
    "print()\n",
    "array[0][2] = 9\n",
    "array[2][1] = 2\n",
    "array[1][2] = 5\n",
    "print(\"Updated Array:\", array, sep = \"\\n\")"
   ]
  },
  {
   "cell_type": "markdown",
   "metadata": {},
   "source": [
    "# you can do mulitple dimensional arrays too"
   ]
  },
  {
   "cell_type": "code",
   "execution_count": 30,
   "metadata": {},
   "outputs": [
    {
     "name": "stdout",
     "output_type": "stream",
     "text": [
      "3D Array:\n",
      "[[[0. 0. 0.]\n",
      "  [0. 0. 0.]\n",
      "  [0. 0. 0.]]\n",
      "\n",
      " [[0. 0. 0.]\n",
      "  [0. 0. 0.]\n",
      "  [0. 0. 0.]]\n",
      "\n",
      " [[0. 0. 0.]\n",
      "  [0. 0. 0.]\n",
      "  [0. 0. 0.]]]\n"
     ]
    }
   ],
   "source": [
    "array = np.zeros((3,3,3))\n",
    "print(\"3D Array:\", array, sep = \"\\n\")"
   ]
  },
  {
   "cell_type": "markdown",
   "metadata": {},
   "source": [
    "## all int zeros array"
   ]
  },
  {
   "cell_type": "code",
   "execution_count": 32,
   "metadata": {},
   "outputs": [
    {
     "data": {
      "text/plain": [
       "array([[0, 0, 0],\n",
       "       [0, 0, 0],\n",
       "       [0, 0, 0]])"
      ]
     },
     "execution_count": 32,
     "metadata": {},
     "output_type": "execute_result"
    }
   ],
   "source": [
    "zero_lst_of_lsts = [[0,0,0],[0,0,0],[0,0,0]]\n",
    "np.array(zero_lst_of_lsts)\n",
    "# no more floats in the array"
   ]
  },
  {
   "cell_type": "code",
   "execution_count": 34,
   "metadata": {},
   "outputs": [
    {
     "data": {
      "text/plain": [
       "array([[5, 0, 0],\n",
       "       [0, 0, 0],\n",
       "       [0, 0, 0]])"
      ]
     },
     "execution_count": 34,
     "metadata": {},
     "output_type": "execute_result"
    }
   ],
   "source": [
    "zero_array_of_arrays = np.array(zero_lst_of_lsts)\n",
    "zero_array_of_arrays[0][0] = 5\n",
    "zero_array_of_arrays\n",
    "#notice that it is not a float but it is an int"
   ]
  },
  {
   "cell_type": "code",
   "execution_count": 36,
   "metadata": {},
   "outputs": [
    {
     "data": {
      "text/plain": [
       "array([[[0, 0, 0],\n",
       "        [0, 0, 0],\n",
       "        [0, 0, 0]],\n",
       "\n",
       "       [[0, 0, 0],\n",
       "        [0, 0, 0],\n",
       "        [0, 0, 0]],\n",
       "\n",
       "       [[0, 0, 0],\n",
       "        [0, 0, 0],\n",
       "        [0, 0, 0]]])"
      ]
     },
     "execution_count": 36,
     "metadata": {},
     "output_type": "execute_result"
    }
   ],
   "source": [
    "np.zeros((3,3,3), dtype = int)\n",
    "#also works for changing the type of the values"
   ]
  },
  {
   "cell_type": "markdown",
   "metadata": {},
   "source": [
    "## Logging Data"
   ]
  },
  {
   "cell_type": "code",
   "execution_count": 44,
   "metadata": {},
   "outputs": [
    {
     "name": "stdout",
     "output_type": "stream",
     "text": [
      "log_of_e:\n",
      "1.0\n",
      "\n",
      "log_of10:\n",
      "1.0\n",
      "\n",
      "log_of100:\n",
      "2.0\n",
      "\n",
      "vals:\n",
      "[   1  101  201  301  401  501  601  701  801  901 1001 1101 1201 1301\n",
      " 1401 1501 1601 1701 1801 1901 2001 2101 2201 2301 2401 2501 2601 2701\n",
      " 2801 2901 3001 3101 3201 3301 3401 3501 3601 3701 3801 3901 4001 4101\n",
      " 4201 4301 4401 4501 4601 4701 4801 4901 5001 5101 5201 5301 5401 5501\n",
      " 5601 5701 5801 5901 6001 6101 6201 6301 6401 6501 6601 6701 6801 6901\n",
      " 7001 7101 7201 7301 7401 7501 7601 7701 7801 7901 8001 8101 8201 8301\n",
      " 8401 8501 8601 8701 8801 8901 9001 9101 9201 9301 9401 9501 9601 9701\n",
      " 9801 9901]\n",
      "\n",
      "ln_vals:\n",
      "[0.         4.61512052 5.30330491 5.70711026 5.99396143 6.2166061\n",
      " 6.39859493 6.55250789 6.68586095 6.80350526 6.90875478 7.00397414\n",
      " 7.09090982 7.17088848 7.24494155 7.31388683 7.37838371 7.43897159\n",
      " 7.49609735 7.55013534 7.60140233 7.6501687  7.69666708 7.74109909\n",
      " 7.7836406  7.82444593 7.86365127 7.90137735 7.93773178 7.97281078\n",
      " 8.00670085 8.03947992 8.07121854 8.10198073 8.13182479 8.16080392\n",
      " 8.18896686 8.21635833 8.24301947 8.26898821 8.29429961 8.31898613\n",
      " 8.34307787 8.36660283 8.38958707 8.41205487 8.43402895 8.45553053\n",
      " 8.47657951 8.49719454 8.51739317 8.53719188 8.55660619 8.57565076\n",
      " 8.5943394  8.61268517 8.63070043 8.64839688 8.6657856  8.68287711\n",
      " 8.6996814  8.71620797 8.73246585 8.74846363 8.76420951 8.77971129\n",
      " 8.79497643 8.81001205 8.82482494 8.83942161 8.85380827 8.8679909\n",
      " 8.88197518 8.8957666  8.90937041 8.92279162 8.9360351  8.94910547\n",
      " 8.96200721 8.97474461 8.98732181 8.99974279 9.01201138 9.02413127\n",
      " 9.03610603 9.04793908 9.05963375 9.07119324 9.08262063 9.09391891\n",
      " 9.10509096 9.11613958 9.12706745 9.1378772  9.14857135 9.15915234\n",
      " 9.16962254 9.17998425 9.1902397  9.20039104]\n",
      "\n",
      "log10_vals:\n",
      "<ufunc 'log'>\n"
     ]
    }
   ],
   "source": [
    "log_of_e = np.log(np.e)\n",
    "print(\"log_of_e:\",log_of_e, sep = \"\\n\")\n",
    "print()\n",
    "log_of10 = np.log10(10)\n",
    "print(\"log_of10:\", log_of10, sep = \"\\n\")\n",
    "print()\n",
    "log_of100 = np.log10(100)\n",
    "print(\"log_of100:\", log_of100, sep = \"\\n\")\n",
    "print()\n",
    "vals = np.arange(1,10001,100)\n",
    "ln_vals = np.log(vals)\n",
    "log10_vals = np.log\n",
    "print(\"vals:\", vals, sep = \"\\n\")\n",
    "print()\n",
    "print(\"ln_vals:\", ln_vals, sep = \"\\n\")\n",
    "print()\n",
    "print(\"log10_vals:\",log10_vals, sep = \"\\n\")"
   ]
  },
  {
   "cell_type": "code",
   "execution_count": 38,
   "metadata": {},
   "outputs": [
    {
     "name": "stdout",
     "output_type": "stream",
     "text": [
      "10 1.0\n",
      "20 1.3010299956639813\n",
      "30 1.4771212547196624\n",
      "40 1.6020599913279623\n",
      "50 1.6989700043360187\n",
      "60 1.7781512503836436\n",
      "70 1.845098040014257\n",
      "80 1.9030899869919435\n",
      "90 1.954242509439325\n",
      "100 2.0\n",
      "110 2.041392685158225\n",
      "120 2.0791812460476247\n",
      "130 2.113943352306837\n",
      "140 2.146128035678238\n",
      "150 2.1760912590556813\n",
      "160 2.2041199826559246\n",
      "170 2.230448921378274\n",
      "180 2.255272505103306\n",
      "190 2.278753600952829\n",
      "200 2.3010299956639813\n",
      "210 2.322219294733919\n",
      "220 2.342422680822206\n",
      "230 2.361727836017593\n",
      "240 2.380211241711606\n",
      "250 2.3979400086720375\n",
      "260 2.4149733479708178\n",
      "270 2.4313637641589874\n",
      "280 2.4471580313422194\n",
      "290 2.462397997898956\n",
      "300 2.4771212547196626\n",
      "310 2.4913616938342726\n",
      "320 2.505149978319906\n",
      "330 2.5185139398778875\n",
      "340 2.531478917042255\n",
      "350 2.5440680443502757\n",
      "360 2.5563025007672873\n",
      "370 2.568201724066995\n",
      "380 2.57978359661681\n",
      "390 2.591064607026499\n",
      "400 2.6020599913279625\n",
      "410 2.6127838567197355\n",
      "420 2.6232492903979003\n",
      "430 2.6334684555795866\n",
      "440 2.6434526764861874\n",
      "450 2.6532125137753435\n",
      "460 2.662757831681574\n",
      "470 2.6720978579357175\n",
      "480 2.681241237375587\n",
      "490 2.690196080028514\n",
      "500 2.6989700043360187\n",
      "510 2.7075701760979363\n",
      "520 2.716003343634799\n",
      "530 2.724275869600789\n",
      "540 2.7323937598229686\n",
      "550 2.7403626894942437\n",
      "560 2.7481880270062002\n",
      "570 2.7558748556724915\n",
      "580 2.7634279935629373\n",
      "590 2.7708520116421442\n",
      "600 2.7781512503836434\n",
      "610 2.785329835010767\n",
      "620 2.792391689498254\n",
      "630 2.7993405494535817\n",
      "640 2.806179973983887\n",
      "650 2.8129133566428557\n",
      "660 2.8195439355418688\n",
      "670 2.8260748027008264\n",
      "680 2.832508912706236\n",
      "690 2.838849090737255\n",
      "700 2.845098040014257\n",
      "710 2.8512583487190755\n",
      "720 2.8573324964312685\n",
      "730 2.863322860120456\n",
      "740 2.8692317197309762\n",
      "750 2.8750612633917\n",
      "760 2.8808135922807914\n",
      "770 2.886490725172482\n",
      "780 2.8920946026904804\n",
      "790 2.8976270912904414\n",
      "800 2.9030899869919438\n",
      "810 2.90848501887865\n",
      "820 2.9138138523837167\n",
      "830 2.9190780923760737\n",
      "840 2.9242792860618816\n",
      "850 2.929418925714293\n",
      "860 2.934498451243568\n",
      "870 2.9395192526186187\n",
      "880 2.9444826721501687\n",
      "890 2.949390006644913\n",
      "900 2.9542425094393248\n",
      "910 2.9590413923210934\n",
      "920 2.963787827345555\n",
      "930 2.9684829485539352\n",
      "940 2.9731278535996988\n",
      "950 2.9777236052888476\n",
      "960 2.9822712330395684\n",
      "970 2.9867717342662448\n",
      "980 2.9912260756924947\n",
      "990 2.99563519459755\n",
      "1000 3.0\n"
     ]
    }
   ],
   "source": [
    "for i in range(10,1001,10):\n",
    "    print(i, np.log10(i))"
   ]
  },
  {
   "cell_type": "code",
   "execution_count": null,
   "metadata": {},
   "outputs": [],
   "source": []
  }
 ],
 "metadata": {
  "kernelspec": {
   "display_name": "Python 3",
   "language": "python",
   "name": "python3"
  },
  "language_info": {
   "codemirror_mode": {
    "name": "ipython",
    "version": 3
   },
   "file_extension": ".py",
   "mimetype": "text/x-python",
   "name": "python",
   "nbconvert_exporter": "python",
   "pygments_lexer": "ipython3",
   "version": "3.8.3"
  }
 },
 "nbformat": 4,
 "nbformat_minor": 4
}
