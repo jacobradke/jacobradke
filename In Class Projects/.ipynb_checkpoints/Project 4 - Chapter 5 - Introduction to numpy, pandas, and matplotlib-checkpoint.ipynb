{
 "cells": [
  {
   "cell_type": "markdown",
   "metadata": {},
   "source": [
    "# Introduction to *numpy, pandas, and matplotlib*"
   ]
  },
  {
   "cell_type": "code",
   "execution_count": 1,
   "metadata": {},
   "outputs": [
    {
     "name": "stdout",
     "output_type": "stream",
     "text": [
      "[ 2  4  6  8 10]\n"
     ]
    }
   ],
   "source": [
    "import numpy as np\n",
    "array = np.array([2,4,6,8,10])\n",
    "print(array)"
   ]
  },
  {
   "cell_type": "code",
   "execution_count": 2,
   "metadata": {},
   "outputs": [
    {
     "data": {
      "text/plain": [
       "array([ 2,  4,  6,  8, 10])"
      ]
     },
     "execution_count": 2,
     "metadata": {},
     "output_type": "execute_result"
    }
   ],
   "source": [
    "array"
   ]
  },
  {
   "cell_type": "code",
   "execution_count": 3,
   "metadata": {},
   "outputs": [
    {
     "data": {
      "text/plain": [
       "numpy.ndarray"
      ]
     },
     "execution_count": 3,
     "metadata": {},
     "output_type": "execute_result"
    }
   ],
   "source": [
    "type(array)"
   ]
  },
  {
   "cell_type": "code",
   "execution_count": 4,
   "metadata": {},
   "outputs": [
    {
     "name": "stdout",
     "output_type": "stream",
     "text": [
      "2 <class 'numpy.int64'>\n",
      "4 <class 'numpy.int64'>\n",
      "6 <class 'numpy.int64'>\n",
      "8 <class 'numpy.int64'>\n",
      "10 <class 'numpy.int64'>\n"
     ]
    }
   ],
   "source": [
    "for val in array:\n",
    "    print(val, type(val))"
   ]
  },
  {
   "cell_type": "code",
   "execution_count": 5,
   "metadata": {},
   "outputs": [
    {
     "name": "stdout",
     "output_type": "stream",
     "text": [
      "[  0   1   2   3   4   5   6   7   8   9  10  11  12  13  14  15  16  17\n",
      "  18  19  20  21  22  23  24  25  26  27  28  29  30  31  32  33  34  35\n",
      "  36  37  38  39  40  41  42  43  44  45  46  47  48  49  50  51  52  53\n",
      "  54  55  56  57  58  59  60  61  62  63  64  65  66  67  68  69  70  71\n",
      "  72  73  74  75  76  77  78  79  80  81  82  83  84  85  86  87  88  89\n",
      "  90  91  92  93  94  95  96  97  98  99 100 101 102 103 104 105 106 107\n",
      " 108 109 110 111 112 113 114 115 116 117 118 119 120 121 122 123 124 125\n",
      " 126 127 128 129 130 131 132 133 134 135 136 137 138 139 140 141 142 143\n",
      " 144 145 146 147 148 149 150]\n"
     ]
    }
   ],
   "source": [
    "range_array = np.arange(0,151)\n",
    "print(range_array)"
   ]
  },
  {
   "cell_type": "markdown",
   "metadata": {},
   "source": [
    "## np.arange(start, end, interval)"
   ]
  },
  {
   "cell_type": "code",
   "execution_count": 6,
   "metadata": {},
   "outputs": [
    {
     "name": "stdout",
     "output_type": "stream",
     "text": [
      "[  0   5  10  15  20  25  30  35  40  45  50  55  60  65  70  75  80  85\n",
      "  90  95 100 105 110 115 120 125 130 135 140 145 150]\n"
     ]
    }
   ],
   "source": [
    "#when you want to count by a number you can put ,val in your range\n",
    "range_array = np.arange(0,151,5)\n",
    "print (range_array)"
   ]
  },
  {
   "cell_type": "markdown",
   "metadata": {},
   "source": [
    "## Forming an array with a list of different types of values \n",
    "\n",
    "in the last case float array, we check to see if the transformation of a list of all floats is the smae as the transformation of a mixed list of floats and ints."
   ]
  },
  {
   "cell_type": "code",
   "execution_count": 7,
   "metadata": {},
   "outputs": [
    {
     "name": "stdout",
     "output_type": "stream",
     "text": [
      "int_float_list\n",
      "1 <class 'int'>\n",
      "3.0 <class 'float'>\n",
      "4.1 <class 'float'>\n",
      "5 <class 'int'>\n",
      "6 <class 'int'>\n",
      "\n",
      "mystery_array\n",
      "1.0 <class 'numpy.float64'>\n",
      "3.0 <class 'numpy.float64'>\n",
      "4.1 <class 'numpy.float64'>\n",
      "5.0 <class 'numpy.float64'>\n",
      "6.0 <class 'numpy.float64'>\n",
      "\n",
      "float_array\n",
      "2.0 <class 'numpy.float64'>\n",
      "3.0 <class 'numpy.float64'>\n",
      "4.0 <class 'numpy.float64'>\n",
      "6.0 <class 'numpy.float64'>\n",
      "10.0 <class 'numpy.float64'>\n"
     ]
    }
   ],
   "source": [
    "int_float_list = [1,3.0,4.1,5,6]\n",
    "print(\"int_float_list\")\n",
    "for val in int_float_list:\n",
    "    print(val, type(val))\n",
    "mystery_array = np.array(int_float_list)\n",
    "print()\n",
    "print(\"mystery_array\")\n",
    "for val in mystery_array:\n",
    "    print(val, type(val))\n",
    "\n",
    "float_list = [2.,3.,4.,6.,10.]\n",
    "print()\n",
    "print(\"float_array\")\n",
    "float_array = np.array(float_list)\n",
    "for val in float_array:\n",
    "    print(val, type(val))"
   ]
  },
  {
   "cell_type": "markdown",
   "metadata": {},
   "source": [
    "## Two-dimensional lists and arrays"
   ]
  },
  {
   "cell_type": "code",
   "execution_count": 8,
   "metadata": {},
   "outputs": [
    {
     "data": {
      "text/plain": [
       "[[2, 4, 6, 8, 10], [0, 3, 6, 9, 12], [4, 8, 12, 16, 20]]"
      ]
     },
     "execution_count": 8,
     "metadata": {},
     "output_type": "execute_result"
    }
   ],
   "source": [
    "two_dem_list = [[2,4,6,8,10],[0,3,6,9,12], [4,8,12,16,20]]\n",
    "two_dem_list"
   ]
  },
  {
   "cell_type": "code",
   "execution_count": 9,
   "metadata": {},
   "outputs": [
    {
     "name": "stdout",
     "output_type": "stream",
     "text": [
      "[2, 4, 6, 8, 10]\n",
      "2\n",
      "4\n",
      "6\n",
      "8\n",
      "10\n",
      "[0, 3, 6, 9, 12]\n",
      "0\n",
      "3\n",
      "6\n",
      "9\n",
      "12\n",
      "[4, 8, 12, 16, 20]\n",
      "4\n",
      "8\n",
      "12\n",
      "16\n",
      "20\n"
     ]
    }
   ],
   "source": [
    "for lst in two_dem_list:\n",
    "    print(lst)\n",
    "    for val in lst:\n",
    "        print(val)"
   ]
  },
  {
   "cell_type": "code",
   "execution_count": 10,
   "metadata": {},
   "outputs": [
    {
     "name": "stdout",
     "output_type": "stream",
     "text": [
      "2\n",
      "4\n",
      "6\n",
      "8\n",
      "10\n",
      "0\n",
      "3\n",
      "6\n",
      "9\n",
      "12\n",
      "4\n",
      "8\n",
      "12\n",
      "16\n",
      "20\n"
     ]
    }
   ],
   "source": [
    "for lst in two_dem_list:\n",
    "#    print(lst) if you take this out its harder to see\n",
    "    for val in lst:\n",
    "        print(val)"
   ]
  },
  {
   "cell_type": "markdown",
   "metadata": {},
   "source": [
    "## Transform two_dem_list to two_dem_array using np.array(lst)"
   ]
  },
  {
   "cell_type": "code",
   "execution_count": 11,
   "metadata": {},
   "outputs": [
    {
     "name": "stdout",
     "output_type": "stream",
     "text": [
      "[[2, 4, 6, 8, 10], [0, 3, 6, 9, 12], [4, 8, 12, 16, 20]]\n"
     ]
    },
    {
     "data": {
      "text/plain": [
       "array([[ 2,  4,  6,  8, 10],\n",
       "       [ 0,  3,  6,  9, 12],\n",
       "       [ 4,  8, 12, 16, 20]])"
      ]
     },
     "execution_count": 11,
     "metadata": {},
     "output_type": "execute_result"
    }
   ],
   "source": [
    "two_dem_array = np.array(two_dem_list)\n",
    "print(two_dem_list)\n",
    "two_dem_array"
   ]
  },
  {
   "cell_type": "code",
   "execution_count": 12,
   "metadata": {},
   "outputs": [
    {
     "name": "stdout",
     "output_type": "stream",
     "text": [
      "[ 2  4  6  8 10]\n",
      "2\n",
      "4\n",
      "6\n",
      "8\n",
      "10\n",
      "[ 0  3  6  9 12]\n",
      "0\n",
      "3\n",
      "6\n",
      "9\n",
      "12\n",
      "[ 4  8 12 16 20]\n",
      "4\n",
      "8\n",
      "12\n",
      "16\n",
      "20\n"
     ]
    }
   ],
   "source": [
    "for array in two_dem_array:\n",
    "    print(array)\n",
    "    for val in array:\n",
    "        print(val)"
   ]
  },
  {
   "cell_type": "markdown",
   "metadata": {},
   "source": [
    "## Changing the values of elements in an array"
   ]
  },
  {
   "cell_type": "code",
   "execution_count": 13,
   "metadata": {},
   "outputs": [
    {
     "name": "stdout",
     "output_type": "stream",
     "text": [
      "Original Array:\n",
      "[[0. 0. 0.]\n",
      " [0. 0. 0.]\n",
      " [0. 0. 0.]]\n",
      "\n",
      "Updated Array:\n",
      "[[0. 0. 9.]\n",
      " [0. 0. 5.]\n",
      " [0. 2. 0.]]\n"
     ]
    }
   ],
   "source": [
    "array = np.zeros((3,3))\n",
    "print(\"Original Array:\", array, sep = \"\\n\")\n",
    "print()\n",
    "array[0][2] = 9\n",
    "array[2][1] = 2\n",
    "array[1][2] = 5\n",
    "print(\"Updated Array:\", array, sep = \"\\n\")"
   ]
  },
  {
   "cell_type": "markdown",
   "metadata": {},
   "source": [
    "# you can do mulitple dimensional arrays too"
   ]
  },
  {
   "cell_type": "code",
   "execution_count": 14,
   "metadata": {},
   "outputs": [
    {
     "name": "stdout",
     "output_type": "stream",
     "text": [
      "3D Array:\n",
      "[[[0. 0. 0.]\n",
      "  [0. 0. 0.]\n",
      "  [0. 0. 0.]]\n",
      "\n",
      " [[0. 0. 0.]\n",
      "  [0. 0. 0.]\n",
      "  [0. 0. 0.]]\n",
      "\n",
      " [[0. 0. 0.]\n",
      "  [0. 0. 0.]\n",
      "  [0. 0. 0.]]]\n"
     ]
    }
   ],
   "source": [
    "array = np.zeros((3,3,3))\n",
    "print(\"3D Array:\", array, sep = \"\\n\")"
   ]
  },
  {
   "cell_type": "markdown",
   "metadata": {},
   "source": [
    "## all int zeros array"
   ]
  },
  {
   "cell_type": "code",
   "execution_count": 15,
   "metadata": {},
   "outputs": [
    {
     "data": {
      "text/plain": [
       "array([[0, 0, 0],\n",
       "       [0, 0, 0],\n",
       "       [0, 0, 0]])"
      ]
     },
     "execution_count": 15,
     "metadata": {},
     "output_type": "execute_result"
    }
   ],
   "source": [
    "zero_lst_of_lsts = [[0,0,0],[0,0,0],[0,0,0]]\n",
    "np.array(zero_lst_of_lsts)\n",
    "# no more floats in the array"
   ]
  },
  {
   "cell_type": "code",
   "execution_count": 16,
   "metadata": {},
   "outputs": [
    {
     "data": {
      "text/plain": [
       "array([[5, 0, 0],\n",
       "       [0, 0, 0],\n",
       "       [0, 0, 0]])"
      ]
     },
     "execution_count": 16,
     "metadata": {},
     "output_type": "execute_result"
    }
   ],
   "source": [
    "zero_array_of_arrays = np.array(zero_lst_of_lsts)\n",
    "zero_array_of_arrays[0][0] = 5\n",
    "zero_array_of_arrays\n",
    "#notice that it is not a float but it is an int"
   ]
  },
  {
   "cell_type": "code",
   "execution_count": 17,
   "metadata": {},
   "outputs": [
    {
     "data": {
      "text/plain": [
       "array([[[0, 0, 0],\n",
       "        [0, 0, 0],\n",
       "        [0, 0, 0]],\n",
       "\n",
       "       [[0, 0, 0],\n",
       "        [0, 0, 0],\n",
       "        [0, 0, 0]],\n",
       "\n",
       "       [[0, 0, 0],\n",
       "        [0, 0, 0],\n",
       "        [0, 0, 0]]])"
      ]
     },
     "execution_count": 17,
     "metadata": {},
     "output_type": "execute_result"
    }
   ],
   "source": [
    "np.zeros((3,3,3), dtype = int)\n",
    "#also works for changing the type of the values"
   ]
  },
  {
   "cell_type": "markdown",
   "metadata": {},
   "source": [
    "## Logging Data"
   ]
  },
  {
   "cell_type": "code",
   "execution_count": 18,
   "metadata": {},
   "outputs": [
    {
     "name": "stdout",
     "output_type": "stream",
     "text": [
      "log_of_e:\n",
      "1.0\n",
      "\n",
      "log_of10:\n",
      "1.0\n",
      "\n",
      "log_of100:\n",
      "2.0\n",
      "\n",
      "vals:\n",
      "[   1  101  201  301  401  501  601  701  801  901 1001 1101 1201 1301\n",
      " 1401 1501 1601 1701 1801 1901 2001 2101 2201 2301 2401 2501 2601 2701\n",
      " 2801 2901 3001 3101 3201 3301 3401 3501 3601 3701 3801 3901 4001 4101\n",
      " 4201 4301 4401 4501 4601 4701 4801 4901 5001 5101 5201 5301 5401 5501\n",
      " 5601 5701 5801 5901 6001 6101 6201 6301 6401 6501 6601 6701 6801 6901\n",
      " 7001 7101 7201 7301 7401 7501 7601 7701 7801 7901 8001 8101 8201 8301\n",
      " 8401 8501 8601 8701 8801 8901 9001 9101 9201 9301 9401 9501 9601 9701\n",
      " 9801 9901]\n",
      "\n",
      "ln_vals:\n",
      "[0.         4.61512052 5.30330491 5.70711026 5.99396143 6.2166061\n",
      " 6.39859493 6.55250789 6.68586095 6.80350526 6.90875478 7.00397414\n",
      " 7.09090982 7.17088848 7.24494155 7.31388683 7.37838371 7.43897159\n",
      " 7.49609735 7.55013534 7.60140233 7.6501687  7.69666708 7.74109909\n",
      " 7.7836406  7.82444593 7.86365127 7.90137735 7.93773178 7.97281078\n",
      " 8.00670085 8.03947992 8.07121854 8.10198073 8.13182479 8.16080392\n",
      " 8.18896686 8.21635833 8.24301947 8.26898821 8.29429961 8.31898613\n",
      " 8.34307787 8.36660283 8.38958707 8.41205487 8.43402895 8.45553053\n",
      " 8.47657951 8.49719454 8.51739317 8.53719188 8.55660619 8.57565076\n",
      " 8.5943394  8.61268517 8.63070043 8.64839688 8.6657856  8.68287711\n",
      " 8.6996814  8.71620797 8.73246585 8.74846363 8.76420951 8.77971129\n",
      " 8.79497643 8.81001205 8.82482494 8.83942161 8.85380827 8.8679909\n",
      " 8.88197518 8.8957666  8.90937041 8.92279162 8.9360351  8.94910547\n",
      " 8.96200721 8.97474461 8.98732181 8.99974279 9.01201138 9.02413127\n",
      " 9.03610603 9.04793908 9.05963375 9.07119324 9.08262063 9.09391891\n",
      " 9.10509096 9.11613958 9.12706745 9.1378772  9.14857135 9.15915234\n",
      " 9.16962254 9.17998425 9.1902397  9.20039104]\n",
      "\n",
      "log10_vals:\n",
      "<ufunc 'log'>\n"
     ]
    }
   ],
   "source": [
    "log_of_e = np.log(np.e)\n",
    "print(\"log_of_e:\",log_of_e, sep = \"\\n\")\n",
    "print()\n",
    "log_of10 = np.log10(10)\n",
    "print(\"log_of10:\", log_of10, sep = \"\\n\")\n",
    "print()\n",
    "log_of100 = np.log10(100)\n",
    "print(\"log_of100:\", log_of100, sep = \"\\n\")\n",
    "print()\n",
    "vals = np.arange(1,10001,100)\n",
    "ln_vals = np.log(vals)\n",
    "log10_vals = np.log\n",
    "print(\"vals:\", vals, sep = \"\\n\")\n",
    "print()\n",
    "print(\"ln_vals:\", ln_vals, sep = \"\\n\")\n",
    "print()\n",
    "print(\"log10_vals:\",log10_vals, sep = \"\\n\")"
   ]
  },
  {
   "cell_type": "code",
   "execution_count": 19,
   "metadata": {},
   "outputs": [
    {
     "name": "stdout",
     "output_type": "stream",
     "text": [
      "10 1.0\n",
      "20 1.3010299956639813\n",
      "30 1.4771212547196624\n",
      "40 1.6020599913279623\n",
      "50 1.6989700043360187\n",
      "60 1.7781512503836436\n",
      "70 1.845098040014257\n",
      "80 1.9030899869919435\n",
      "90 1.954242509439325\n",
      "100 2.0\n",
      "110 2.041392685158225\n",
      "120 2.0791812460476247\n",
      "130 2.113943352306837\n",
      "140 2.146128035678238\n",
      "150 2.1760912590556813\n",
      "160 2.2041199826559246\n",
      "170 2.230448921378274\n",
      "180 2.255272505103306\n",
      "190 2.278753600952829\n",
      "200 2.3010299956639813\n",
      "210 2.322219294733919\n",
      "220 2.342422680822206\n",
      "230 2.361727836017593\n",
      "240 2.380211241711606\n",
      "250 2.3979400086720375\n",
      "260 2.4149733479708178\n",
      "270 2.4313637641589874\n",
      "280 2.4471580313422194\n",
      "290 2.462397997898956\n",
      "300 2.4771212547196626\n",
      "310 2.4913616938342726\n",
      "320 2.505149978319906\n",
      "330 2.5185139398778875\n",
      "340 2.531478917042255\n",
      "350 2.5440680443502757\n",
      "360 2.5563025007672873\n",
      "370 2.568201724066995\n",
      "380 2.57978359661681\n",
      "390 2.591064607026499\n",
      "400 2.6020599913279625\n",
      "410 2.6127838567197355\n",
      "420 2.6232492903979003\n",
      "430 2.6334684555795866\n",
      "440 2.6434526764861874\n",
      "450 2.6532125137753435\n",
      "460 2.662757831681574\n",
      "470 2.6720978579357175\n",
      "480 2.681241237375587\n",
      "490 2.690196080028514\n",
      "500 2.6989700043360187\n",
      "510 2.7075701760979363\n",
      "520 2.716003343634799\n",
      "530 2.724275869600789\n",
      "540 2.7323937598229686\n",
      "550 2.7403626894942437\n",
      "560 2.7481880270062002\n",
      "570 2.7558748556724915\n",
      "580 2.7634279935629373\n",
      "590 2.7708520116421442\n",
      "600 2.7781512503836434\n",
      "610 2.785329835010767\n",
      "620 2.792391689498254\n",
      "630 2.7993405494535817\n",
      "640 2.806179973983887\n",
      "650 2.8129133566428557\n",
      "660 2.8195439355418688\n",
      "670 2.8260748027008264\n",
      "680 2.832508912706236\n",
      "690 2.838849090737255\n",
      "700 2.845098040014257\n",
      "710 2.8512583487190755\n",
      "720 2.8573324964312685\n",
      "730 2.863322860120456\n",
      "740 2.8692317197309762\n",
      "750 2.8750612633917\n",
      "760 2.8808135922807914\n",
      "770 2.886490725172482\n",
      "780 2.8920946026904804\n",
      "790 2.8976270912904414\n",
      "800 2.9030899869919438\n",
      "810 2.90848501887865\n",
      "820 2.9138138523837167\n",
      "830 2.9190780923760737\n",
      "840 2.9242792860618816\n",
      "850 2.929418925714293\n",
      "860 2.934498451243568\n",
      "870 2.9395192526186187\n",
      "880 2.9444826721501687\n",
      "890 2.949390006644913\n",
      "900 2.9542425094393248\n",
      "910 2.9590413923210934\n",
      "920 2.963787827345555\n",
      "930 2.9684829485539352\n",
      "940 2.9731278535996988\n",
      "950 2.9777236052888476\n",
      "960 2.9822712330395684\n",
      "970 2.9867717342662448\n",
      "980 2.9912260756924947\n",
      "990 2.99563519459755\n",
      "1000 3.0\n"
     ]
    }
   ],
   "source": [
    "for i in range(10,1001,10):\n",
    "    print(i, np.log10(i))"
   ]
  },
  {
   "cell_type": "markdown",
   "metadata": {},
   "source": [
    "# Making a list of prime numbers"
   ]
  },
  {
   "cell_type": "code",
   "execution_count": 20,
   "metadata": {},
   "outputs": [
    {
     "data": {
      "text/plain": [
       "[2, 3, 5, 7, 9]"
      ]
     },
     "execution_count": 20,
     "metadata": {},
     "output_type": "execute_result"
    }
   ],
   "source": [
    "prime_numbers = [i for i in range(2,10)]\n",
    "for i in prime_numbers:\n",
    "    for j in range(2,i):\n",
    "        if i % j == 0:\n",
    "            try: \n",
    "                prime_numbers.remove(i)\n",
    "            except:\n",
    "                pass\n",
    "prime_numbers"
   ]
  },
  {
   "cell_type": "markdown",
   "metadata": {},
   "source": [
    "# Boolean indexing\n",
    "\n",
    "Create a true or false index that allows us to include or not include values from a list"
   ]
  },
  {
   "cell_type": "code",
   "execution_count": 21,
   "metadata": {},
   "outputs": [
    {
     "name": "stdout",
     "output_type": "stream",
     "text": [
      "rand_list:\n",
      "[9.588951417908218, 4.887771859118497, 8.88103666385637, 4.3280776710873, 1.1003848281473416, 3.143125157919373, 6.79691734354455, 1.0859404241882176, 0.3939457539039559, 2.936762039029209]\n",
      "\n",
      "subset:\n",
      "[3.8315175979431135, 0.325394419969115, 9.833382098526343, 9.96173707138546, 2.2265733530959286, 4.410787206807818]\n",
      "\n",
      "subset1: calls only values in rand_list that are greater than 7\n",
      "[9.588951417908218, 8.88103666385637]\n"
     ]
    }
   ],
   "source": [
    "import random\n",
    "\n",
    "rand_list = [random.random() * 10 for i in range(10)]\n",
    "print(\"rand_list:\", rand_list, sep = \"\\n\")\n",
    "print()\n",
    "subset = [random.random() *10 for i in range(10) if i>3]\n",
    "print(\"subset:\", subset, sep = \"\\n\")\n",
    "print()\n",
    "subset1 = [val for val in rand_list if val>7]\n",
    "print(\"subset1: calls only values in rand_list that are greater than 7\", subset1, sep = \"\\n\")"
   ]
  },
  {
   "cell_type": "markdown",
   "metadata": {},
   "source": [
    "## Boolean indexing with numpy"
   ]
  },
  {
   "cell_type": "code",
   "execution_count": 22,
   "metadata": {},
   "outputs": [
    {
     "name": "stdout",
     "output_type": "stream",
     "text": [
      "rand_array:\n",
      "[  0.09736302  12.27901566   4.93268216  -7.85957759  -0.85287851\n",
      "  -6.70717212 -19.38130562]\n",
      "\n",
      "rand_array>0:\n",
      "[ True  True  True False False False False]\n",
      "\n",
      "only>0rand_array:\n",
      "[ 0.09736302 12.27901566  4.93268216]\n"
     ]
    }
   ],
   "source": [
    "rand_array = np.random.randn(7) * 10 #created 7 numbers with a mean of 10 then multipled by 10\n",
    "print(\"rand_array:\" , rand_array, sep = \"\\n\")\n",
    "print()\n",
    "print(\"rand_array>0:\", rand_array > 0, sep = \"\\n\")\n",
    "print()\n",
    "print('only>0rand_array:', rand_array[rand_array > 0], sep = \"\\n\")"
   ]
  },
  {
   "cell_type": "markdown",
   "metadata": {},
   "source": [
    "# Data in dictionaries and dataframes"
   ]
  },
  {
   "cell_type": "code",
   "execution_count": 23,
   "metadata": {},
   "outputs": [
    {
     "data": {
      "text/plain": [
       "{'0 to 9': array([0, 1, 2, 3, 4, 5, 6, 7, 8, 9]),\n",
       " 'ones': array([1., 1., 1., 1., 1., 1., 1., 1., 1., 1.]),\n",
       " 'zeros': array([0., 0., 0., 0., 0., 0., 0., 0., 0., 0.])}"
      ]
     },
     "execution_count": 23,
     "metadata": {},
     "output_type": "execute_result"
    }
   ],
   "source": [
    "data_dict = {\"0 to 9\": np.arange(10),\n",
    "             \"ones\": np.ones(10),\n",
    "             \"zeros\": np.zeros(10)\n",
    "            }\n",
    "data_dict          "
   ]
  },
  {
   "cell_type": "code",
   "execution_count": 24,
   "metadata": {},
   "outputs": [
    {
     "name": "stdout",
     "output_type": "stream",
     "text": [
      "0 to 9\n",
      "[0 1 2 3 4 5 6 7 8 9]\n",
      "ones\n",
      "[1. 1. 1. 1. 1. 1. 1. 1. 1. 1.]\n",
      "zeros\n",
      "[0. 0. 0. 0. 0. 0. 0. 0. 0. 0.]\n"
     ]
    },
    {
     "data": {
      "text/plain": [
       "dict_items([('0 to 9', array([0, 1, 2, 3, 4, 5, 6, 7, 8, 9])), ('ones', array([1., 1., 1., 1., 1., 1., 1., 1., 1., 1.])), ('zeros', array([0., 0., 0., 0., 0., 0., 0., 0., 0., 0.]))])"
      ]
     },
     "execution_count": 24,
     "metadata": {},
     "output_type": "execute_result"
    }
   ],
   "source": [
    "for key in data_dict:\n",
    "    print(key)\n",
    "    print(data_dict[key])\n",
    "data_dict.items()"
   ]
  },
  {
   "cell_type": "code",
   "execution_count": 25,
   "metadata": {},
   "outputs": [
    {
     "name": "stdout",
     "output_type": "stream",
     "text": [
      "0 to 9\n",
      "[0 1 2 3 4 5 6 7 8 9]\n",
      "ones\n",
      "[1. 1. 1. 1. 1. 1. 1. 1. 1. 1.]\n",
      "zeros\n",
      "[0. 0. 0. 0. 0. 0. 0. 0. 0. 0.]\n"
     ]
    }
   ],
   "source": [
    "for key, val in data_dict.items():\n",
    "    print(key)\n",
    "    print(val)"
   ]
  },
  {
   "cell_type": "code",
   "execution_count": 26,
   "metadata": {},
   "outputs": [
    {
     "name": "stdout",
     "output_type": "stream",
     "text": [
      "0 to 9\n",
      "[0 1 2 3 4 5 6 7 8 9]\n",
      "ones\n",
      "[1. 1. 1. 1. 1. 1. 1. 1. 1. 1.]\n",
      "zeros\n",
      "[0. 0. 0. 0. 0. 0. 0. 0. 0. 0.]\n"
     ]
    },
    {
     "data": {
      "text/plain": [
       "dict_items([('0 to 9', array([0, 1, 2, 3, 4, 5, 6, 7, 8, 9])), ('ones', array([1., 1., 1., 1., 1., 1., 1., 1., 1., 1.])), ('zeros', array([0., 0., 0., 0., 0., 0., 0., 0., 0., 0.]))])"
      ]
     },
     "execution_count": 26,
     "metadata": {},
     "output_type": "execute_result"
    }
   ],
   "source": [
    "for key in data_dict:\n",
    "    val = data_dict[key]\n",
    "    print(key)\n",
    "    print(val)\n",
    "    #print(data_dict[key])\n",
    "    \n",
    "data_dict.items()"
   ]
  },
  {
   "cell_type": "code",
   "execution_count": 27,
   "metadata": {},
   "outputs": [
    {
     "name": "stdout",
     "output_type": "stream",
     "text": [
      "0th value of: 0 to 9\n",
      "0\n",
      "0th value of: ones\n",
      "1.0\n",
      "0th value of: zeros\n",
      "0.0\n"
     ]
    }
   ],
   "source": [
    "for key, val in data_dict.items():\n",
    "    print(\"0th value of:\",key)\n",
    "    print(val[0])"
   ]
  },
  {
   "cell_type": "code",
   "execution_count": 28,
   "metadata": {},
   "outputs": [
    {
     "name": "stdout",
     "output_type": "stream",
     "text": [
      "Values from index 5: 0 to 9\n",
      "[5 6 7 8 9]\n",
      "Values from index 5: ones\n",
      "[1. 1. 1. 1. 1.]\n",
      "Values from index 5: zeros\n",
      "[0. 0. 0. 0. 0.]\n"
     ]
    }
   ],
   "source": [
    "for key, val in data_dict.items():\n",
    "    print(\"Values from index 5:\",key)\n",
    "    print(val[5:])"
   ]
  },
  {
   "cell_type": "markdown",
   "metadata": {},
   "source": [
    "# Pandas Dataframes"
   ]
  },
  {
   "cell_type": "code",
   "execution_count": 29,
   "metadata": {},
   "outputs": [
    {
     "name": "stdout",
     "output_type": "stream",
     "text": [
      "0    0\n",
      "1    1\n",
      "2    2\n",
      "3    3\n",
      "4    4\n",
      "5    5\n",
      "6    6\n",
      "7    7\n",
      "8    8\n",
      "9    9\n",
      "dtype: int64\n"
     ]
    }
   ],
   "source": [
    "import pandas as pd\n",
    "\n",
    "data_series = pd.Series(np.arange(10))\n",
    "print(data_series)"
   ]
  },
  {
   "cell_type": "code",
   "execution_count": 30,
   "metadata": {},
   "outputs": [
    {
     "data": {
      "text/html": [
       "<div>\n",
       "<style scoped>\n",
       "    .dataframe tbody tr th:only-of-type {\n",
       "        vertical-align: middle;\n",
       "    }\n",
       "\n",
       "    .dataframe tbody tr th {\n",
       "        vertical-align: top;\n",
       "    }\n",
       "\n",
       "    .dataframe thead th {\n",
       "        text-align: right;\n",
       "    }\n",
       "</style>\n",
       "<table border=\"1\" class=\"dataframe\">\n",
       "  <thead>\n",
       "    <tr style=\"text-align: right;\">\n",
       "      <th></th>\n",
       "      <th>0 to 9</th>\n",
       "      <th>ones</th>\n",
       "      <th>zeros</th>\n",
       "    </tr>\n",
       "  </thead>\n",
       "  <tbody>\n",
       "    <tr>\n",
       "      <th>0</th>\n",
       "      <td>0</td>\n",
       "      <td>1.0</td>\n",
       "      <td>0.0</td>\n",
       "    </tr>\n",
       "    <tr>\n",
       "      <th>1</th>\n",
       "      <td>1</td>\n",
       "      <td>1.0</td>\n",
       "      <td>0.0</td>\n",
       "    </tr>\n",
       "    <tr>\n",
       "      <th>2</th>\n",
       "      <td>2</td>\n",
       "      <td>1.0</td>\n",
       "      <td>0.0</td>\n",
       "    </tr>\n",
       "    <tr>\n",
       "      <th>3</th>\n",
       "      <td>3</td>\n",
       "      <td>1.0</td>\n",
       "      <td>0.0</td>\n",
       "    </tr>\n",
       "    <tr>\n",
       "      <th>4</th>\n",
       "      <td>4</td>\n",
       "      <td>1.0</td>\n",
       "      <td>0.0</td>\n",
       "    </tr>\n",
       "    <tr>\n",
       "      <th>5</th>\n",
       "      <td>5</td>\n",
       "      <td>1.0</td>\n",
       "      <td>0.0</td>\n",
       "    </tr>\n",
       "    <tr>\n",
       "      <th>6</th>\n",
       "      <td>6</td>\n",
       "      <td>1.0</td>\n",
       "      <td>0.0</td>\n",
       "    </tr>\n",
       "    <tr>\n",
       "      <th>7</th>\n",
       "      <td>7</td>\n",
       "      <td>1.0</td>\n",
       "      <td>0.0</td>\n",
       "    </tr>\n",
       "    <tr>\n",
       "      <th>8</th>\n",
       "      <td>8</td>\n",
       "      <td>1.0</td>\n",
       "      <td>0.0</td>\n",
       "    </tr>\n",
       "    <tr>\n",
       "      <th>9</th>\n",
       "      <td>9</td>\n",
       "      <td>1.0</td>\n",
       "      <td>0.0</td>\n",
       "    </tr>\n",
       "  </tbody>\n",
       "</table>\n",
       "</div>"
      ],
      "text/plain": [
       "   0 to 9  ones  zeros\n",
       "0       0   1.0    0.0\n",
       "1       1   1.0    0.0\n",
       "2       2   1.0    0.0\n",
       "3       3   1.0    0.0\n",
       "4       4   1.0    0.0\n",
       "5       5   1.0    0.0\n",
       "6       6   1.0    0.0\n",
       "7       7   1.0    0.0\n",
       "8       8   1.0    0.0\n",
       "9       9   1.0    0.0"
      ]
     },
     "execution_count": 30,
     "metadata": {},
     "output_type": "execute_result"
    }
   ],
   "source": [
    "data_df = pd.DataFrame(data_dict)\n",
    "data_df"
   ]
  },
  {
   "cell_type": "code",
   "execution_count": 31,
   "metadata": {},
   "outputs": [
    {
     "data": {
      "text/plain": [
       "0    0\n",
       "1    1\n",
       "2    2\n",
       "3    3\n",
       "4    4\n",
       "5    5\n",
       "6    6\n",
       "7    7\n",
       "8    8\n",
       "9    9\n",
       "Name: 0 to 9, dtype: int64"
      ]
     },
     "execution_count": 31,
     "metadata": {},
     "output_type": "execute_result"
    }
   ],
   "source": [
    "data_df[\"0 to 9\"]"
   ]
  },
  {
   "cell_type": "code",
   "execution_count": 32,
   "metadata": {},
   "outputs": [
    {
     "data": {
      "text/html": [
       "<div>\n",
       "<style scoped>\n",
       "    .dataframe tbody tr th:only-of-type {\n",
       "        vertical-align: middle;\n",
       "    }\n",
       "\n",
       "    .dataframe tbody tr th {\n",
       "        vertical-align: top;\n",
       "    }\n",
       "\n",
       "    .dataframe thead th {\n",
       "        text-align: right;\n",
       "    }\n",
       "</style>\n",
       "<table border=\"1\" class=\"dataframe\">\n",
       "  <thead>\n",
       "    <tr style=\"text-align: right;\">\n",
       "      <th></th>\n",
       "      <th>0 to 9</th>\n",
       "      <th>ones</th>\n",
       "      <th>zeros</th>\n",
       "    </tr>\n",
       "  </thead>\n",
       "  <tbody>\n",
       "    <tr>\n",
       "      <th>0</th>\n",
       "      <td>0</td>\n",
       "      <td>1.0</td>\n",
       "      <td>0.0</td>\n",
       "    </tr>\n",
       "    <tr>\n",
       "      <th>1</th>\n",
       "      <td>1</td>\n",
       "      <td>1.0</td>\n",
       "      <td>0.0</td>\n",
       "    </tr>\n",
       "    <tr>\n",
       "      <th>2</th>\n",
       "      <td>2</td>\n",
       "      <td>1.0</td>\n",
       "      <td>0.0</td>\n",
       "    </tr>\n",
       "    <tr>\n",
       "      <th>3</th>\n",
       "      <td>3</td>\n",
       "      <td>1.0</td>\n",
       "      <td>0.0</td>\n",
       "    </tr>\n",
       "    <tr>\n",
       "      <th>4</th>\n",
       "      <td>4</td>\n",
       "      <td>1.0</td>\n",
       "      <td>0.0</td>\n",
       "    </tr>\n",
       "  </tbody>\n",
       "</table>\n",
       "</div>"
      ],
      "text/plain": [
       "   0 to 9  ones  zeros\n",
       "0       0   1.0    0.0\n",
       "1       1   1.0    0.0\n",
       "2       2   1.0    0.0\n",
       "3       3   1.0    0.0\n",
       "4       4   1.0    0.0"
      ]
     },
     "execution_count": 32,
     "metadata": {},
     "output_type": "execute_result"
    }
   ],
   "source": [
    "# .iloc cames rows according to their index\n",
    "data_df.iloc[0:5]"
   ]
  },
  {
   "cell_type": "code",
   "execution_count": 33,
   "metadata": {},
   "outputs": [
    {
     "data": {
      "text/html": [
       "<div>\n",
       "<style scoped>\n",
       "    .dataframe tbody tr th:only-of-type {\n",
       "        vertical-align: middle;\n",
       "    }\n",
       "\n",
       "    .dataframe tbody tr th {\n",
       "        vertical-align: top;\n",
       "    }\n",
       "\n",
       "    .dataframe thead th {\n",
       "        text-align: right;\n",
       "    }\n",
       "</style>\n",
       "<table border=\"1\" class=\"dataframe\">\n",
       "  <thead>\n",
       "    <tr style=\"text-align: right;\">\n",
       "      <th></th>\n",
       "      <th>0 to 9</th>\n",
       "      <th>ones</th>\n",
       "      <th>zeros</th>\n",
       "    </tr>\n",
       "  </thead>\n",
       "  <tbody>\n",
       "    <tr>\n",
       "      <th>0</th>\n",
       "      <td>0</td>\n",
       "      <td>1.0</td>\n",
       "      <td>0.0</td>\n",
       "    </tr>\n",
       "    <tr>\n",
       "      <th>1</th>\n",
       "      <td>1</td>\n",
       "      <td>1.0</td>\n",
       "      <td>0.0</td>\n",
       "    </tr>\n",
       "    <tr>\n",
       "      <th>2</th>\n",
       "      <td>2</td>\n",
       "      <td>1.0</td>\n",
       "      <td>0.0</td>\n",
       "    </tr>\n",
       "    <tr>\n",
       "      <th>3</th>\n",
       "      <td>3</td>\n",
       "      <td>1.0</td>\n",
       "      <td>0.0</td>\n",
       "    </tr>\n",
       "    <tr>\n",
       "      <th>4</th>\n",
       "      <td>4</td>\n",
       "      <td>1.0</td>\n",
       "      <td>0.0</td>\n",
       "    </tr>\n",
       "    <tr>\n",
       "      <th>5</th>\n",
       "      <td>5</td>\n",
       "      <td>1.0</td>\n",
       "      <td>0.0</td>\n",
       "    </tr>\n",
       "  </tbody>\n",
       "</table>\n",
       "</div>"
      ],
      "text/plain": [
       "   0 to 9  ones  zeros\n",
       "0       0   1.0    0.0\n",
       "1       1   1.0    0.0\n",
       "2       2   1.0    0.0\n",
       "3       3   1.0    0.0\n",
       "4       4   1.0    0.0\n",
       "5       5   1.0    0.0"
      ]
     },
     "execution_count": 33,
     "metadata": {},
     "output_type": "execute_result"
    }
   ],
   "source": [
    "data_df.loc[0:5]\n",
    "# .loc calls according to row name "
   ]
  },
  {
   "cell_type": "markdown",
   "metadata": {},
   "source": [
    "# Create a random data for a dataframe"
   ]
  },
  {
   "cell_type": "code",
   "execution_count": 34,
   "metadata": {},
   "outputs": [],
   "source": [
    "macro_dict = {\"GDP\":{},\n",
    "             \"Money\": {},\n",
    "#             \"Real GDP\": {},\n",
    "             \"Price Level\": {},\n",
    "             }"
   ]
  },
  {
   "cell_type": "code",
   "execution_count": 35,
   "metadata": {},
   "outputs": [],
   "source": [
    "for key in macro_dict:\n",
    "    for i in range(1990,2018):\n",
    "        macro_dict[key][i] = np.random.random() * 10000"
   ]
  },
  {
   "cell_type": "code",
   "execution_count": 36,
   "metadata": {},
   "outputs": [
    {
     "data": {
      "text/plain": [
       "{'GDP': {1990: 9120.457947269739,\n",
       "  1991: 5761.678018418358,\n",
       "  1992: 3520.261399618997,\n",
       "  1993: 5937.228348065673,\n",
       "  1994: 8993.095454333514,\n",
       "  1995: 5552.708669781263,\n",
       "  1996: 4508.935991898557,\n",
       "  1997: 911.8532906026478,\n",
       "  1998: 4336.973700535132,\n",
       "  1999: 9716.357264008808,\n",
       "  2000: 9953.1976456313,\n",
       "  2001: 9864.854656475283,\n",
       "  2002: 6139.764526661734,\n",
       "  2003: 6539.059148088967,\n",
       "  2004: 7943.9966145490835,\n",
       "  2005: 3870.040322864401,\n",
       "  2006: 7969.497249305618,\n",
       "  2007: 5824.5282860993975,\n",
       "  2008: 1192.0242517246816,\n",
       "  2009: 3660.7845332723664,\n",
       "  2010: 6556.761924609462,\n",
       "  2011: 5782.494152180253,\n",
       "  2012: 5097.203568694223,\n",
       "  2013: 9231.56530658159,\n",
       "  2014: 7439.155097968535,\n",
       "  2015: 9489.388930407993,\n",
       "  2016: 8683.177125269995,\n",
       "  2017: 9037.13386519986},\n",
       " 'Money': {1990: 7459.228272608072,\n",
       "  1991: 6704.271248994172,\n",
       "  1992: 7361.065061973785,\n",
       "  1993: 5557.657640121887,\n",
       "  1994: 1499.359395865243,\n",
       "  1995: 3066.8552469113442,\n",
       "  1996: 7292.491849712589,\n",
       "  1997: 1595.5135290203348,\n",
       "  1998: 2202.4020076755646,\n",
       "  1999: 7347.565185053421,\n",
       "  2000: 3499.1952923852123,\n",
       "  2001: 7827.756003703177,\n",
       "  2002: 2109.435930611332,\n",
       "  2003: 3066.8871444058964,\n",
       "  2004: 1881.5645310314355,\n",
       "  2005: 1572.8663482316385,\n",
       "  2006: 2221.168799702853,\n",
       "  2007: 5853.7103399804955,\n",
       "  2008: 4327.2728260208005,\n",
       "  2009: 1246.405647184764,\n",
       "  2010: 4876.761189928822,\n",
       "  2011: 3979.6624448638595,\n",
       "  2012: 7435.918591527585,\n",
       "  2013: 2042.0792260828257,\n",
       "  2014: 6639.923145185076,\n",
       "  2015: 1311.7183551937173,\n",
       "  2016: 8666.83651834023,\n",
       "  2017: 5847.971759963776},\n",
       " 'Price Level': {1990: 7169.148578299443,\n",
       "  1991: 3885.7106087044203,\n",
       "  1992: 6895.532220591799,\n",
       "  1993: 7729.725617185302,\n",
       "  1994: 7920.6565029210915,\n",
       "  1995: 7725.4987949317565,\n",
       "  1996: 2840.770138486616,\n",
       "  1997: 4813.739377539086,\n",
       "  1998: 3075.2567374884966,\n",
       "  1999: 3788.669776395248,\n",
       "  2000: 1130.4371474860964,\n",
       "  2001: 3334.501001170853,\n",
       "  2002: 7681.875181347843,\n",
       "  2003: 8648.376269514127,\n",
       "  2004: 1513.3099864583332,\n",
       "  2005: 4889.25440213755,\n",
       "  2006: 1403.2376872847851,\n",
       "  2007: 4000.3502628582164,\n",
       "  2008: 3964.086717277505,\n",
       "  2009: 6807.025683909027,\n",
       "  2010: 2798.866750978508,\n",
       "  2011: 8792.70917231966,\n",
       "  2012: 7756.992661666666,\n",
       "  2013: 4107.674835933307,\n",
       "  2014: 5206.677331079233,\n",
       "  2015: 7540.630799178631,\n",
       "  2016: 1353.6954795867173,\n",
       "  2017: 5876.110350533567}}"
      ]
     },
     "execution_count": 36,
     "metadata": {},
     "output_type": "execute_result"
    }
   ],
   "source": [
    "macro_dict"
   ]
  },
  {
   "cell_type": "code",
   "execution_count": 37,
   "metadata": {},
   "outputs": [
    {
     "data": {
      "text/html": [
       "<div>\n",
       "<style scoped>\n",
       "    .dataframe tbody tr th:only-of-type {\n",
       "        vertical-align: middle;\n",
       "    }\n",
       "\n",
       "    .dataframe tbody tr th {\n",
       "        vertical-align: top;\n",
       "    }\n",
       "\n",
       "    .dataframe thead th {\n",
       "        text-align: right;\n",
       "    }\n",
       "</style>\n",
       "<table border=\"1\" class=\"dataframe\">\n",
       "  <thead>\n",
       "    <tr style=\"text-align: right;\">\n",
       "      <th></th>\n",
       "      <th>GDP</th>\n",
       "      <th>Money</th>\n",
       "      <th>Price Level</th>\n",
       "    </tr>\n",
       "  </thead>\n",
       "  <tbody>\n",
       "    <tr>\n",
       "      <th>1990</th>\n",
       "      <td>9120.457947</td>\n",
       "      <td>7459.228273</td>\n",
       "      <td>7169.148578</td>\n",
       "    </tr>\n",
       "    <tr>\n",
       "      <th>1991</th>\n",
       "      <td>5761.678018</td>\n",
       "      <td>6704.271249</td>\n",
       "      <td>3885.710609</td>\n",
       "    </tr>\n",
       "    <tr>\n",
       "      <th>1992</th>\n",
       "      <td>3520.261400</td>\n",
       "      <td>7361.065062</td>\n",
       "      <td>6895.532221</td>\n",
       "    </tr>\n",
       "    <tr>\n",
       "      <th>1993</th>\n",
       "      <td>5937.228348</td>\n",
       "      <td>5557.657640</td>\n",
       "      <td>7729.725617</td>\n",
       "    </tr>\n",
       "    <tr>\n",
       "      <th>1994</th>\n",
       "      <td>8993.095454</td>\n",
       "      <td>1499.359396</td>\n",
       "      <td>7920.656503</td>\n",
       "    </tr>\n",
       "    <tr>\n",
       "      <th>1995</th>\n",
       "      <td>5552.708670</td>\n",
       "      <td>3066.855247</td>\n",
       "      <td>7725.498795</td>\n",
       "    </tr>\n",
       "    <tr>\n",
       "      <th>1996</th>\n",
       "      <td>4508.935992</td>\n",
       "      <td>7292.491850</td>\n",
       "      <td>2840.770138</td>\n",
       "    </tr>\n",
       "    <tr>\n",
       "      <th>1997</th>\n",
       "      <td>911.853291</td>\n",
       "      <td>1595.513529</td>\n",
       "      <td>4813.739378</td>\n",
       "    </tr>\n",
       "    <tr>\n",
       "      <th>1998</th>\n",
       "      <td>4336.973701</td>\n",
       "      <td>2202.402008</td>\n",
       "      <td>3075.256737</td>\n",
       "    </tr>\n",
       "    <tr>\n",
       "      <th>1999</th>\n",
       "      <td>9716.357264</td>\n",
       "      <td>7347.565185</td>\n",
       "      <td>3788.669776</td>\n",
       "    </tr>\n",
       "    <tr>\n",
       "      <th>2000</th>\n",
       "      <td>9953.197646</td>\n",
       "      <td>3499.195292</td>\n",
       "      <td>1130.437147</td>\n",
       "    </tr>\n",
       "    <tr>\n",
       "      <th>2001</th>\n",
       "      <td>9864.854656</td>\n",
       "      <td>7827.756004</td>\n",
       "      <td>3334.501001</td>\n",
       "    </tr>\n",
       "    <tr>\n",
       "      <th>2002</th>\n",
       "      <td>6139.764527</td>\n",
       "      <td>2109.435931</td>\n",
       "      <td>7681.875181</td>\n",
       "    </tr>\n",
       "    <tr>\n",
       "      <th>2003</th>\n",
       "      <td>6539.059148</td>\n",
       "      <td>3066.887144</td>\n",
       "      <td>8648.376270</td>\n",
       "    </tr>\n",
       "    <tr>\n",
       "      <th>2004</th>\n",
       "      <td>7943.996615</td>\n",
       "      <td>1881.564531</td>\n",
       "      <td>1513.309986</td>\n",
       "    </tr>\n",
       "    <tr>\n",
       "      <th>2005</th>\n",
       "      <td>3870.040323</td>\n",
       "      <td>1572.866348</td>\n",
       "      <td>4889.254402</td>\n",
       "    </tr>\n",
       "    <tr>\n",
       "      <th>2006</th>\n",
       "      <td>7969.497249</td>\n",
       "      <td>2221.168800</td>\n",
       "      <td>1403.237687</td>\n",
       "    </tr>\n",
       "    <tr>\n",
       "      <th>2007</th>\n",
       "      <td>5824.528286</td>\n",
       "      <td>5853.710340</td>\n",
       "      <td>4000.350263</td>\n",
       "    </tr>\n",
       "    <tr>\n",
       "      <th>2008</th>\n",
       "      <td>1192.024252</td>\n",
       "      <td>4327.272826</td>\n",
       "      <td>3964.086717</td>\n",
       "    </tr>\n",
       "    <tr>\n",
       "      <th>2009</th>\n",
       "      <td>3660.784533</td>\n",
       "      <td>1246.405647</td>\n",
       "      <td>6807.025684</td>\n",
       "    </tr>\n",
       "    <tr>\n",
       "      <th>2010</th>\n",
       "      <td>6556.761925</td>\n",
       "      <td>4876.761190</td>\n",
       "      <td>2798.866751</td>\n",
       "    </tr>\n",
       "    <tr>\n",
       "      <th>2011</th>\n",
       "      <td>5782.494152</td>\n",
       "      <td>3979.662445</td>\n",
       "      <td>8792.709172</td>\n",
       "    </tr>\n",
       "    <tr>\n",
       "      <th>2012</th>\n",
       "      <td>5097.203569</td>\n",
       "      <td>7435.918592</td>\n",
       "      <td>7756.992662</td>\n",
       "    </tr>\n",
       "    <tr>\n",
       "      <th>2013</th>\n",
       "      <td>9231.565307</td>\n",
       "      <td>2042.079226</td>\n",
       "      <td>4107.674836</td>\n",
       "    </tr>\n",
       "    <tr>\n",
       "      <th>2014</th>\n",
       "      <td>7439.155098</td>\n",
       "      <td>6639.923145</td>\n",
       "      <td>5206.677331</td>\n",
       "    </tr>\n",
       "    <tr>\n",
       "      <th>2015</th>\n",
       "      <td>9489.388930</td>\n",
       "      <td>1311.718355</td>\n",
       "      <td>7540.630799</td>\n",
       "    </tr>\n",
       "    <tr>\n",
       "      <th>2016</th>\n",
       "      <td>8683.177125</td>\n",
       "      <td>8666.836518</td>\n",
       "      <td>1353.695480</td>\n",
       "    </tr>\n",
       "    <tr>\n",
       "      <th>2017</th>\n",
       "      <td>9037.133865</td>\n",
       "      <td>5847.971760</td>\n",
       "      <td>5876.110351</td>\n",
       "    </tr>\n",
       "  </tbody>\n",
       "</table>\n",
       "</div>"
      ],
      "text/plain": [
       "              GDP        Money  Price Level\n",
       "1990  9120.457947  7459.228273  7169.148578\n",
       "1991  5761.678018  6704.271249  3885.710609\n",
       "1992  3520.261400  7361.065062  6895.532221\n",
       "1993  5937.228348  5557.657640  7729.725617\n",
       "1994  8993.095454  1499.359396  7920.656503\n",
       "1995  5552.708670  3066.855247  7725.498795\n",
       "1996  4508.935992  7292.491850  2840.770138\n",
       "1997   911.853291  1595.513529  4813.739378\n",
       "1998  4336.973701  2202.402008  3075.256737\n",
       "1999  9716.357264  7347.565185  3788.669776\n",
       "2000  9953.197646  3499.195292  1130.437147\n",
       "2001  9864.854656  7827.756004  3334.501001\n",
       "2002  6139.764527  2109.435931  7681.875181\n",
       "2003  6539.059148  3066.887144  8648.376270\n",
       "2004  7943.996615  1881.564531  1513.309986\n",
       "2005  3870.040323  1572.866348  4889.254402\n",
       "2006  7969.497249  2221.168800  1403.237687\n",
       "2007  5824.528286  5853.710340  4000.350263\n",
       "2008  1192.024252  4327.272826  3964.086717\n",
       "2009  3660.784533  1246.405647  6807.025684\n",
       "2010  6556.761925  4876.761190  2798.866751\n",
       "2011  5782.494152  3979.662445  8792.709172\n",
       "2012  5097.203569  7435.918592  7756.992662\n",
       "2013  9231.565307  2042.079226  4107.674836\n",
       "2014  7439.155098  6639.923145  5206.677331\n",
       "2015  9489.388930  1311.718355  7540.630799\n",
       "2016  8683.177125  8666.836518  1353.695480\n",
       "2017  9037.133865  5847.971760  5876.110351"
      ]
     },
     "execution_count": 37,
     "metadata": {},
     "output_type": "execute_result"
    }
   ],
   "source": [
    "macro_df = pd.DataFrame(macro_dict)\n",
    "macro_df"
   ]
  },
  {
   "cell_type": "code",
   "execution_count": 41,
   "metadata": {},
   "outputs": [
    {
     "data": {
      "text/html": [
       "<div>\n",
       "<style scoped>\n",
       "    .dataframe tbody tr th:only-of-type {\n",
       "        vertical-align: middle;\n",
       "    }\n",
       "\n",
       "    .dataframe tbody tr th {\n",
       "        vertical-align: top;\n",
       "    }\n",
       "\n",
       "    .dataframe thead th {\n",
       "        text-align: right;\n",
       "    }\n",
       "</style>\n",
       "<table border=\"1\" class=\"dataframe\">\n",
       "  <thead>\n",
       "    <tr style=\"text-align: right;\">\n",
       "      <th></th>\n",
       "      <th>GDP</th>\n",
       "      <th>Money</th>\n",
       "      <th>Price Level</th>\n",
       "      <th>Velocity</th>\n",
       "      <th>Real GDP</th>\n",
       "    </tr>\n",
       "  </thead>\n",
       "  <tbody>\n",
       "    <tr>\n",
       "      <th>1990</th>\n",
       "      <td>9120.457947</td>\n",
       "      <td>7459.228273</td>\n",
       "      <td>7169.148578</td>\n",
       "      <td>1.222708</td>\n",
       "      <td>1.272181</td>\n",
       "    </tr>\n",
       "    <tr>\n",
       "      <th>1991</th>\n",
       "      <td>5761.678018</td>\n",
       "      <td>6704.271249</td>\n",
       "      <td>3885.710609</td>\n",
       "      <td>0.859404</td>\n",
       "      <td>1.482786</td>\n",
       "    </tr>\n",
       "    <tr>\n",
       "      <th>1992</th>\n",
       "      <td>3520.261400</td>\n",
       "      <td>7361.065062</td>\n",
       "      <td>6895.532221</td>\n",
       "      <td>0.478227</td>\n",
       "      <td>0.510513</td>\n",
       "    </tr>\n",
       "    <tr>\n",
       "      <th>1993</th>\n",
       "      <td>5937.228348</td>\n",
       "      <td>5557.657640</td>\n",
       "      <td>7729.725617</td>\n",
       "      <td>1.068297</td>\n",
       "      <td>0.768103</td>\n",
       "    </tr>\n",
       "    <tr>\n",
       "      <th>1994</th>\n",
       "      <td>8993.095454</td>\n",
       "      <td>1499.359396</td>\n",
       "      <td>7920.656503</td>\n",
       "      <td>5.997959</td>\n",
       "      <td>1.135398</td>\n",
       "    </tr>\n",
       "    <tr>\n",
       "      <th>1995</th>\n",
       "      <td>5552.708670</td>\n",
       "      <td>3066.855247</td>\n",
       "      <td>7725.498795</td>\n",
       "      <td>1.810555</td>\n",
       "      <td>0.718751</td>\n",
       "    </tr>\n",
       "    <tr>\n",
       "      <th>1996</th>\n",
       "      <td>4508.935992</td>\n",
       "      <td>7292.491850</td>\n",
       "      <td>2840.770138</td>\n",
       "      <td>0.618298</td>\n",
       "      <td>1.587223</td>\n",
       "    </tr>\n",
       "    <tr>\n",
       "      <th>1997</th>\n",
       "      <td>911.853291</td>\n",
       "      <td>1595.513529</td>\n",
       "      <td>4813.739378</td>\n",
       "      <td>0.571511</td>\n",
       "      <td>0.189427</td>\n",
       "    </tr>\n",
       "    <tr>\n",
       "      <th>1998</th>\n",
       "      <td>4336.973701</td>\n",
       "      <td>2202.402008</td>\n",
       "      <td>3075.256737</td>\n",
       "      <td>1.969202</td>\n",
       "      <td>1.410280</td>\n",
       "    </tr>\n",
       "    <tr>\n",
       "      <th>1999</th>\n",
       "      <td>9716.357264</td>\n",
       "      <td>7347.565185</td>\n",
       "      <td>3788.669776</td>\n",
       "      <td>1.322391</td>\n",
       "      <td>2.564583</td>\n",
       "    </tr>\n",
       "    <tr>\n",
       "      <th>2000</th>\n",
       "      <td>9953.197646</td>\n",
       "      <td>3499.195292</td>\n",
       "      <td>1130.437147</td>\n",
       "      <td>2.844425</td>\n",
       "      <td>8.804733</td>\n",
       "    </tr>\n",
       "    <tr>\n",
       "      <th>2001</th>\n",
       "      <td>9864.854656</td>\n",
       "      <td>7827.756004</td>\n",
       "      <td>3334.501001</td>\n",
       "      <td>1.260240</td>\n",
       "      <td>2.958420</td>\n",
       "    </tr>\n",
       "    <tr>\n",
       "      <th>2002</th>\n",
       "      <td>6139.764527</td>\n",
       "      <td>2109.435931</td>\n",
       "      <td>7681.875181</td>\n",
       "      <td>2.910619</td>\n",
       "      <td>0.799253</td>\n",
       "    </tr>\n",
       "    <tr>\n",
       "      <th>2003</th>\n",
       "      <td>6539.059148</td>\n",
       "      <td>3066.887144</td>\n",
       "      <td>8648.376270</td>\n",
       "      <td>2.132149</td>\n",
       "      <td>0.756103</td>\n",
       "    </tr>\n",
       "    <tr>\n",
       "      <th>2004</th>\n",
       "      <td>7943.996615</td>\n",
       "      <td>1881.564531</td>\n",
       "      <td>1513.309986</td>\n",
       "      <td>4.222017</td>\n",
       "      <td>5.249418</td>\n",
       "    </tr>\n",
       "    <tr>\n",
       "      <th>2005</th>\n",
       "      <td>3870.040323</td>\n",
       "      <td>1572.866348</td>\n",
       "      <td>4889.254402</td>\n",
       "      <td>2.460502</td>\n",
       "      <td>0.791540</td>\n",
       "    </tr>\n",
       "    <tr>\n",
       "      <th>2006</th>\n",
       "      <td>7969.497249</td>\n",
       "      <td>2221.168800</td>\n",
       "      <td>1403.237687</td>\n",
       "      <td>3.587975</td>\n",
       "      <td>5.679364</td>\n",
       "    </tr>\n",
       "    <tr>\n",
       "      <th>2007</th>\n",
       "      <td>5824.528286</td>\n",
       "      <td>5853.710340</td>\n",
       "      <td>4000.350263</td>\n",
       "      <td>0.995015</td>\n",
       "      <td>1.456005</td>\n",
       "    </tr>\n",
       "    <tr>\n",
       "      <th>2008</th>\n",
       "      <td>1192.024252</td>\n",
       "      <td>4327.272826</td>\n",
       "      <td>3964.086717</td>\n",
       "      <td>0.275468</td>\n",
       "      <td>0.300706</td>\n",
       "    </tr>\n",
       "    <tr>\n",
       "      <th>2009</th>\n",
       "      <td>3660.784533</td>\n",
       "      <td>1246.405647</td>\n",
       "      <td>6807.025684</td>\n",
       "      <td>2.937073</td>\n",
       "      <td>0.537795</td>\n",
       "    </tr>\n",
       "    <tr>\n",
       "      <th>2010</th>\n",
       "      <td>6556.761925</td>\n",
       "      <td>4876.761190</td>\n",
       "      <td>2798.866751</td>\n",
       "      <td>1.344491</td>\n",
       "      <td>2.342649</td>\n",
       "    </tr>\n",
       "    <tr>\n",
       "      <th>2011</th>\n",
       "      <td>5782.494152</td>\n",
       "      <td>3979.662445</td>\n",
       "      <td>8792.709172</td>\n",
       "      <td>1.453011</td>\n",
       "      <td>0.657646</td>\n",
       "    </tr>\n",
       "    <tr>\n",
       "      <th>2012</th>\n",
       "      <td>5097.203569</td>\n",
       "      <td>7435.918592</td>\n",
       "      <td>7756.992662</td>\n",
       "      <td>0.685484</td>\n",
       "      <td>0.657111</td>\n",
       "    </tr>\n",
       "    <tr>\n",
       "      <th>2013</th>\n",
       "      <td>9231.565307</td>\n",
       "      <td>2042.079226</td>\n",
       "      <td>4107.674836</td>\n",
       "      <td>4.520670</td>\n",
       "      <td>2.247394</td>\n",
       "    </tr>\n",
       "    <tr>\n",
       "      <th>2014</th>\n",
       "      <td>7439.155098</td>\n",
       "      <td>6639.923145</td>\n",
       "      <td>5206.677331</td>\n",
       "      <td>1.120368</td>\n",
       "      <td>1.428772</td>\n",
       "    </tr>\n",
       "    <tr>\n",
       "      <th>2015</th>\n",
       "      <td>9489.388930</td>\n",
       "      <td>1311.718355</td>\n",
       "      <td>7540.630799</td>\n",
       "      <td>7.234319</td>\n",
       "      <td>1.258434</td>\n",
       "    </tr>\n",
       "    <tr>\n",
       "      <th>2016</th>\n",
       "      <td>8683.177125</td>\n",
       "      <td>8666.836518</td>\n",
       "      <td>1353.695480</td>\n",
       "      <td>1.001885</td>\n",
       "      <td>6.414424</td>\n",
       "    </tr>\n",
       "    <tr>\n",
       "      <th>2017</th>\n",
       "      <td>9037.133865</td>\n",
       "      <td>5847.971760</td>\n",
       "      <td>5876.110351</td>\n",
       "      <td>1.545345</td>\n",
       "      <td>1.537945</td>\n",
       "    </tr>\n",
       "  </tbody>\n",
       "</table>\n",
       "</div>"
      ],
      "text/plain": [
       "              GDP        Money  Price Level  Velocity  Real GDP\n",
       "1990  9120.457947  7459.228273  7169.148578  1.222708  1.272181\n",
       "1991  5761.678018  6704.271249  3885.710609  0.859404  1.482786\n",
       "1992  3520.261400  7361.065062  6895.532221  0.478227  0.510513\n",
       "1993  5937.228348  5557.657640  7729.725617  1.068297  0.768103\n",
       "1994  8993.095454  1499.359396  7920.656503  5.997959  1.135398\n",
       "1995  5552.708670  3066.855247  7725.498795  1.810555  0.718751\n",
       "1996  4508.935992  7292.491850  2840.770138  0.618298  1.587223\n",
       "1997   911.853291  1595.513529  4813.739378  0.571511  0.189427\n",
       "1998  4336.973701  2202.402008  3075.256737  1.969202  1.410280\n",
       "1999  9716.357264  7347.565185  3788.669776  1.322391  2.564583\n",
       "2000  9953.197646  3499.195292  1130.437147  2.844425  8.804733\n",
       "2001  9864.854656  7827.756004  3334.501001  1.260240  2.958420\n",
       "2002  6139.764527  2109.435931  7681.875181  2.910619  0.799253\n",
       "2003  6539.059148  3066.887144  8648.376270  2.132149  0.756103\n",
       "2004  7943.996615  1881.564531  1513.309986  4.222017  5.249418\n",
       "2005  3870.040323  1572.866348  4889.254402  2.460502  0.791540\n",
       "2006  7969.497249  2221.168800  1403.237687  3.587975  5.679364\n",
       "2007  5824.528286  5853.710340  4000.350263  0.995015  1.456005\n",
       "2008  1192.024252  4327.272826  3964.086717  0.275468  0.300706\n",
       "2009  3660.784533  1246.405647  6807.025684  2.937073  0.537795\n",
       "2010  6556.761925  4876.761190  2798.866751  1.344491  2.342649\n",
       "2011  5782.494152  3979.662445  8792.709172  1.453011  0.657646\n",
       "2012  5097.203569  7435.918592  7756.992662  0.685484  0.657111\n",
       "2013  9231.565307  2042.079226  4107.674836  4.520670  2.247394\n",
       "2014  7439.155098  6639.923145  5206.677331  1.120368  1.428772\n",
       "2015  9489.388930  1311.718355  7540.630799  7.234319  1.258434\n",
       "2016  8683.177125  8666.836518  1353.695480  1.001885  6.414424\n",
       "2017  9037.133865  5847.971760  5876.110351  1.545345  1.537945"
      ]
     },
     "execution_count": 41,
     "metadata": {},
     "output_type": "execute_result"
    }
   ],
   "source": [
    "#create new column using other columns in the dataframe\n",
    "macro_df[\"Velocity\"] = macro_df[\"GDP\"].div(macro_df[\"Money\"])\n",
    "macro_df[\"Real GDP\"] = macro_df[\"GDP\"].div(macro_df[\"Price Level\"])\n",
    "macro_df"
   ]
  },
  {
   "cell_type": "code",
   "execution_count": 42,
   "metadata": {},
   "outputs": [
    {
     "data": {
      "text/plain": [
       "GDP            5552.708670\n",
       "Money          3066.855247\n",
       "Price Level    7725.498795\n",
       "Velocity          1.810555\n",
       "Real GDP          0.718751\n",
       "Name: 1995, dtype: float64"
      ]
     },
     "execution_count": 42,
     "metadata": {},
     "output_type": "execute_result"
    }
   ],
   "source": [
    "macro_df.loc[1995]"
   ]
  },
  {
   "cell_type": "code",
   "execution_count": 43,
   "metadata": {},
   "outputs": [
    {
     "data": {
      "text/html": [
       "<div>\n",
       "<style scoped>\n",
       "    .dataframe tbody tr th:only-of-type {\n",
       "        vertical-align: middle;\n",
       "    }\n",
       "\n",
       "    .dataframe tbody tr th {\n",
       "        vertical-align: top;\n",
       "    }\n",
       "\n",
       "    .dataframe thead th {\n",
       "        text-align: right;\n",
       "    }\n",
       "</style>\n",
       "<table border=\"1\" class=\"dataframe\">\n",
       "  <thead>\n",
       "    <tr style=\"text-align: right;\">\n",
       "      <th></th>\n",
       "      <th>GDP</th>\n",
       "      <th>Money</th>\n",
       "      <th>Price Level</th>\n",
       "      <th>Velocity</th>\n",
       "      <th>Real GDP</th>\n",
       "    </tr>\n",
       "  </thead>\n",
       "  <tbody>\n",
       "    <tr>\n",
       "      <th>1992</th>\n",
       "      <td>3520.261400</td>\n",
       "      <td>7361.065062</td>\n",
       "      <td>6895.532221</td>\n",
       "      <td>0.478227</td>\n",
       "      <td>0.510513</td>\n",
       "    </tr>\n",
       "    <tr>\n",
       "      <th>1993</th>\n",
       "      <td>5937.228348</td>\n",
       "      <td>5557.657640</td>\n",
       "      <td>7729.725617</td>\n",
       "      <td>1.068297</td>\n",
       "      <td>0.768103</td>\n",
       "    </tr>\n",
       "    <tr>\n",
       "      <th>1994</th>\n",
       "      <td>8993.095454</td>\n",
       "      <td>1499.359396</td>\n",
       "      <td>7920.656503</td>\n",
       "      <td>5.997959</td>\n",
       "      <td>1.135398</td>\n",
       "    </tr>\n",
       "    <tr>\n",
       "      <th>1995</th>\n",
       "      <td>5552.708670</td>\n",
       "      <td>3066.855247</td>\n",
       "      <td>7725.498795</td>\n",
       "      <td>1.810555</td>\n",
       "      <td>0.718751</td>\n",
       "    </tr>\n",
       "    <tr>\n",
       "      <th>1996</th>\n",
       "      <td>4508.935992</td>\n",
       "      <td>7292.491850</td>\n",
       "      <td>2840.770138</td>\n",
       "      <td>0.618298</td>\n",
       "      <td>1.587223</td>\n",
       "    </tr>\n",
       "    <tr>\n",
       "      <th>1997</th>\n",
       "      <td>911.853291</td>\n",
       "      <td>1595.513529</td>\n",
       "      <td>4813.739378</td>\n",
       "      <td>0.571511</td>\n",
       "      <td>0.189427</td>\n",
       "    </tr>\n",
       "    <tr>\n",
       "      <th>1998</th>\n",
       "      <td>4336.973701</td>\n",
       "      <td>2202.402008</td>\n",
       "      <td>3075.256737</td>\n",
       "      <td>1.969202</td>\n",
       "      <td>1.410280</td>\n",
       "    </tr>\n",
       "    <tr>\n",
       "      <th>1999</th>\n",
       "      <td>9716.357264</td>\n",
       "      <td>7347.565185</td>\n",
       "      <td>3788.669776</td>\n",
       "      <td>1.322391</td>\n",
       "      <td>2.564583</td>\n",
       "    </tr>\n",
       "    <tr>\n",
       "      <th>2000</th>\n",
       "      <td>9953.197646</td>\n",
       "      <td>3499.195292</td>\n",
       "      <td>1130.437147</td>\n",
       "      <td>2.844425</td>\n",
       "      <td>8.804733</td>\n",
       "    </tr>\n",
       "    <tr>\n",
       "      <th>2001</th>\n",
       "      <td>9864.854656</td>\n",
       "      <td>7827.756004</td>\n",
       "      <td>3334.501001</td>\n",
       "      <td>1.260240</td>\n",
       "      <td>2.958420</td>\n",
       "    </tr>\n",
       "    <tr>\n",
       "      <th>2002</th>\n",
       "      <td>6139.764527</td>\n",
       "      <td>2109.435931</td>\n",
       "      <td>7681.875181</td>\n",
       "      <td>2.910619</td>\n",
       "      <td>0.799253</td>\n",
       "    </tr>\n",
       "  </tbody>\n",
       "</table>\n",
       "</div>"
      ],
      "text/plain": [
       "              GDP        Money  Price Level  Velocity  Real GDP\n",
       "1992  3520.261400  7361.065062  6895.532221  0.478227  0.510513\n",
       "1993  5937.228348  5557.657640  7729.725617  1.068297  0.768103\n",
       "1994  8993.095454  1499.359396  7920.656503  5.997959  1.135398\n",
       "1995  5552.708670  3066.855247  7725.498795  1.810555  0.718751\n",
       "1996  4508.935992  7292.491850  2840.770138  0.618298  1.587223\n",
       "1997   911.853291  1595.513529  4813.739378  0.571511  0.189427\n",
       "1998  4336.973701  2202.402008  3075.256737  1.969202  1.410280\n",
       "1999  9716.357264  7347.565185  3788.669776  1.322391  2.564583\n",
       "2000  9953.197646  3499.195292  1130.437147  2.844425  8.804733\n",
       "2001  9864.854656  7827.756004  3334.501001  1.260240  2.958420\n",
       "2002  6139.764527  2109.435931  7681.875181  2.910619  0.799253"
      ]
     },
     "execution_count": 43,
     "metadata": {},
     "output_type": "execute_result"
    }
   ],
   "source": [
    "macro_df.loc[1992:2002]"
   ]
  },
  {
   "cell_type": "code",
   "execution_count": 44,
   "metadata": {},
   "outputs": [
    {
     "data": {
      "text/plain": [
       "3870.040322864401"
      ]
     },
     "execution_count": 44,
     "metadata": {},
     "output_type": "execute_result"
    }
   ],
   "source": [
    "macro_df.loc[2005][\"GDP\"]"
   ]
  },
  {
   "cell_type": "code",
   "execution_count": 45,
   "metadata": {},
   "outputs": [
    {
     "data": {
      "text/html": [
       "<div>\n",
       "<style scoped>\n",
       "    .dataframe tbody tr th:only-of-type {\n",
       "        vertical-align: middle;\n",
       "    }\n",
       "\n",
       "    .dataframe tbody tr th {\n",
       "        vertical-align: top;\n",
       "    }\n",
       "\n",
       "    .dataframe thead th {\n",
       "        text-align: right;\n",
       "    }\n",
       "</style>\n",
       "<table border=\"1\" class=\"dataframe\">\n",
       "  <thead>\n",
       "    <tr style=\"text-align: right;\">\n",
       "      <th></th>\n",
       "      <th>Velocity</th>\n",
       "      <th>Money</th>\n",
       "    </tr>\n",
       "  </thead>\n",
       "  <tbody>\n",
       "    <tr>\n",
       "      <th>1992</th>\n",
       "      <td>0.478227</td>\n",
       "      <td>7361.065062</td>\n",
       "    </tr>\n",
       "    <tr>\n",
       "      <th>1993</th>\n",
       "      <td>1.068297</td>\n",
       "      <td>5557.657640</td>\n",
       "    </tr>\n",
       "    <tr>\n",
       "      <th>1994</th>\n",
       "      <td>5.997959</td>\n",
       "      <td>1499.359396</td>\n",
       "    </tr>\n",
       "    <tr>\n",
       "      <th>1995</th>\n",
       "      <td>1.810555</td>\n",
       "      <td>3066.855247</td>\n",
       "    </tr>\n",
       "    <tr>\n",
       "      <th>1996</th>\n",
       "      <td>0.618298</td>\n",
       "      <td>7292.491850</td>\n",
       "    </tr>\n",
       "    <tr>\n",
       "      <th>1997</th>\n",
       "      <td>0.571511</td>\n",
       "      <td>1595.513529</td>\n",
       "    </tr>\n",
       "    <tr>\n",
       "      <th>1998</th>\n",
       "      <td>1.969202</td>\n",
       "      <td>2202.402008</td>\n",
       "    </tr>\n",
       "    <tr>\n",
       "      <th>1999</th>\n",
       "      <td>1.322391</td>\n",
       "      <td>7347.565185</td>\n",
       "    </tr>\n",
       "    <tr>\n",
       "      <th>2000</th>\n",
       "      <td>2.844425</td>\n",
       "      <td>3499.195292</td>\n",
       "    </tr>\n",
       "    <tr>\n",
       "      <th>2001</th>\n",
       "      <td>1.260240</td>\n",
       "      <td>7827.756004</td>\n",
       "    </tr>\n",
       "    <tr>\n",
       "      <th>2002</th>\n",
       "      <td>2.910619</td>\n",
       "      <td>2109.435931</td>\n",
       "    </tr>\n",
       "  </tbody>\n",
       "</table>\n",
       "</div>"
      ],
      "text/plain": [
       "      Velocity        Money\n",
       "1992  0.478227  7361.065062\n",
       "1993  1.068297  5557.657640\n",
       "1994  5.997959  1499.359396\n",
       "1995  1.810555  3066.855247\n",
       "1996  0.618298  7292.491850\n",
       "1997  0.571511  1595.513529\n",
       "1998  1.969202  2202.402008\n",
       "1999  1.322391  7347.565185\n",
       "2000  2.844425  3499.195292\n",
       "2001  1.260240  7827.756004\n",
       "2002  2.910619  2109.435931"
      ]
     },
     "execution_count": 45,
     "metadata": {},
     "output_type": "execute_result"
    }
   ],
   "source": [
    "macro_df.loc[1992:2002, [\"Velocity\",\"Money\"]]"
   ]
  },
  {
   "cell_type": "code",
   "execution_count": 46,
   "metadata": {},
   "outputs": [
    {
     "data": {
      "text/html": [
       "<div>\n",
       "<style scoped>\n",
       "    .dataframe tbody tr th:only-of-type {\n",
       "        vertical-align: middle;\n",
       "    }\n",
       "\n",
       "    .dataframe tbody tr th {\n",
       "        vertical-align: top;\n",
       "    }\n",
       "\n",
       "    .dataframe thead th {\n",
       "        text-align: right;\n",
       "    }\n",
       "</style>\n",
       "<table border=\"1\" class=\"dataframe\">\n",
       "  <thead>\n",
       "    <tr style=\"text-align: right;\">\n",
       "      <th></th>\n",
       "      <th>Real GDP</th>\n",
       "      <th>GDP</th>\n",
       "    </tr>\n",
       "  </thead>\n",
       "  <tbody>\n",
       "    <tr>\n",
       "      <th>1990</th>\n",
       "      <td>1.272181</td>\n",
       "      <td>9120.457947</td>\n",
       "    </tr>\n",
       "    <tr>\n",
       "      <th>1991</th>\n",
       "      <td>1.482786</td>\n",
       "      <td>5761.678018</td>\n",
       "    </tr>\n",
       "    <tr>\n",
       "      <th>1992</th>\n",
       "      <td>0.510513</td>\n",
       "      <td>3520.261400</td>\n",
       "    </tr>\n",
       "    <tr>\n",
       "      <th>1993</th>\n",
       "      <td>0.768103</td>\n",
       "      <td>5937.228348</td>\n",
       "    </tr>\n",
       "    <tr>\n",
       "      <th>1994</th>\n",
       "      <td>1.135398</td>\n",
       "      <td>8993.095454</td>\n",
       "    </tr>\n",
       "    <tr>\n",
       "      <th>1995</th>\n",
       "      <td>0.718751</td>\n",
       "      <td>5552.708670</td>\n",
       "    </tr>\n",
       "    <tr>\n",
       "      <th>1996</th>\n",
       "      <td>1.587223</td>\n",
       "      <td>4508.935992</td>\n",
       "    </tr>\n",
       "    <tr>\n",
       "      <th>1997</th>\n",
       "      <td>0.189427</td>\n",
       "      <td>911.853291</td>\n",
       "    </tr>\n",
       "    <tr>\n",
       "      <th>1998</th>\n",
       "      <td>1.410280</td>\n",
       "      <td>4336.973701</td>\n",
       "    </tr>\n",
       "    <tr>\n",
       "      <th>1999</th>\n",
       "      <td>2.564583</td>\n",
       "      <td>9716.357264</td>\n",
       "    </tr>\n",
       "    <tr>\n",
       "      <th>2000</th>\n",
       "      <td>8.804733</td>\n",
       "      <td>9953.197646</td>\n",
       "    </tr>\n",
       "    <tr>\n",
       "      <th>2001</th>\n",
       "      <td>2.958420</td>\n",
       "      <td>9864.854656</td>\n",
       "    </tr>\n",
       "    <tr>\n",
       "      <th>2002</th>\n",
       "      <td>0.799253</td>\n",
       "      <td>6139.764527</td>\n",
       "    </tr>\n",
       "    <tr>\n",
       "      <th>2003</th>\n",
       "      <td>0.756103</td>\n",
       "      <td>6539.059148</td>\n",
       "    </tr>\n",
       "    <tr>\n",
       "      <th>2004</th>\n",
       "      <td>5.249418</td>\n",
       "      <td>7943.996615</td>\n",
       "    </tr>\n",
       "    <tr>\n",
       "      <th>2005</th>\n",
       "      <td>0.791540</td>\n",
       "      <td>3870.040323</td>\n",
       "    </tr>\n",
       "    <tr>\n",
       "      <th>2006</th>\n",
       "      <td>5.679364</td>\n",
       "      <td>7969.497249</td>\n",
       "    </tr>\n",
       "    <tr>\n",
       "      <th>2007</th>\n",
       "      <td>1.456005</td>\n",
       "      <td>5824.528286</td>\n",
       "    </tr>\n",
       "    <tr>\n",
       "      <th>2008</th>\n",
       "      <td>0.300706</td>\n",
       "      <td>1192.024252</td>\n",
       "    </tr>\n",
       "    <tr>\n",
       "      <th>2009</th>\n",
       "      <td>0.537795</td>\n",
       "      <td>3660.784533</td>\n",
       "    </tr>\n",
       "    <tr>\n",
       "      <th>2010</th>\n",
       "      <td>2.342649</td>\n",
       "      <td>6556.761925</td>\n",
       "    </tr>\n",
       "    <tr>\n",
       "      <th>2011</th>\n",
       "      <td>0.657646</td>\n",
       "      <td>5782.494152</td>\n",
       "    </tr>\n",
       "    <tr>\n",
       "      <th>2012</th>\n",
       "      <td>0.657111</td>\n",
       "      <td>5097.203569</td>\n",
       "    </tr>\n",
       "    <tr>\n",
       "      <th>2013</th>\n",
       "      <td>2.247394</td>\n",
       "      <td>9231.565307</td>\n",
       "    </tr>\n",
       "    <tr>\n",
       "      <th>2014</th>\n",
       "      <td>1.428772</td>\n",
       "      <td>7439.155098</td>\n",
       "    </tr>\n",
       "    <tr>\n",
       "      <th>2015</th>\n",
       "      <td>1.258434</td>\n",
       "      <td>9489.388930</td>\n",
       "    </tr>\n",
       "    <tr>\n",
       "      <th>2016</th>\n",
       "      <td>6.414424</td>\n",
       "      <td>8683.177125</td>\n",
       "    </tr>\n",
       "    <tr>\n",
       "      <th>2017</th>\n",
       "      <td>1.537945</td>\n",
       "      <td>9037.133865</td>\n",
       "    </tr>\n",
       "  </tbody>\n",
       "</table>\n",
       "</div>"
      ],
      "text/plain": [
       "      Real GDP          GDP\n",
       "1990  1.272181  9120.457947\n",
       "1991  1.482786  5761.678018\n",
       "1992  0.510513  3520.261400\n",
       "1993  0.768103  5937.228348\n",
       "1994  1.135398  8993.095454\n",
       "1995  0.718751  5552.708670\n",
       "1996  1.587223  4508.935992\n",
       "1997  0.189427   911.853291\n",
       "1998  1.410280  4336.973701\n",
       "1999  2.564583  9716.357264\n",
       "2000  8.804733  9953.197646\n",
       "2001  2.958420  9864.854656\n",
       "2002  0.799253  6139.764527\n",
       "2003  0.756103  6539.059148\n",
       "2004  5.249418  7943.996615\n",
       "2005  0.791540  3870.040323\n",
       "2006  5.679364  7969.497249\n",
       "2007  1.456005  5824.528286\n",
       "2008  0.300706  1192.024252\n",
       "2009  0.537795  3660.784533\n",
       "2010  2.342649  6556.761925\n",
       "2011  0.657646  5782.494152\n",
       "2012  0.657111  5097.203569\n",
       "2013  2.247394  9231.565307\n",
       "2014  1.428772  7439.155098\n",
       "2015  1.258434  9489.388930\n",
       "2016  6.414424  8683.177125\n",
       "2017  1.537945  9037.133865"
      ]
     },
     "execution_count": 46,
     "metadata": {},
     "output_type": "execute_result"
    }
   ],
   "source": [
    "macro_df[[\"Real GDP\", \"GDP\"]]"
   ]
  },
  {
   "cell_type": "code",
   "execution_count": 52,
   "metadata": {},
   "outputs": [
    {
     "data": {
      "image/png": "[encoded data removed]",
      "text/plain": [
       "<Figure size 432x288 with 1 Axes>"
      ]
     },
     "metadata": {
      "needs_background": "light"
     },
     "output_type": "display_data"
    }
   ],
   "source": [
    "import matplotlib.pyplot as plt\n",
    "%matplotlib inline\n",
    "macro_df.plot.line();"
   ]
  },
  {
   "cell_type": "code",
   "execution_count": 63,
   "metadata": {},
   "outputs": [
    {
     "data": {
      "image/png": "[encoded data removed]",
      "text/plain": [
       "<Figure size 1440x720 with 1 Axes>"
      ]
     },
     "metadata": {
      "needs_background": "light"
     },
     "output_type": "display_data"
    },
    {
     "data": {
      "image/png": "[encoded data removed]",
      "text/plain": [
       "<Figure size 1440x720 with 1 Axes>"
      ]
     },
     "metadata": {
      "needs_background": "light"
     },
     "output_type": "display_data"
    },
    {
     "data": {
      "image/png": "[encoded data removed]",
      "text/plain": [
       "<Figure size 1440x720 with 1 Axes>"
      ]
     },
     "metadata": {
      "needs_background": "light"
     },
     "output_type": "display_data"
    },
    {
     "data": {
      "image/png": "[encoded data removed]",
      "text/plain": [
       "<Figure size 1440x720 with 1 Axes>"
      ]
     },
     "metadata": {
      "needs_background": "light"
     },
     "output_type": "display_data"
    },
    {
     "data": {
      "image/png": "[encoded data removed]",
      "text/plain": [
       "<Figure size 1440x720 with 1 Axes>"
      ]
     },
     "metadata": {
      "needs_background": "light"
     },
     "output_type": "display_data"
    }
   ],
   "source": [
    "for key in macro_df:\n",
    "    # fig, ax = plt,subplots() allows you to adjust different features of the plot box\n",
    "    fig, ax = plt.subplots(figsize = (20,10))\n",
    "    macro_df[key].plot.line(ax = ax)\n",
    "    macro_df[key].plot.line(ls=\"\", marker=\"*\", ax = ax)\n",
    "    plt.title(key, fontsize = 25,)\n",
    "    plt.show()\n",
    "    plt.close()"
   ]
  },
  {
   "cell_type": "code",
   "execution_count": null,
   "metadata": {},
   "outputs": [],
   "source": []
  },
  {
   "cell_type": "code",
   "execution_count": null,
   "metadata": {},
   "outputs": [],
   "source": []
  }
 ],
 "metadata": {
  "kernelspec": {
   "display_name": "Python 3",
   "language": "python",
   "name": "python3"
  },
  "language_info": {
   "codemirror_mode": {
    "name": "ipython",
    "version": 3
   },
   "file_extension": ".py",
   "mimetype": "text/x-python",
   "name": "python",
   "nbconvert_exporter": "python",
   "pygments_lexer": "ipython3",
   "version": "3.8.3"
  }
 },
 "nbformat": 4,
 "nbformat_minor": 4
}
