{
 "cells": [
  {
   "cell_type": "markdown",
   "metadata": {},
   "source": [
    "# Poject 1 - Chapter 1 - Essestials"
   ]
  },
  {
   "cell_type": "code",
   "execution_count": 1,
   "metadata": {
    "scrolled": true
   },
   "outputs": [],
   "source": [
    "print(\"Hello World!\")"
   ]
  },
  {
   "cell_type": "markdown",
   "metadata": {},
   "source": [
    "We just used the print function. Print will print what ever object is passed to it. We passed the string, \"Hello World!\", and it printed after the code.\n",
    "\n",
    "# Introduction to Jupyter\n",
    "\n",
    "This is the first program I have written in Econ 411. Next we will work with string variables. "
   ]
  },
  {
   "cell_type": "code",
   "execution_count": 2,
   "metadata": {},
   "outputs": [],
   "source": [
    "msg = \"Hello Cam!\"\n",
    "print(msg)"
   ]
  },
  {
   "cell_type": "code",
   "execution_count": 3,
   "metadata": {},
   "outputs": [],
   "source": [
    "#stringCapts.py \n",
    "msg = \"john nash\"\n",
    "print(msg)\n",
    "\n",
    "# ALL CAPS\n",
    "msg_upper = msg.upper()\n",
    "print(msg_upper)\n",
    "\n",
    "#First Letter Of Each Word Capitalized\n",
    "msg_title = msg.title()\n",
    "print(msg_title)"
   ]
  },
  {
   "cell_type": "markdown",
   "metadata": {},
   "source": [
    "We used string methods to capitalize different letters. \n",
    "\n",
    "The method *.upper()* will make the string all caps, *.title()* will capitalize the first letters of each string. "
   ]
  },
  {
   "cell_type": "markdown",
   "metadata": {},
   "source": [
    "## String Concatenation\n",
    "\n",
    "You can concatenate stings using the \"+\" sign. Then that joins them together into on aggregate string. "
   ]
  },
  {
   "cell_type": "code",
   "execution_count": 4,
   "metadata": {},
   "outputs": [],
   "source": [
    "line1 = \"Maybe you think that it's crazy\"\n",
    "line2 = \"Maybe you think that it is silly\"\n",
    "line3 = \"But then you make it better\"\n",
    "line4 = \"By taking the car to LA\"\n",
    "\n",
    "print(line1+line2+line3+line4)"
   ]
  },
  {
   "cell_type": "markdown",
   "metadata": {},
   "source": [
    "The *sep* function in *print()* allows you to determine the character that will be printed in lieu of each comma."
   ]
  },
  {
   "cell_type": "code",
   "execution_count": 7,
   "metadata": {},
   "outputs": [
    {
     "name": "stdout",
     "output_type": "stream",
     "text": [
      "Maybe you think that it's crazy\n",
      "Maybe you think that it is silly\n",
      "But then you make it better\n",
      "By taking the car to LA\n"
     ]
    }
   ],
   "source": [
    "print(line1,line2,line3,line4, sep = \"\\n\")"
   ]
  },
  {
   "cell_type": "markdown",
   "metadata": {},
   "source": [
    "You can also do this by putting \\n between each line"
   ]
  },
  {
   "cell_type": "code",
   "execution_count": 9,
   "metadata": {},
   "outputs": [
    {
     "name": "stdout",
     "output_type": "stream",
     "text": [
      "Maybe you think that it's crazy\n",
      "Maybe you think that it is silly\n",
      "But then you make it better\n",
      "By taking the car to LA\n"
     ]
    }
   ],
   "source": [
    "print(line1+\"\\n\",line2+\"\\n\",line3+\"\\n\",line4, sep=\"\")"
   ]
  },
  {
   "cell_type": "markdown",
   "metadata": {},
   "source": [
    "# Distinction between double and single quotes"
   ]
  },
  {
   "cell_type": "code",
   "execution_count": 10,
   "metadata": {},
   "outputs": [
    {
     "name": "stdout",
     "output_type": "stream",
     "text": [
      "We may use 'single quotes' within double quotes\n",
      "We may use 'double quotes' within single quotes\n",
      "We may use \"double quotes\" in double quotes\n",
      "We may use 'double quotes' in double quotes\n"
     ]
    }
   ],
   "source": [
    "single_in_double = \"We may use 'single quotes' within double quotes\"\n",
    "double_in_single = \"We may use 'double quotes' within single quotes\"\n",
    "double_in_double = \"We may use \\\"double quotes\\\" in double quotes\"\n",
    "single_in_single = 'We may use \\'double quotes\\' in double quotes'\n",
    "\n",
    "print(single_in_double)\n",
    "print(double_in_single)\n",
    "print(double_in_double)\n",
    "print(single_in_single)"
   ]
  },
  {
   "cell_type": "markdown",
   "metadata": {},
   "source": [
    "We are going to add \\n and \\t to the current example."
   ]
  },
  {
   "cell_type": "code",
   "execution_count": 11,
   "metadata": {},
   "outputs": [
    {
     "name": "stdout",
     "output_type": "stream",
     "text": [
      "We may use two backslashes to print a single backslash: \\\n",
      "We may start a new line \n",
      "\tand use tab for a hanging indent\n"
     ]
    }
   ],
   "source": [
    "read_backslash = \\\n",
    "    \"We may use two backslashes to print a single backslash: \\\\\"\n",
    "new_line_and_tab = \\\n",
    "    \"We may start a new line \\n\\tand use tab for a hanging indent\"\n",
    "\n",
    "print(read_backslash)\n",
    "print(new_line_and_tab)"
   ]
  },
  {
   "cell_type": "markdown",
   "metadata": {},
   "source": [
    "# Using .strip() and .replace() string methods\n",
    "\n",
    "Sometimes we may want to transform strings by adding or removing spaces. We can remove space quite easily with the strip() commands.\n",
    "\n",
    "    .lstrip(): remove spaces on the far left\n",
    "    .rstrip(): remove spaces on the far right\n",
    "    .strip(): remove spaces on the left and right of text object"
   ]
  },
  {
   "cell_type": "code",
   "execution_count": 16,
   "metadata": {},
   "outputs": [
    {
     "name": "stdout",
     "output_type": "stream",
     "text": [
      "no spaces removed:\n",
      "       Look at the spaces in the text!       \n",
      "Remove Left Spaces: Look at the spaces in the text!       \n",
      "Remove Rigth Spaces:        Look at the spaces in the text!\n",
      "Remove Left and Right Spaces: Look at the spaces in the text!\n",
      "Remove All Spaces: Lookatthespacesinthetext!\n",
      "Capitalize all first letters: Look At The Spaces In The Text!       \n"
     ]
    }
   ],
   "source": [
    "spaces = \"       Look at the spaces in the text!       \"\n",
    "print(\"no spaces removed:\", spaces, sep = \"\\n\")\n",
    "\n",
    "remove_left_spaces = spaces.lstrip()\n",
    "remove_right_spaces = spaces.rstrip()\n",
    "remove_left_and_right_spaces = spaces.strip()\n",
    "remove_all_spaces = spaces.replace(\" \",\"\")\n",
    "\n",
    "print(\"Remove Left Spaces:\", remove_left_spaces)\n",
    "print(\"Remove Rigth Spaces:\", remove_right_spaces)\n",
    "print(\"Remove Left and Right Spaces:\", remove_left_and_right_spaces)\n",
    "print(\"Remove All Spaces:\", remove_all_spaces)\n",
    "\n",
    "print(\"Capitalize all first letters:\", remove_left_spaces.title())"
   ]
  },
  {
   "cell_type": "markdown",
   "metadata": {},
   "source": [
    "When you do .replace(\"what\", \"with what\") then you can replace characters as we did above."
   ]
  },
  {
   "cell_type": "markdown",
   "metadata": {},
   "source": [
    "# Working with Values\n",
    "\n",
    "Using a plus sign \"+\" between values sums the values. Using the sign between strings concatenates them."
   ]
  },
  {
   "cell_type": "code",
   "execution_count": 19,
   "metadata": {},
   "outputs": [
    {
     "name": "stdout",
     "output_type": "stream",
     "text": [
      "num1: 37 \n",
      "num1s: 1522\n"
     ]
    }
   ],
   "source": [
    "num1 = 15 + 22\n",
    "num1s = \"15\" + \"22\"\n",
    "\n",
    "print(\"num1:\", num1,\"\\nnum1s:\", num1s)"
   ]
  },
  {
   "cell_type": "code",
   "execution_count": 22,
   "metadata": {},
   "outputs": [
    {
     "name": "stdout",
     "output_type": "stream",
     "text": [
      "num1: 1.25\n",
      "num2: 1.6666666666666667\n",
      "num3: 1.3333333333333333\n"
     ]
    }
   ],
   "source": [
    "num1 = 5/4\n",
    "num2 = 5/3\n",
    "num3 = 4/3\n",
    "\n",
    "print(\"num1:\", num1)\n",
    "print(\"num2:\", num2)\n",
    "print(\"num3:\", num3)"
   ]
  },
  {
   "cell_type": "markdown",
   "metadata": {},
   "source": [
    "Python will automatically transform int values if the output if the output from the int generates a float, including when a float and int are added together."
   ]
  },
  {
   "cell_type": "code",
   "execution_count": 23,
   "metadata": {
    "scrolled": true
   },
   "outputs": [
    {
     "data": {
      "text/plain": [
       "float"
      ]
     },
     "execution_count": 23,
     "metadata": {},
     "output_type": "execute_result"
    }
   ],
   "source": [
    "type(num1)"
   ]
  },
  {
   "cell_type": "code",
   "execution_count": 24,
   "metadata": {},
   "outputs": [
    {
     "data": {
      "text/plain": [
       "int"
      ]
     },
     "execution_count": 24,
     "metadata": {},
     "output_type": "execute_result"
    }
   ],
   "source": [
    "type(3)"
   ]
  },
  {
   "cell_type": "code",
   "execution_count": 25,
   "metadata": {},
   "outputs": [
    {
     "data": {
      "text/plain": [
       "3.0"
      ]
     },
     "execution_count": 25,
     "metadata": {},
     "output_type": "execute_result"
    }
   ],
   "source": [
    "float(3)"
   ]
  },
  {
   "cell_type": "code",
   "execution_count": 26,
   "metadata": {},
   "outputs": [
    {
     "data": {
      "text/plain": [
       "6.5"
      ]
     },
     "execution_count": 26,
     "metadata": {},
     "output_type": "execute_result"
    }
   ],
   "source": [
    "2+4.5"
   ]
  },
  {
   "cell_type": "code",
   "execution_count": 27,
   "metadata": {},
   "outputs": [
    {
     "data": {
      "text/plain": [
       "float"
      ]
     },
     "execution_count": 27,
     "metadata": {},
     "output_type": "execute_result"
    }
   ],
   "source": [
    "type(2+4.5)"
   ]
  },
  {
   "cell_type": "markdown",
   "metadata": {},
   "source": [
    "## The *import* command is used to import a module."
   ]
  },
  {
   "cell_type": "code",
   "execution_count": 28,
   "metadata": {},
   "outputs": [
    {
     "data": {
      "text/plain": [
       "sys.float_info(max=1.7976931348623157e+308, max_exp=1024, max_10_exp=308, min=2.2250738585072014e-308, min_exp=-1021, min_10_exp=-307, dig=15, mant_dig=53, epsilon=2.220446049250313e-16, radix=2, rounds=1)"
      ]
     },
     "execution_count": 28,
     "metadata": {},
     "output_type": "execute_result"
    }
   ],
   "source": [
    "import sys\n",
    "sys.float_info"
   ]
  },
  {
   "cell_type": "code",
   "execution_count": 33,
   "metadata": {},
   "outputs": [
    {
     "data": {
      "text/plain": [
       "8.98846567431158e+307"
      ]
     },
     "execution_count": 33,
     "metadata": {},
     "output_type": "execute_result"
    }
   ],
   "source": [
    "2.0**1023"
   ]
  },
  {
   "cell_type": "markdown",
   "metadata": {},
   "source": [
    "### Excede the limits of the data stucture."
   ]
  },
  {
   "cell_type": "code",
   "execution_count": 34,
   "metadata": {
    "scrolled": true
   },
   "outputs": [
    {
     "ename": "OverflowError",
     "evalue": "(34, 'Result too large')",
     "output_type": "error",
     "traceback": [
      "\u001b[0;31m---------------------------------------------------------------------------\u001b[0m",
      "\u001b[0;31mOverflowError\u001b[0m                             Traceback (most recent call last)",
      "\u001b[0;32m<ipython-input-34-ad0936eef388>\u001b[0m in \u001b[0;36m<module>\u001b[0;34m\u001b[0m\n\u001b[0;32m----> 1\u001b[0;31m \u001b[0;36m2.0\u001b[0m\u001b[0;34m**\u001b[0m\u001b[0;36m1024\u001b[0m\u001b[0;34m\u001b[0m\u001b[0;34m\u001b[0m\u001b[0m\n\u001b[0m",
      "\u001b[0;31mOverflowError\u001b[0m: (34, 'Result too large')"
     ]
    }
   ],
   "source": [
    "2.0**1024"
   ]
  },
  {
   "cell_type": "code",
   "execution_count": null,
   "metadata": {},
   "outputs": [],
   "source": []
  }
 ],
 "metadata": {
  "kernelspec": {
   "display_name": "Python 3",
   "language": "python",
   "name": "python3"
  },
  "language_info": {
   "codemirror_mode": {
    "name": "ipython",
    "version": 3
   },
   "file_extension": ".py",
   "mimetype": "text/x-python",
   "name": "python",
   "nbconvert_exporter": "python",
   "pygments_lexer": "ipython3",
   "version": "3.8.3"
  }
 },
 "nbformat": 4,
 "nbformat_minor": 4
}
