{
 "cells": [
  {
   "cell_type": "markdown",
   "metadata": {},
   "source": [
    "# Building Functions"
   ]
  },
  {
   "cell_type": "code",
   "execution_count": 26,
   "metadata": {},
   "outputs": [],
   "source": [
    "def total(lst_obj):\n",
    "    total = 0\n",
    "    n = len(lst_obj)\n",
    "    for i in range(n):\n",
    "        total += lst_obj[i]\n",
    "        #print(i,total)\n",
    "    return total\n",
    "\n",
    "def mean(lst_obj):\n",
    "    n = len(lst_obj)\n",
    "    mean_ = total(lst_obj)/n\n",
    "    #uses the total from the previous thing to get the mean\n",
    "    return mean_\n",
    "\n",
    "def median(lst_obj):\n",
    "    n = len(lst_obj)\n",
    "    lst_obj = sorted(lst_obj)\n",
    "    #lists of even length divided by 2 have reminder 0\n",
    "    if n % 2 != 0:\n",
    "        #list length is odd\n",
    "        middle_index = int((n-1)/2)\n",
    "        median_ = lst_obj[middle_index]\n",
    "    else:\n",
    "        upper_middle_index = int(n/2)\n",
    "        lower_middle_index = upper_middle_index - 1\n",
    "        #pass slice with two middle values to mean()\n",
    "        median_ = mean(lst_obj[lower_middle_index : upper_middle_index +1])\n",
    "    return median_\n",
    "\n",
    "def mode(lst_obj):\n",
    "    max_count = 0\n",
    "    counter_dict = {}\n",
    "    for val in lst_obj:\n",
    "        counter_dict[val] = 0\n",
    "    for val in lst_obj:\n",
    "        counter_dict[val] += 1\n",
    "    count_list = list(counter_dict.values())\n",
    "    max_count = max(count_list)\n",
    "    mode_=[key for key in counter_dict if counter_dict[key] == max_count]\n",
    "    return mode_\n",
    "\n",
    "def variance(lst_obj, sample = False):\n",
    "    list_mean = mean(lst_obj)\n",
    "    n = len(lst_obj)\n",
    "    sum_sq_diff = 0\n",
    "    for val in lst_obj:\n",
    "        sum_sq_diff += (val - list_mean)**2\n",
    "    if sample == False:\n",
    "        variance_ = sum_sq_diff/(n)\n",
    "    else:\n",
    "        variance_ = sum_sq_diff/(n-1)\n",
    "    return variance_\n",
    "\n",
    "def SD(lst_obj, sample = False):\n",
    "    SD_ = variance(lst_obj, sample)**(1/2)\n",
    "    return SD_\n",
    "\n",
    "def covariance(lst_obj1, lst_obj2, sample = False):\n",
    "    mean1 = mean(lst_obj1)\n",
    "    mean2 = mean(lst_obj2)\n",
    "    cov = 0\n",
    "    n1 = len(lst_obj1)\n",
    "    n2 = len(lst_obj2)\n",
    "    if n1 == n2:\n",
    "        n = n1\n",
    "        for i in range(n1):\n",
    "            cov += (lst_obj1[i] - mean1) * (lst_obj2[i]- mean2)\n",
    "        if sample == False:\n",
    "            cov = cov/n\n",
    "        else:\n",
    "            cov = cov/(n-1)\n",
    "        return cov\n",
    "    else:\n",
    "        print(\"List lengths are not equal\")\n",
    "        print(\"List1:\", n1)\n",
    "        print(\"List2:\", n2)"
   ]
  },
  {
   "cell_type": "code",
   "execution_count": 28,
   "metadata": {},
   "outputs": [
    {
     "name": "stdout",
     "output_type": "stream",
     "text": [
      "Total: 361\n",
      "Mean: 15.695652173913043\n",
      "Median: 5\n",
      "Mode: [5]\n",
      "Variance: 628.124763705104\n",
      "Standard Deviation: 25.062417355576535\n"
     ]
    },
    {
     "ename": "TypeError",
     "evalue": "covariance() missing 1 required positional argument: 'lst_obj2'",
     "output_type": "error",
     "traceback": [
      "\u001b[0;31m---------------------------------------------------------------------------\u001b[0m",
      "\u001b[0;31mTypeError\u001b[0m                                 Traceback (most recent call last)",
      "\u001b[0;32m<ipython-input-28-396981382a09>\u001b[0m in \u001b[0;36m<module>\u001b[0;34m\u001b[0m\n\u001b[1;32m      6\u001b[0m \u001b[0mprint\u001b[0m\u001b[0;34m(\u001b[0m\u001b[0;34m\"Variance:\"\u001b[0m\u001b[0;34m,\u001b[0m \u001b[0mvariance\u001b[0m\u001b[0;34m(\u001b[0m\u001b[0mlst\u001b[0m\u001b[0;34m)\u001b[0m\u001b[0;34m)\u001b[0m\u001b[0;34m\u001b[0m\u001b[0;34m\u001b[0m\u001b[0m\n\u001b[1;32m      7\u001b[0m \u001b[0mprint\u001b[0m\u001b[0;34m(\u001b[0m\u001b[0;34m\"Standard Deviation:\"\u001b[0m\u001b[0;34m,\u001b[0m \u001b[0mSD\u001b[0m\u001b[0;34m(\u001b[0m\u001b[0mlst\u001b[0m\u001b[0;34m)\u001b[0m\u001b[0;34m)\u001b[0m\u001b[0;34m\u001b[0m\u001b[0;34m\u001b[0m\u001b[0m\n\u001b[0;32m----> 8\u001b[0;31m \u001b[0mprint\u001b[0m\u001b[0;34m(\u001b[0m\u001b[0;34m\"Covariance:\"\u001b[0m\u001b[0;34m,\u001b[0m \u001b[0mcovariance\u001b[0m\u001b[0;34m(\u001b[0m\u001b[0mlst\u001b[0m\u001b[0;34m)\u001b[0m\u001b[0;34m)\u001b[0m\u001b[0;34m\u001b[0m\u001b[0;34m\u001b[0m\u001b[0m\n\u001b[0m",
      "\u001b[0;31mTypeError\u001b[0m: covariance() missing 1 required positional argument: 'lst_obj2'"
     ]
    }
   ],
   "source": [
    "lst = [5,8,23,9,3,6,3,4,8,5,5,7,5,22,55,76,1,2,4,3,2,6,99]\n",
    "print(\"Total:\",total(lst))\n",
    "print(\"Mean:\", mean(lst))\n",
    "print(\"Median:\",median(lst))\n",
    "print(\"Mode:\", mode(lst))\n",
    "print(\"Variance:\", variance(lst))\n",
    "print(\"Standard Deviation:\", SD(lst))\n",
    "print(\"Covariance:\", covariance(lst))"
   ]
  },
  {
   "cell_type": "code",
   "execution_count": null,
   "metadata": {},
   "outputs": [],
   "source": []
  }
 ],
 "metadata": {
  "kernelspec": {
   "display_name": "Python 3",
   "language": "python",
   "name": "python3"
  },
  "language_info": {
   "codemirror_mode": {
    "name": "ipython",
    "version": 3
   },
   "file_extension": ".py",
   "mimetype": "text/x-python",
   "name": "python",
   "nbconvert_exporter": "python",
   "pygments_lexer": "ipython3",
   "version": "3.8.3"
  }
 },
 "nbformat": 4,
 "nbformat_minor": 4
}
